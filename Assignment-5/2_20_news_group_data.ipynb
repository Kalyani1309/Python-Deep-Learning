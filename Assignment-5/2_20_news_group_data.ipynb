{
  "nbformat": 4,
  "nbformat_minor": 0,
  "metadata": {
    "colab": {
      "name": "2_20_news_group_data.ipynb",
      "provenance": [],
      "collapsed_sections": []
    },
    "kernelspec": {
      "display_name": "Python 3",
      "language": "python",
      "name": "python3"
    },
    "language_info": {
      "codemirror_mode": {
        "name": "ipython",
        "version": 3
      },
      "file_extension": ".py",
      "mimetype": "text/x-python",
      "name": "python",
      "nbconvert_exporter": "python",
      "pygments_lexer": "ipython3",
      "version": "3.8.5"
    }
  },
  "cells": [
    {
      "cell_type": "code",
      "metadata": {
        "id": "PQyAtf6FhhdU"
      },
      "source": [
        "from keras import Sequential\n",
        "import numpy as np\n",
        "from sklearn import preprocessing\n",
        "from keras.preprocessing.text import Tokenizer\n",
        "from sklearn.model_selection import train_test_split\n",
        "from keras.preprocessing.sequence import pad_sequences\n",
        "from keras.layers.embeddings import Embedding\n",
        "from keras.layers import Flatten\n",
        "from keras import layers\n",
        "from sklearn.datasets import fetch_20newsgroups"
      ],
      "execution_count": null,
      "outputs": []
    },
    {
      "cell_type": "markdown",
      "metadata": {
        "id": "QDchOt0bhhdW"
      },
      "source": [
        "# 3. Apply the code on 20_newsgroup data set we worked in the previous classes."
      ]
    },
    {
      "cell_type": "code",
      "metadata": {
        "colab": {
          "base_uri": "https://localhost:8080/"
        },
        "id": "zK9mIfL6hhdX",
        "outputId": "145d9480-0049-45db-d5ec-22507a664491"
      },
      "source": [
        "newsgroups_train = fetch_20newsgroups(subset='train', shuffle=True)\n",
        "sentences = newsgroups_train.data\n",
        "y = newsgroups_train.target\n",
        "print(np.unique(y))"
      ],
      "execution_count": null,
      "outputs": [
        {
          "output_type": "stream",
          "text": [
            "[ 0  1  2  3  4  5  6  7  8  9 10 11 12 13 14 15 16 17 18 19]\n"
          ],
          "name": "stdout"
        }
      ]
    },
    {
      "cell_type": "code",
      "metadata": {
        "id": "mmku89GbhhdY"
      },
      "source": [
        "# tokenizing data\n",
        "tokenizer = Tokenizer(num_words=2000)\n",
        "tokenizer.fit_on_texts(sentences)"
      ],
      "execution_count": null,
      "outputs": []
    },
    {
      "cell_type": "code",
      "metadata": {
        "id": "zSKUREp3hhdY",
        "colab": {
          "base_uri": "https://localhost:8080/"
        },
        "outputId": "b3a7f43c-cec3-420e-ec6d-3df7207ca62e"
      },
      "source": [
        "# getting the vocabulary of data\n",
        "max_review_len= max([len(s.split()) for s in sentences])\n",
        "vocab_size= len(tokenizer.word_index)+1\n",
        "sentences = tokenizer.texts_to_sequences(sentences)\n",
        "padded_docs= pad_sequences(sentences,maxlen=max_review_len)\n",
        "print(padded_docs.shape)"
      ],
      "execution_count": null,
      "outputs": [
        {
          "output_type": "stream",
          "text": [
            "(11314, 11821)\n"
          ],
          "name": "stdout"
        }
      ]
    },
    {
      "cell_type": "code",
      "metadata": {
        "id": "gUCoi9cEhhdY"
      },
      "source": [
        "le = preprocessing.LabelEncoder()\n",
        "y = le.fit_transform(y)\n",
        "X_train, X_test, y_train, y_test = train_test_split(padded_docs, y, test_size=0.25, random_state=1000)"
      ],
      "execution_count": null,
      "outputs": []
    },
    {
      "cell_type": "code",
      "metadata": {
        "colab": {
          "base_uri": "https://localhost:8080/"
        },
        "id": "3i38uu7KhhdY",
        "outputId": "08a9485e-22a7-465b-e942-411f2d534944"
      },
      "source": [
        "model = Sequential()\n",
        "model.add(Embedding(vocab_size, 50, input_length=max_review_len))\n",
        "model.add(Flatten())\n",
        "model.add(layers.Dense(300, activation='relu'))\n",
        "model.add(layers.Dense(20, activation='softmax'))\n",
        "model.compile(loss='sparse_categorical_crossentropy',optimizer='adam',metrics=['acc'])\n",
        "history=model.fit(X_train,y_train, epochs=2, verbose=True, validation_data=(X_test,y_test), batch_size=512)"
      ],
      "execution_count": null,
      "outputs": [
        {
          "output_type": "stream",
          "text": [
            "Epoch 1/2\n",
            "17/17 [==============================] - 221s 12s/step - loss: 18.7742 - acc: 0.0497 - val_loss: 8.6215 - val_acc: 0.0555\n",
            "Epoch 2/2\n",
            "17/17 [==============================] - 203s 12s/step - loss: 5.4835 - acc: 0.0544 - val_loss: 3.0186 - val_acc: 0.0573\n"
          ],
          "name": "stdout"
        }
      ]
    },
    {
      "cell_type": "code",
      "metadata": {
        "colab": {
          "base_uri": "https://localhost:8080/"
        },
        "id": "SDdl0Yt0hhdZ",
        "outputId": "b9147227-9208-4c07-b01a-0eb2f3674750"
      },
      "source": [
        "model.summary()"
      ],
      "execution_count": null,
      "outputs": [
        {
          "output_type": "stream",
          "text": [
            "Model: \"sequential\"\n",
            "_________________________________________________________________\n",
            "Layer (type)                 Output Shape              Param #   \n",
            "=================================================================\n",
            "embedding (Embedding)        (None, 11821, 50)         6707150   \n",
            "_________________________________________________________________\n",
            "flatten (Flatten)            (None, 591050)            0         \n",
            "_________________________________________________________________\n",
            "dense (Dense)                (None, 300)               177315300 \n",
            "_________________________________________________________________\n",
            "dense_1 (Dense)              (None, 20)                6020      \n",
            "=================================================================\n",
            "Total params: 184,028,470\n",
            "Trainable params: 184,028,470\n",
            "Non-trainable params: 0\n",
            "_________________________________________________________________\n"
          ],
          "name": "stdout"
        }
      ]
    },
    {
      "cell_type": "code",
      "metadata": {
        "colab": {
          "base_uri": "https://localhost:8080/"
        },
        "id": "HlJjePHbhhdZ",
        "outputId": "fccc0cc7-db2f-4613-9054-759017dcc30b"
      },
      "source": [
        "[test_loss, test_acc] = model.evaluate(X_test,y_test)\n",
        "print(\"Evaluation result on Test Data : Loss = {}, accuracy = {}\".format(test_loss, test_acc))"
      ],
      "execution_count": null,
      "outputs": [
        {
          "output_type": "stream",
          "text": [
            "89/89 [==============================] - 27s 293ms/step - loss: 3.0186 - acc: 0.0573\n",
            "Evaluation result on Test Data : Loss = 3.0186126232147217, accuracy = 0.0572640523314476\n"
          ],
          "name": "stdout"
        }
      ]
    }
  ]
}
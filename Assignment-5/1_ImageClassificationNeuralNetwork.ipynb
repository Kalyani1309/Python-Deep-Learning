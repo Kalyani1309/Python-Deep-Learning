{
 "cells": [
  {
   "cell_type": "markdown",
   "metadata": {
    "id": "OfI1eOEvnr2f"
   },
   "source": [
    "**From uper Menu choose:**\n",
    "---\n",
    "Runtime --> Change runtime type:\n",
    "---\n",
    "change Hardare accelerator to (gpu)"
   ]
  },
  {
   "cell_type": "code",
   "execution_count": null,
   "metadata": {
    "id": "Ry7NRUf0llQ8"
   },
   "outputs": [],
   "source": [
    "from keras import Sequential\n",
    "from keras.datasets import mnist\n",
    "import numpy as np\n",
    "from keras.layers import Dense\n",
    "from tensorflow.keras.utils import to_categorical"
   ]
  },
  {
   "cell_type": "code",
   "execution_count": null,
   "metadata": {
    "id": "XReLyY3jlr-R"
   },
   "outputs": [],
   "source": [
    "(train_images,train_labels),(test_images, test_labels) = mnist.load_data()"
   ]
  },
  {
   "cell_type": "code",
   "execution_count": null,
   "metadata": {
    "colab": {
     "base_uri": "https://localhost:8080/"
    },
    "id": "RrEOE2a_luF1",
    "outputId": "271af17f-1d0c-4536-a3da-072ea2df71c8"
   },
   "outputs": [
    {
     "name": "stdout",
     "output_type": "stream",
     "text": [
      "<class 'numpy.ndarray'>\n",
      "(60000, 28, 28)\n",
      "(28, 28)\n"
     ]
    }
   ],
   "source": [
    "print(type(train_images))\n",
    "print(train_images.shape)\n",
    "print(train_images[251].shape)"
   ]
  },
  {
   "cell_type": "markdown",
   "metadata": {
    "id": "oi1noKXWl0E4"
   },
   "source": [
    "# process the data\n",
    "# convert each image of shape 28*28 to 784 dimensional which will be fed to the network as a single feature"
   ]
  },
  {
   "cell_type": "code",
   "execution_count": null,
   "metadata": {
    "colab": {
     "base_uri": "https://localhost:8080/"
    },
    "id": "3KcvF2qFlwhr",
    "outputId": "6afe500b-5f4c-45a8-e313-c32a8c70a4d2"
   },
   "outputs": [
    {
     "name": "stdout",
     "output_type": "stream",
     "text": [
      "784\n",
      "(60000, 784)\n"
     ]
    }
   ],
   "source": [
    "dimData = np.prod(train_images.shape[1:])\n",
    "print(dimData)\n",
    "train_data = train_images.reshape(train_images.shape[0],dimData)\n",
    "test_data = test_images.reshape(test_images.shape[0],dimData)\n",
    "print(train_data.shape)"
   ]
  },
  {
   "cell_type": "markdown",
   "metadata": {
    "id": "CI3BKhj0l3fd"
   },
   "source": [
    "# convert data to float and scale values between 0 and 1"
   ]
  },
  {
   "cell_type": "code",
   "execution_count": null,
   "metadata": {
    "id": "G_XcNfVfl1jH"
   },
   "outputs": [],
   "source": [
    "train_data = train_data.astype('float')\n",
    "test_data = test_data.astype('float')"
   ]
  },
  {
   "cell_type": "markdown",
   "metadata": {
    "id": "ODdo3u8Ql8c8"
   },
   "source": [
    "# scale data"
   ]
  },
  {
   "cell_type": "code",
   "execution_count": null,
   "metadata": {
    "id": "nky9C9FMl7BU"
   },
   "outputs": [],
   "source": [
    "train_data /=255.0\n",
    "test_data /=255.0"
   ]
  },
  {
   "cell_type": "markdown",
   "metadata": {
    "id": "PVc9dRURl_oo"
   },
   "source": [
    "# change the labels from integer to one-hot encoding. to_categorical is doing the same thing as LabelEncoder()"
   ]
  },
  {
   "cell_type": "code",
   "execution_count": null,
   "metadata": {
    "id": "iGTKxNyYl-nE"
   },
   "outputs": [],
   "source": [
    "train_labels_one_hot = to_categorical(train_labels)\n",
    "\n",
    "test_labels_one_hot = to_categorical(test_labels)"
   ]
  },
  {
   "cell_type": "code",
   "execution_count": null,
   "metadata": {
    "colab": {
     "base_uri": "https://localhost:8080/"
    },
    "id": "t8ep_1n73_QK",
    "outputId": "bb337c27-f715-4016-bafe-e82c1663ee74"
   },
   "outputs": [
    {
     "name": "stdout",
     "output_type": "stream",
     "text": [
      "[0. 0. 0. 0. 0. 1. 0. 0. 0. 0.]\n"
     ]
    }
   ],
   "source": [
    "print(train_labels_one_hot[0])"
   ]
  },
  {
   "cell_type": "markdown",
   "metadata": {
    "id": "1YFoN0z6mEbR"
   },
   "source": [
    "# creating network"
   ]
  },
  {
   "cell_type": "code",
   "execution_count": null,
   "metadata": {
    "id": "9ui43p57mCgk"
   },
   "outputs": [],
   "source": [
    "model = Sequential()\n",
    "model.add(Dense(512, activation='relu', input_shape=(dimData,)))\n",
    "model.add(Dense(512, activation='relu'))\n",
    "model.add(Dense(10, activation='softmax'))"
   ]
  },
  {
   "cell_type": "code",
   "execution_count": null,
   "metadata": {
    "colab": {
     "base_uri": "https://localhost:8080/"
    },
    "id": "EIRR22g8x2O6",
    "outputId": "6069208b-cb64-43a4-ff1e-af43824f5cf9"
   },
   "outputs": [
    {
     "name": "stdout",
     "output_type": "stream",
     "text": [
      "Model: \"sequential_8\"\n",
      "_________________________________________________________________\n",
      "Layer (type)                 Output Shape              Param #   \n",
      "=================================================================\n",
      "dense_54 (Dense)             (None, 512)               401920    \n",
      "_________________________________________________________________\n",
      "dense_55 (Dense)             (None, 512)               262656    \n",
      "_________________________________________________________________\n",
      "dense_56 (Dense)             (None, 10)                5130      \n",
      "=================================================================\n",
      "Total params: 669,706\n",
      "Trainable params: 669,706\n",
      "Non-trainable params: 0\n",
      "_________________________________________________________________\n"
     ]
    }
   ],
   "source": [
    "model.summary()"
   ]
  },
  {
   "cell_type": "markdown",
   "metadata": {
    "id": "538_9WbGmp5a"
   },
   "source": [
    "# Compile model"
   ]
  },
  {
   "cell_type": "code",
   "execution_count": null,
   "metadata": {
    "id": "ck4tEWPMmG0j"
   },
   "outputs": [],
   "source": [
    "model.compile(optimizer='adam', loss='categorical_crossentropy', metrics=['accuracy'])"
   ]
  },
  {
   "cell_type": "markdown",
   "metadata": {
    "id": "Rs3XmHWgx8LS"
   },
   "source": [
    "# Fit model"
   ]
  },
  {
   "cell_type": "code",
   "execution_count": null,
   "metadata": {
    "id": "rsNP_elemr_i"
   },
   "outputs": [],
   "source": [
    "history = model.fit(train_data, train_labels_one_hot, batch_size=256, epochs=10, verbose=0)"
   ]
  },
  {
   "cell_type": "code",
   "execution_count": null,
   "metadata": {
    "colab": {
     "base_uri": "https://localhost:8080/"
    },
    "id": "IeuAQkBSFjwZ",
    "outputId": "025375cc-ffb1-48ed-dc2e-2897959f1643"
   },
   "outputs": [
    {
     "name": "stdout",
     "output_type": "stream",
     "text": [
      "313/313 [==============================] - 1s 2ms/step - loss: 0.1537 - accuracy: 0.9749\n",
      "Existing model Evaluation result on Test Data : Loss = 0.15368682146072388, accuracy = 0.9749000072479248\n"
     ]
    }
   ],
   "source": [
    "[test_loss, test_acc] = model2.evaluate(test_data, test_labels_one_hot)\n",
    "print(\"Existing model Evaluation result on Test Data : Loss = {}, accuracy = {}\".format(test_loss, test_acc))"
   ]
  },
  {
   "cell_type": "code",
   "execution_count": null,
   "metadata": {
    "colab": {
     "base_uri": "https://localhost:8080/",
     "height": 295
    },
    "id": "8m3IoHX0Co2T",
    "outputId": "d8e58efe-38e6-42d4-e4cd-ac7dd7757a22"
   },
   "outputs": [
    {
     "data": {
      "image/png": "[encoded data removed]",
      "text/plain": [
       "<Figure size 432x288 with 1 Axes>"
      ]
     },
     "metadata": {
      "needs_background": "light",
      "tags": []
     },
     "output_type": "display_data"
    }
   ],
   "source": [
    "import matplotlib.pyplot as plt\n",
    "\n",
    "plt.plot(history.history['loss'])\n",
    "plt.title('Model Loss')\n",
    "plt.ylabel('Loss')\n",
    "plt.xlabel('Epoch')\n",
    "plt.legend(['Train'], loc='upper right')\n",
    "plt.show()"
   ]
  },
  {
   "cell_type": "code",
   "execution_count": null,
   "metadata": {
    "colab": {
     "base_uri": "https://localhost:8080/",
     "height": 295
    },
    "id": "ONLcjuv3yeqS",
    "outputId": "ca010151-3f39-4f8e-e5fa-8a28835cf742"
   },
   "outputs": [
    {
     "data": {
      "image/png": "[encoded data removed]",
      "text/plain": [
       "<Figure size 432x288 with 1 Axes>"
      ]
     },
     "metadata": {
      "needs_background": "light",
      "tags": []
     },
     "output_type": "display_data"
    }
   ],
   "source": [
    "plt.plot(history.history['accuracy'])\n",
    "plt.title('Model accuracy')\n",
    "plt.ylabel('Accuracy')\n",
    "plt.xlabel('Epoch')\n",
    "plt.legend(['Train'], loc='upper left')\n",
    "plt.show()"
   ]
  },
  {
   "cell_type": "code",
   "execution_count": null,
   "metadata": {
    "colab": {
     "base_uri": "https://localhost:8080/",
     "height": 282
    },
    "id": "HGQS6dSF-7ZY",
    "outputId": "74382de9-e29a-4f51-9aae-8f9834dc7c4c"
   },
   "outputs": [
    {
     "data": {
      "text/plain": [
       "<matplotlib.image.AxesImage at 0x7fb9a2752dd0>"
      ]
     },
     "execution_count": 124,
     "metadata": {
      "tags": []
     },
     "output_type": "execute_result"
    },
    {
     "data": {
      "image/png": "[encoded data removed]",
      "text/plain": [
       "<Figure size 432x288 with 1 Axes>"
      ]
     },
     "metadata": {
      "needs_background": "light",
      "tags": []
     },
     "output_type": "display_data"
    }
   ],
   "source": [
    "# plt.imshow(test_data[0].reshape([28,28])) # test_images.reshape(test_images.shape[0],dimData)\n",
    "plt.imshow(test_images[1])"
   ]
  },
  {
   "cell_type": "code",
   "execution_count": null,
   "metadata": {
    "id": "BDSgsMaR_52G"
   },
   "outputs": [],
   "source": [
    "res = model.predict(test_data[1:2])"
   ]
  },
  {
   "cell_type": "code",
   "execution_count": null,
   "metadata": {
    "colab": {
     "base_uri": "https://localhost:8080/"
    },
    "id": "2zY6OZMvA-Mj",
    "outputId": "06f275f2-decd-4ba2-84d8-feabac0b1198"
   },
   "outputs": [
    {
     "name": "stdout",
     "output_type": "stream",
     "text": [
      "2\n"
     ]
    }
   ],
   "source": [
    "# print(res)\n",
    "print(res.argmax()) # Returns the indices of the maximum values along an axis."
   ]
  },
  {
   "cell_type": "markdown",
   "metadata": {
    "id": "npbpfP4e8VHk"
   },
   "source": [
    "## We had used 2 hidden layers and relu activation\n",
    "# 1. Change the number of hidden layers and the activation to tanh or sigmoid and report what happens."
   ]
  },
  {
   "cell_type": "code",
   "execution_count": null,
   "metadata": {
    "id": "iXAgMwsx8VHk"
   },
   "outputs": [],
   "source": [
    "model2 = Sequential()\n",
    "model2.add(Dense(512, activation='relu', input_shape=(dimData,)))\n",
    "model2.add(Dense(512, activation='relu'))\n",
    "\n",
    "# Adding hidden layers with different activation function\n",
    "model2.add(Dense(450, activation='tanh'))\n",
    "model2.add(Dense(650, activation='tanh'))\n",
    "\n",
    "model2.add(Dense(10, activation='softmax'))"
   ]
  },
  {
   "cell_type": "code",
   "execution_count": null,
   "metadata": {
    "colab": {
     "base_uri": "https://localhost:8080/"
    },
    "id": "-DGvx-688VHk",
    "outputId": "c10e906f-d182-46de-83fa-6d3d64a89ff7"
   },
   "outputs": [
    {
     "name": "stdout",
     "output_type": "stream",
     "text": [
      "Model: \"sequential_9\"\n",
      "_________________________________________________________________\n",
      "Layer (type)                 Output Shape              Param #   \n",
      "=================================================================\n",
      "dense_57 (Dense)             (None, 512)               401920    \n",
      "_________________________________________________________________\n",
      "dense_58 (Dense)             (None, 512)               262656    \n",
      "_________________________________________________________________\n",
      "dense_59 (Dense)             (None, 450)               230850    \n",
      "_________________________________________________________________\n",
      "dense_60 (Dense)             (None, 650)               293150    \n",
      "_________________________________________________________________\n",
      "dense_61 (Dense)             (None, 10)                6510      \n",
      "=================================================================\n",
      "Total params: 1,195,086\n",
      "Trainable params: 1,195,086\n",
      "Non-trainable params: 0\n",
      "_________________________________________________________________\n"
     ]
    }
   ],
   "source": [
    "model2.summary()"
   ]
  },
  {
   "cell_type": "code",
   "execution_count": null,
   "metadata": {
    "id": "VPVJPGl48VHk"
   },
   "outputs": [],
   "source": [
    "model2.compile(optimizer='rmsprop', loss='categorical_crossentropy', metrics=['accuracy'])"
   ]
  },
  {
   "cell_type": "code",
   "execution_count": null,
   "metadata": {
    "id": "q044qvTG8VHk"
   },
   "outputs": [],
   "source": [
    "history = model2.fit(train_data, train_labels_one_hot, \n",
    "                     validation_data=(test_data, test_labels_one_hot), \n",
    "                     batch_size=256, epochs=20, verbose=0)"
   ]
  },
  {
   "cell_type": "markdown",
   "metadata": {
    "id": "8O6rmS9rHY4Q"
   },
   "source": [
    "## Model accuracy after adding hidden layers with different activation functions."
   ]
  },
  {
   "cell_type": "code",
   "execution_count": null,
   "metadata": {
    "colab": {
     "base_uri": "https://localhost:8080/"
    },
    "id": "Ly3bCFOH8VHl",
    "outputId": "7ac4bc08-8c70-4e5a-e142-6074cfddbe99"
   },
   "outputs": [
    {
     "name": "stdout",
     "output_type": "stream",
     "text": [
      "313/313 [==============================] - 1s 2ms/step - loss: 0.1368 - accuracy: 0.9788\n",
      "Evaluation result on Test Data with added hidden layers with different activation function : Loss = 0.13680972158908844, accuracy = 0.9787999987602234\n"
     ]
    }
   ],
   "source": [
    "[test_loss, test_acc] = model2.evaluate(test_data, test_labels_one_hot)\n",
    "print(\"Evaluation result on Test Data with added hidden layers with different activation function : Loss = {}, accuracy = {}\".format(test_loss, test_acc))"
   ]
  },
  {
   "cell_type": "markdown",
   "metadata": {
    "id": "s8KlHlZXHipx"
   },
   "source": [
    "## We see that there is an **slight increase** in the accuracy after adding hidden layers."
   ]
  },
  {
   "cell_type": "markdown",
   "metadata": {
    "id": "vAUjpvL98VHl"
   },
   "source": [
    "#2. Using the history object in the source code, plot the loss and accuracy for both training data and validation data."
   ]
  },
  {
   "cell_type": "markdown",
   "metadata": {
    "id": "op9h7vmy8VHl"
   },
   "source": [
    "## Model Accuracy"
   ]
  },
  {
   "cell_type": "code",
   "execution_count": null,
   "metadata": {
    "colab": {
     "base_uri": "https://localhost:8080/",
     "height": 295
    },
    "id": "M6vWg7G28VHl",
    "outputId": "8d952cbe-8331-49f3-d535-7dbf310a0346"
   },
   "outputs": [
    {
     "data": {
      "image/png": "[encoded data removed]",
      "text/plain": [
       "<Figure size 432x288 with 1 Axes>"
      ]
     },
     "metadata": {
      "needs_background": "light",
      "tags": []
     },
     "output_type": "display_data"
    }
   ],
   "source": [
    "plt.plot(history.history['accuracy'])\n",
    "plt.plot(history.history['val_accuracy'])\n",
    "plt.title('Model Accuracy')\n",
    "plt.ylabel('Accuracy')\n",
    "plt.xlabel('Epoch')\n",
    "plt.legend(['Train', 'Test'], loc='lower right')\n",
    "plt.show()"
   ]
  },
  {
   "cell_type": "markdown",
   "metadata": {
    "id": "N8YFXbOe8VHm"
   },
   "source": [
    "## Model Loss"
   ]
  },
  {
   "cell_type": "code",
   "execution_count": null,
   "metadata": {
    "colab": {
     "base_uri": "https://localhost:8080/",
     "height": 295
    },
    "id": "MXKmLybF8VHm",
    "outputId": "96e6c04e-7337-4b6f-955f-41f5816dd705"
   },
   "outputs": [
    {
     "data": {
      "image/png": "[encoded data removed]",
      "text/plain": [
       "<Figure size 432x288 with 1 Axes>"
      ]
     },
     "metadata": {
      "needs_background": "light",
      "tags": []
     },
     "output_type": "display_data"
    }
   ],
   "source": [
    "plt.plot(history.history['loss'])\n",
    "plt.plot(history.history['val_loss'])\n",
    "plt.title('Model Loss')\n",
    "plt.ylabel('Loss')\n",
    "plt.xlabel('Epoch')\n",
    "plt.legend(['Train', 'Test'], loc='upper right')\n",
    "plt.show()"
   ]
  },
  {
   "cell_type": "markdown",
   "metadata": {
    "id": "6lmjchXN8VHm"
   },
   "source": [
    "# 3. Plot one of the images in the test data, and then do inferencing to check what is the prediction of the model on that single image in the test data."
   ]
  },
  {
   "cell_type": "code",
   "execution_count": null,
   "metadata": {
    "colab": {
     "base_uri": "https://localhost:8080/",
     "height": 386
    },
    "id": "IaMxpwcH8VHm",
    "outputId": "81cc7c60-2f38-4753-e07f-66130d2403dc"
   },
   "outputs": [
    {
     "name": "stdout",
     "output_type": "stream",
     "text": [
      "[[3.4511171e-08 5.5249341e-08 9.7293105e-07 1.2604666e-07 9.9998772e-01\n",
      "  1.0615539e-07 3.8313559e-08 1.5972914e-06 4.3970320e-07 8.8305887e-06]]\n",
      "[4]\n"
     ]
    },
    {
     "name": "stderr",
     "output_type": "stream",
     "text": [
      "/usr/local/lib/python3.7/dist-packages/keras/engine/sequential.py:450: UserWarning: `model.predict_classes()` is deprecated and will be removed after 2021-01-01. Please use instead:* `np.argmax(model.predict(x), axis=-1)`,   if your model does multi-class classification   (e.g. if it uses a `softmax` last-layer activation).* `(model.predict(x) > 0.5).astype(\"int32\")`,   if your model does binary classification   (e.g. if it uses a `sigmoid` last-layer activation).\n",
      "  warnings.warn('`model.predict_classes()` is deprecated and '\n"
     ]
    },
    {
     "data": {
      "image/png": "[encoded data removed]",
      "text/plain": [
       "<Figure size 432x288 with 1 Axes>"
      ]
     },
     "metadata": {
      "needs_background": "light",
      "tags": []
     },
     "output_type": "display_data"
    }
   ],
   "source": [
    "# Loading and predicting the image using the test data\n",
    "pred = model2.predict(test_data[[27], :], batch_size=1)\n",
    "print(pred)\n",
    "\n",
    "# print the class of prediction\n",
    "pred_class = model2.predict_classes(test_data[[27], :])\n",
    "print(pred_class)\n",
    "\n",
    "# plot image and its prediction by model\n",
    "plt.imshow(test_images[27].reshape((28, 28)), cmap='gray')\n",
    "plt.title(\"This is: \" + str(pred_class[0]))\n",
    "plt.show()"
   ]
  },
  {
   "cell_type": "markdown",
   "metadata": {
    "id": "Bw-Eokfd8VHm"
   },
   "source": [
    "# 4. Convert the sequential model to API model"
   ]
  },
  {
   "cell_type": "code",
   "execution_count": null,
   "metadata": {
    "id": "Lao1WleU8VHn"
   },
   "outputs": [],
   "source": [
    "from keras.layers import Input, Reshape, Concatenate\n",
    "from keras.layers import Dense, Flatten\n",
    "from keras.models import Model\n",
    "\n",
    "(x_train_full, y_train_full), (x_test, y_test) = mnist.load_data()\n",
    "\n",
    "X_valid, X_train = x_train_full[:5000] / 255.0, x_train_full[5000:] / 255.0\n",
    "y_valid, y_train = y_train_full[:5000], y_train_full[5000:]\n",
    "\n",
    "input_ = Input(shape=[28, 28])\n",
    "flatten = Flatten(input_shape=[28, 28])(input_)\n",
    "hidden1 = Dense(2**14, activation=\"relu\")(flatten)\n",
    "hidden2 = Dense(512, activation='relu')(hidden1)\n",
    "hidden3 = Dense(28*28, activation='relu')(hidden2)\n",
    "reshap = Reshape((28, 28))(hidden3)\n",
    "concat_ = Concatenate()([input_, reshap])\n",
    "flatten2 = Flatten(input_shape=[28, 28])(concat_)\n",
    "output = Dense(10, activation='softmax')(flatten2)\n",
    "model_func = Model(inputs=[input_], outputs=[output] )"
   ]
  },
  {
   "cell_type": "code",
   "execution_count": null,
   "metadata": {
    "colab": {
     "base_uri": "https://localhost:8080/"
    },
    "id": "ehLcR4GmBmiE",
    "outputId": "080cd70d-660f-45a9-ce04-2306b82122c5"
   },
   "outputs": [
    {
     "name": "stdout",
     "output_type": "stream",
     "text": [
      "Epoch 1/10\n",
      "1719/1719 [==============================] - 8s 5ms/step - loss: 0.9577 - accuracy: 0.7684 - val_loss: 0.2873 - val_accuracy: 0.9208\n",
      "Epoch 2/10\n",
      "1719/1719 [==============================] - 7s 4ms/step - loss: 0.2886 - accuracy: 0.9181 - val_loss: 0.2167 - val_accuracy: 0.9414\n",
      "Epoch 3/10\n",
      "1719/1719 [==============================] - 7s 4ms/step - loss: 0.2172 - accuracy: 0.9372 - val_loss: 0.1783 - val_accuracy: 0.9526\n",
      "Epoch 4/10\n",
      "1719/1719 [==============================] - 7s 4ms/step - loss: 0.1692 - accuracy: 0.9518 - val_loss: 0.1465 - val_accuracy: 0.9602\n",
      "Epoch 5/10\n",
      "1719/1719 [==============================] - 8s 4ms/step - loss: 0.1395 - accuracy: 0.9611 - val_loss: 0.1224 - val_accuracy: 0.9666\n",
      "Epoch 6/10\n",
      "1719/1719 [==============================] - 8s 4ms/step - loss: 0.1115 - accuracy: 0.9687 - val_loss: 0.1125 - val_accuracy: 0.9704\n",
      "Epoch 7/10\n",
      "1719/1719 [==============================] - 8s 4ms/step - loss: 0.0932 - accuracy: 0.9739 - val_loss: 0.0966 - val_accuracy: 0.9730\n",
      "Epoch 8/10\n",
      "1719/1719 [==============================] - 8s 4ms/step - loss: 0.0813 - accuracy: 0.9762 - val_loss: 0.0905 - val_accuracy: 0.9746\n",
      "Epoch 9/10\n",
      "1719/1719 [==============================] - 8s 5ms/step - loss: 0.0681 - accuracy: 0.9807 - val_loss: 0.0860 - val_accuracy: 0.9760\n",
      "Epoch 10/10\n",
      "1719/1719 [==============================] - 8s 4ms/step - loss: 0.0594 - accuracy: 0.9840 - val_loss: 0.0781 - val_accuracy: 0.9784\n"
     ]
    }
   ],
   "source": [
    "model_func.compile(loss=\"sparse_categorical_crossentropy\", optimizer=\"sgd\",\n",
    "              metrics=[\"accuracy\"])\n",
    "h = model_func.fit(X_train, y_train, epochs=10, validation_data=(X_valid, y_valid))"
   ]
  },
  {
   "cell_type": "code",
   "execution_count": null,
   "metadata": {
    "colab": {
     "base_uri": "https://localhost:8080/"
    },
    "id": "f6KtI1kY8VHn",
    "outputId": "85f6163b-99fe-4aea-bc0e-aec7f0898248"
   },
   "outputs": [
    {
     "name": "stdout",
     "output_type": "stream",
     "text": [
      "Model: \"model_5\"\n",
      "__________________________________________________________________________________________________\n",
      "Layer (type)                    Output Shape         Param #     Connected to                     \n",
      "==================================================================================================\n",
      "input_7 (InputLayer)            [(None, 28, 28)]     0                                            \n",
      "__________________________________________________________________________________________________\n",
      "flatten_11 (Flatten)            (None, 784)          0           input_7[0][0]                    \n",
      "__________________________________________________________________________________________________\n",
      "dense_62 (Dense)                (None, 16384)        12861440    flatten_11[0][0]                 \n",
      "__________________________________________________________________________________________________\n",
      "dense_63 (Dense)                (None, 512)          8389120     dense_62[0][0]                   \n",
      "__________________________________________________________________________________________________\n",
      "dense_64 (Dense)                (None, 784)          402192      dense_63[0][0]                   \n",
      "__________________________________________________________________________________________________\n",
      "reshape_5 (Reshape)             (None, 28, 28)       0           dense_64[0][0]                   \n",
      "__________________________________________________________________________________________________\n",
      "concatenate_5 (Concatenate)     (None, 28, 56)       0           input_7[0][0]                    \n",
      "                                                                 reshape_5[0][0]                  \n",
      "__________________________________________________________________________________________________\n",
      "flatten_12 (Flatten)            (None, 1568)         0           concatenate_5[0][0]              \n",
      "__________________________________________________________________________________________________\n",
      "dense_65 (Dense)                (None, 10)           15690       flatten_12[0][0]                 \n",
      "==================================================================================================\n",
      "Total params: 21,668,442\n",
      "Trainable params: 21,668,442\n",
      "Non-trainable params: 0\n",
      "__________________________________________________________________________________________________\n"
     ]
    }
   ],
   "source": [
    "model_func.summary()"
   ]
  },
  {
   "cell_type": "markdown",
   "metadata": {
    "id": "v-E5-muEINW8"
   },
   "source": [
    "## API Model Accuracy"
   ]
  },
  {
   "cell_type": "code",
   "execution_count": null,
   "metadata": {
    "colab": {
     "base_uri": "https://localhost:8080/"
    },
    "id": "ckP1eVmLD6RO",
    "outputId": "7a7ac463-012a-461f-8cd9-bed7f72ee49d"
   },
   "outputs": [
    {
     "name": "stdout",
     "output_type": "stream",
     "text": [
      "157/157 [==============================] - 0s 2ms/step - loss: 0.0781 - accuracy: 0.9784\n",
      "API Model Evaluation result on Test Data : Loss = 0.07809698581695557, accuracy = 0.9783999919891357\n"
     ]
    }
   ],
   "source": [
    "[test_loss, test_acc] = model_func.evaluate(X_valid, y_valid)\n",
    "print(\"API Model Evaluation result on Test Data : Loss = {}, accuracy = {}\".format(test_loss, test_acc))"
   ]
  },
  {
   "cell_type": "markdown",
   "metadata": {
    "id": "7XDUpr8MIWWB"
   },
   "source": [
    "## We see that **accuracy of the API Model has increased compared to Sequential model.**"
   ]
  },
  {
   "cell_type": "code",
   "execution_count": null,
   "metadata": {
    "colab": {
     "base_uri": "https://localhost:8080/",
     "height": 350
    },
    "id": "OvDw1qg9Brww",
    "outputId": "ee43cca6-7ff6-4726-8eb5-d5f2214aa738"
   },
   "outputs": [
    {
     "data": {
      "image/png": "[encoded data removed]",
      "text/plain": [
       "<Figure size 576x360 with 1 Axes>"
      ]
     },
     "metadata": {
      "needs_background": "light",
      "tags": []
     },
     "output_type": "display_data"
    }
   ],
   "source": [
    "import pandas as pd\n",
    "\n",
    "pd.DataFrame(h.history).plot(figsize=(8, 5))\n",
    "plt.grid(True)\n",
    "plt.title('Model Accuracy and Loss for Train and Validation data')\n",
    "plt.ylabel('Accuracy/ Loss')\n",
    "plt.xlabel('Epoch')\n",
    "plt.gca().set_ylim(0, 1) \n",
    "plt.show()"
   ]
  },
  {
   "cell_type": "markdown",
   "metadata": {
    "id": "pKE5XoMe8VHn"
   },
   "source": [
    "# 5. Run the same code without scaling the images and check for accuracy changes"
   ]
  },
  {
   "cell_type": "code",
   "execution_count": null,
   "metadata": {
    "colab": {
     "base_uri": "https://localhost:8080/"
    },
    "id": "aJsQxwoE8VHo",
    "outputId": "ced64d5d-bd3f-4fb2-df00-e3b33a40a27c"
   },
   "outputs": [
    {
     "name": "stdout",
     "output_type": "stream",
     "text": [
      "784\n"
     ]
    }
   ],
   "source": [
    "(train_images,train_labels),(test_images, test_labels) = mnist.load_data()\n",
    "\n",
    "dimData = np.prod(train_images.shape[1:])\n",
    "print(dimData)\n",
    "train_data = train_images.reshape(train_images.shape[0],dimData)\n",
    "test_data = test_images.reshape(test_images.shape[0],dimData)\n",
    "\n",
    "train_data = train_data.astype('float')\n",
    "test_data = test_data.astype('float')\n",
    "\n",
    "train_labels_one_hot = to_categorical(train_labels)\n",
    "test_labels_one_hot = to_categorical(test_labels)\n",
    "\n",
    "model3 = Sequential()\n",
    "model3.add(Dense(512, activation='relu', input_shape=(dimData,)))\n",
    "model3.add(Dense(512, activation='relu'))\n",
    "\n",
    "# Adding hidden layers with different activation function\n",
    "model3.add(Dense(450, activation='tanh'))\n",
    "model3.add(Dense(650, activation='tanh'))\n",
    "\n",
    "model3.add(Dense(10, activation='softmax'))\n",
    "\n",
    "model3.compile(optimizer='adam', loss='categorical_crossentropy', metrics=['accuracy'])"
   ]
  },
  {
   "cell_type": "code",
   "execution_count": null,
   "metadata": {
    "id": "fiAv_Lzx_aK-"
   },
   "outputs": [],
   "source": [
    "history = model3.fit(train_data, train_labels_one_hot, \n",
    "                     validation_data=(test_data, test_labels_one_hot), \n",
    "                     batch_size=256, epochs=20, verbose=0)"
   ]
  },
  {
   "cell_type": "markdown",
   "metadata": {
    "id": "EZ0q_-GjIA7H"
   },
   "source": [
    "## Model Accuracy without scaling data"
   ]
  },
  {
   "cell_type": "code",
   "execution_count": null,
   "metadata": {
    "colab": {
     "base_uri": "https://localhost:8080/"
    },
    "id": "0V-dQIsY_aLI",
    "outputId": "6c6eaf8a-1dd8-4cc5-af33-32e29c7328a1"
   },
   "outputs": [
    {
     "name": "stdout",
     "output_type": "stream",
     "text": [
      "313/313 [==============================] - 1s 2ms/step - loss: 0.2967 - accuracy: 0.9081\n",
      "Model Evaluation result on Test Data without scaling the images : Loss = 0.2966786026954651, accuracy = 0.9081000089645386\n"
     ]
    }
   ],
   "source": [
    "[test_loss, test_acc] = model3.evaluate(test_data, test_labels_one_hot)\n",
    "print(\"Model Evaluation result on Test Data without scaling the images : Loss = {}, accuracy = {}\".format(test_loss, test_acc))"
   ]
  },
  {
   "cell_type": "markdown",
   "metadata": {
    "id": "zAn4CtZ5F0xG"
   },
   "source": [
    "## From the above we see that **accuracy decreases if we train the model without scaling the data.**"
   ]
  }
 ],
 "metadata": {
  "accelerator": "GPU",
  "colab": {
   "collapsed_sections": [],
   "name": "1_ImageClassificationNeuralNetwork.ipynb",
   "provenance": []
  },
  "kernelspec": {
   "display_name": "Python 3",
   "language": "python",
   "name": "python3"
  },
  "language_info": {
   "codemirror_mode": {
    "name": "ipython",
    "version": 3
   },
   "file_extension": ".py",
   "mimetype": "text/x-python",
   "name": "python",
   "nbconvert_exporter": "python",
   "pygments_lexer": "ipython3",
   "version": "3.8.5"
  }
 },
 "nbformat": 4,
 "nbformat_minor": 1
}

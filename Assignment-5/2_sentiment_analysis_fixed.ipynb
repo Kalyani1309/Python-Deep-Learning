{
  "nbformat": 4,
  "nbformat_minor": 0,
  "metadata": {
    "colab": {
      "name": "2_sentiment_analysis_fixed.ipynb",
      "provenance": [],
      "collapsed_sections": []
    },
    "kernelspec": {
      "display_name": "Python 3",
      "language": "python",
      "name": "python3"
    },
    "language_info": {
      "codemirror_mode": {
        "name": "ipython",
        "version": 3
      },
      "file_extension": ".py",
      "mimetype": "text/x-python",
      "name": "python",
      "nbconvert_exporter": "python",
      "pygments_lexer": "ipython3",
      "version": "3.8.5"
    },
    "accelerator": "GPU"
  },
  "cells": [
    {
      "cell_type": "markdown",
      "metadata": {
        "id": "R-sMFyVzYs-Y"
      },
      "source": [
        "# 1. In the code provided there are three mistake which stops the code from running successfully."
      ]
    },
    {
      "cell_type": "code",
      "metadata": {
        "id": "h3DXC3u_Ys-a"
      },
      "source": [
        "from keras.models import Sequential\n",
        "from keras import layers\n",
        "from keras.preprocessing.text import Tokenizer\n",
        "import pandas as pd\n",
        "import numpy as np\n",
        "from sklearn import preprocessing\n",
        "from keras.preprocessing.sequence import pad_sequences\n",
        "from sklearn.model_selection import train_test_split\n",
        "from keras.layers import Embedding, Flatten"
      ],
      "execution_count": null,
      "outputs": []
    },
    {
      "cell_type": "code",
      "metadata": {
        "colab": {
          "base_uri": "https://localhost:8080/"
        },
        "id": "MNaC3jEBW9dw",
        "outputId": "bda61c90-9913-43a1-e8f0-b5a32372dffb"
      },
      "source": [
        "df = pd.read_csv(\"/content/imdb_master.csv\", encoding=\"latin-1\")\n",
        "#df = pd.read_csv('imdb_master.csv', encoding='latin-1')\n",
        "print(df.head())\n",
        "\n",
        "# Remove the unsup classifier data from the dataset\n",
        "data = df.loc[(df['label'] != 'unsup')]\n",
        "print(data.shape)\n",
        "\n",
        "sentences = data['review'].values\n",
        "y = data['label'].values\n",
        "print(np.unique(y))"
      ],
      "execution_count": null,
      "outputs": [
        {
          "output_type": "stream",
          "text": [
            "   id  type  ... label         file\n",
            "0   0  test  ...   neg      0_2.txt\n",
            "1   1  test  ...   neg  10000_4.txt\n",
            "2   2  test  ...   neg  10001_1.txt\n",
            "3   3  test  ...   neg  10002_3.txt\n",
            "4   4  test  ...   neg  10003_3.txt\n",
            "\n",
            "[5 rows x 5 columns]\n",
            "(50000, 5)\n",
            "['neg' 'pos']\n"
          ],
          "name": "stdout"
        }
      ]
    },
    {
      "cell_type": "markdown",
      "metadata": {
        "id": "Df6hooweXBJo"
      },
      "source": [
        "# tokenizing data"
      ]
    },
    {
      "cell_type": "code",
      "metadata": {
        "id": "PSUceLgkW-wI"
      },
      "source": [
        "tokenizer = Tokenizer(num_words=2000)\n",
        "tokenizer.fit_on_texts(sentences)"
      ],
      "execution_count": null,
      "outputs": []
    },
    {
      "cell_type": "markdown",
      "metadata": {
        "id": "pR78DrA6XD48"
      },
      "source": [
        "# getting the vocabulary of data"
      ]
    },
    {
      "cell_type": "code",
      "metadata": {
        "id": "pWy9t9pLXFki"
      },
      "source": [
        "sentences = tokenizer.texts_to_matrix(sentences)"
      ],
      "execution_count": null,
      "outputs": []
    },
    {
      "cell_type": "code",
      "metadata": {
        "id": "OuJJ6l52XHTw"
      },
      "source": [
        "le = preprocessing.LabelEncoder()\n",
        "y = le.fit_transform(y)\n",
        "X_train, X_test, y_train, y_test = train_test_split(sentences, y, test_size=0.25, random_state=1000)"
      ],
      "execution_count": null,
      "outputs": []
    },
    {
      "cell_type": "markdown",
      "metadata": {
        "id": "9U1D-YrVM6j_"
      },
      "source": [
        "**I have made 3 corrections here-**\n",
        "1. I **changed the input_dim to 2000** as after using the tokenizer function with number of words to 2000. the dimesion of the dataset has changed to 2000.\n",
        "2. I **changed the number of neurons for the last layer from 5 to 2** as we have two classes for the output i.e., 'pos' and 'neg'\n",
        "3. I **changed the activation function for the last layer to 'softMax'** because this function is more suitable for classification problems."
      ]
    },
    {
      "cell_type": "code",
      "metadata": {
        "id": "rcyQwlRNXI6V"
      },
      "source": [
        "model = Sequential()\n",
        "model.add(layers.Dense(300, input_dim=2000, activation='relu'))\n",
        "model.add(layers.Dense(2, activation='softmax'))\n",
        "model.compile(loss='sparse_categorical_crossentropy', optimizer='adam', metrics=['accuracy'])"
      ],
      "execution_count": null,
      "outputs": []
    },
    {
      "cell_type": "code",
      "metadata": {
        "colab": {
          "base_uri": "https://localhost:8080/"
        },
        "id": "HGpcm3BIXNmL",
        "outputId": "023b1a83-4522-4be3-aecd-148da82d0d06"
      },
      "source": [
        "history = model.fit(X_train,y_train, epochs=5, verbose=True, validation_data = (X_test,y_test), batch_size=256)"
      ],
      "execution_count": null,
      "outputs": [
        {
          "output_type": "stream",
          "text": [
            "Epoch 1/5\n",
            "147/147 [==============================] - 7s 7ms/step - loss: 0.4109 - accuracy: 0.8087 - val_loss: 0.2968 - val_accuracy: 0.8763\n",
            "Epoch 2/5\n",
            "147/147 [==============================] - 1s 4ms/step - loss: 0.2548 - accuracy: 0.8984 - val_loss: 0.2919 - val_accuracy: 0.8775\n",
            "Epoch 3/5\n",
            "147/147 [==============================] - 1s 4ms/step - loss: 0.2081 - accuracy: 0.9181 - val_loss: 0.2909 - val_accuracy: 0.8774\n",
            "Epoch 4/5\n",
            "147/147 [==============================] - 1s 4ms/step - loss: 0.1362 - accuracy: 0.9567 - val_loss: 0.3168 - val_accuracy: 0.8752\n",
            "Epoch 5/5\n",
            "147/147 [==============================] - 1s 4ms/step - loss: 0.0702 - accuracy: 0.9853 - val_loss: 0.3323 - val_accuracy: 0.8739\n"
          ],
          "name": "stdout"
        }
      ]
    },
    {
      "cell_type": "code",
      "metadata": {
        "colab": {
          "base_uri": "https://localhost:8080/"
        },
        "id": "3q2LkmjFYs-f",
        "outputId": "224817ec-a786-4630-fde4-b5524f7c78d5"
      },
      "source": [
        "model.summary()"
      ],
      "execution_count": null,
      "outputs": [
        {
          "output_type": "stream",
          "text": [
            "Model: \"sequential_3\"\n",
            "_________________________________________________________________\n",
            "Layer (type)                 Output Shape              Param #   \n",
            "=================================================================\n",
            "dense_6 (Dense)              (None, 300)               600300    \n",
            "_________________________________________________________________\n",
            "dense_7 (Dense)              (None, 2)                 602       \n",
            "=================================================================\n",
            "Total params: 600,902\n",
            "Trainable params: 600,902\n",
            "Non-trainable params: 0\n",
            "_________________________________________________________________\n"
          ],
          "name": "stdout"
        }
      ]
    },
    {
      "cell_type": "markdown",
      "metadata": {
        "id": "YcBrQ8j1Kuda"
      },
      "source": [
        "## Model accuracy"
      ]
    },
    {
      "cell_type": "code",
      "metadata": {
        "colab": {
          "base_uri": "https://localhost:8080/"
        },
        "id": "0bX1tVooYs-g",
        "outputId": "e974fcdb-ea3b-4ad9-f4e2-8bf42edc6661"
      },
      "source": [
        "[test_loss, test_acc] = model.evaluate(X_test,y_test)\n",
        "print(\"Model Evaluation result on Test Data : Loss = {}, accuracy = {}\".format(test_loss, test_acc))"
      ],
      "execution_count": null,
      "outputs": [
        {
          "output_type": "stream",
          "text": [
            "391/391 [==============================] - 1s 2ms/step - loss: 0.3323 - accuracy: 0.8739\n",
            "Model Evaluation result on Test Data : Loss = 0.3322637379169464, accuracy = 0.8739200234413147\n"
          ],
          "name": "stdout"
        }
      ]
    },
    {
      "cell_type": "markdown",
      "metadata": {
        "id": "4fytW5n8Ys-g"
      },
      "source": [
        "# 2. Add embedding layer to the model, check improvement, if any ."
      ]
    },
    {
      "cell_type": "markdown",
      "metadata": {
        "id": "ku7qOKb4aHA7"
      },
      "source": [
        "## Preparing data for embedding layer"
      ]
    },
    {
      "cell_type": "code",
      "metadata": {
        "colab": {
          "base_uri": "https://localhost:8080/"
        },
        "id": "8gpgZAy_aZXN",
        "outputId": "6d6c64ab-b199-4b63-bcc8-f592ad853aad"
      },
      "source": [
        "df = pd.read_csv(\"/content/imdb_master.csv\", encoding=\"latin-1\")\n",
        "#df = pd.read_csv('imdb_master.csv', encoding='latin-1')\n",
        "\n",
        "# Remove the unsup classifier data from the dataset\n",
        "data = df.loc[(df['label'] != 'unsup')]\n",
        "\n",
        "sentences = data['review'].values\n",
        "y = data['label'].values\n",
        "print(np.unique(y))\n",
        "\n",
        "#tokenizing data\n",
        "tokenizer = Tokenizer(num_words=2000)\n",
        "tokenizer.fit_on_texts(sentences)\n",
        "\n",
        "#getting the vocabulary of data\n",
        "max_review_len= max([len(s.split()) for s in sentences])\n",
        "vocab_size= len(tokenizer.word_index)+1\n",
        "sentences = tokenizer.texts_to_sequences(sentences)\n",
        "padded_docs= pad_sequences(sentences,maxlen=max_review_len)"
      ],
      "execution_count": null,
      "outputs": [
        {
          "output_type": "stream",
          "text": [
            "['neg' 'pos']\n"
          ],
          "name": "stdout"
        }
      ]
    },
    {
      "cell_type": "code",
      "metadata": {
        "id": "1yaR-YYpadSc"
      },
      "source": [
        "le = preprocessing.LabelEncoder()\n",
        "y = le.fit_transform(y)\n",
        "X_train, X_test, y_train, y_test = train_test_split(padded_docs, y, test_size=0.25, random_state=1000)"
      ],
      "execution_count": null,
      "outputs": []
    },
    {
      "cell_type": "markdown",
      "metadata": {
        "id": "zIuOAfNHb5ED"
      },
      "source": [
        "## Adding embedding layer in keras"
      ]
    },
    {
      "cell_type": "code",
      "metadata": {
        "id": "TApRcaR-Ys-g"
      },
      "source": [
        "emb_model = Sequential()\n",
        "\n",
        "# Add embedding layer to the existing model\n",
        "emb_model.add(Embedding(vocab_size, 50, input_length=max_review_len))\n",
        "emb_model.add(Flatten())\n",
        "\n",
        "emb_model.add(layers.Dense(256,input_dim=2000, activation='relu'))\n",
        "emb_model.add(layers.Dense(2, activation='softmax'))\n",
        "\n",
        "emb_model.compile(loss='sparse_categorical_crossentropy',optimizer='adam',metrics=['accuracy'])"
      ],
      "execution_count": null,
      "outputs": []
    },
    {
      "cell_type": "code",
      "metadata": {
        "colab": {
          "base_uri": "https://localhost:8080/"
        },
        "id": "6cUIWLleYs-g",
        "outputId": "01de5fb6-d0d3-4e7a-c7db-cdc0d5a4801f"
      },
      "source": [
        "history = emb_model.fit(X_train,y_train, epochs=5, verbose=True, validation_data = (X_test,y_test), batch_size=256)"
      ],
      "execution_count": null,
      "outputs": [
        {
          "output_type": "stream",
          "text": [
            "Epoch 1/5\n",
            "147/147 [==============================] - 21s 137ms/step - loss: 1.2539 - accuracy: 0.5039 - val_loss: 0.6920 - val_accuracy: 0.5275\n",
            "Epoch 2/5\n",
            "147/147 [==============================] - 20s 134ms/step - loss: 0.6696 - accuracy: 0.5851 - val_loss: 0.4797 - val_accuracy: 0.8507\n",
            "Epoch 3/5\n",
            "147/147 [==============================] - 20s 133ms/step - loss: 0.4450 - accuracy: 0.8710 - val_loss: 0.4033 - val_accuracy: 0.8753\n",
            "Epoch 4/5\n",
            "147/147 [==============================] - 19s 132ms/step - loss: 0.3668 - accuracy: 0.8967 - val_loss: 0.3696 - val_accuracy: 0.8794\n",
            "Epoch 5/5\n",
            "147/147 [==============================] - 19s 130ms/step - loss: 0.3157 - accuracy: 0.9110 - val_loss: 0.3492 - val_accuracy: 0.8791\n"
          ],
          "name": "stdout"
        }
      ]
    },
    {
      "cell_type": "code",
      "metadata": {
        "colab": {
          "base_uri": "https://localhost:8080/"
        },
        "id": "7JN3acpnYs-h",
        "outputId": "bdadf767-d9fa-4ee3-8dc5-13418b1bad4a"
      },
      "source": [
        "emb_model.summary()"
      ],
      "execution_count": null,
      "outputs": [
        {
          "output_type": "stream",
          "text": [
            "Model: \"sequential_4\"\n",
            "_________________________________________________________________\n",
            "Layer (type)                 Output Shape              Param #   \n",
            "=================================================================\n",
            "embedding (Embedding)        (None, 2470, 50)          6184100   \n",
            "_________________________________________________________________\n",
            "flatten (Flatten)            (None, 123500)            0         \n",
            "_________________________________________________________________\n",
            "dense_8 (Dense)              (None, 256)               31616256  \n",
            "_________________________________________________________________\n",
            "dense_9 (Dense)              (None, 2)                 514       \n",
            "=================================================================\n",
            "Total params: 37,800,870\n",
            "Trainable params: 37,800,870\n",
            "Non-trainable params: 0\n",
            "_________________________________________________________________\n"
          ],
          "name": "stdout"
        }
      ]
    },
    {
      "cell_type": "markdown",
      "metadata": {
        "id": "8TAz90A1OJwQ"
      },
      "source": [
        "## Model Accuracy of model with embedding layers"
      ]
    },
    {
      "cell_type": "code",
      "metadata": {
        "colab": {
          "base_uri": "https://localhost:8080/"
        },
        "id": "Y6QOm08uYs-h",
        "outputId": "02e74596-fb4d-4d6f-e803-14be7c7a540b"
      },
      "source": [
        "[test_loss, test_acc] = emb_model.evaluate(X_test, y_test)\n",
        "print(\"Embedded Model Evaluation result on Test Data : Loss = {}, accuracy = {}\".format(test_loss, test_acc))"
      ],
      "execution_count": null,
      "outputs": [
        {
          "output_type": "stream",
          "text": [
            "391/391 [==============================] - 2s 6ms/step - loss: 0.3492 - accuracy: 0.8791\n",
            "Embedded Model Evaluation result on Test Data : Loss = 0.349162220954895, accuracy = 0.8791199922561646\n"
          ],
          "name": "stdout"
        }
      ]
    },
    {
      "cell_type": "markdown",
      "metadata": {
        "id": "NVZeaG-EPqkt"
      },
      "source": [
        "**Observation**: We see that **the model accuracy has slightly increased with embedding layers.**"
      ]
    },
    {
      "cell_type": "markdown",
      "metadata": {
        "id": "R3r7Mj3_Ys-h"
      },
      "source": [
        "# 4. Plot the loss and accuracy using history object."
      ]
    },
    {
      "cell_type": "code",
      "metadata": {
        "colab": {
          "base_uri": "https://localhost:8080/",
          "height": 350
        },
        "id": "OFbO9dhjYs-h",
        "outputId": "a8cca6f9-f500-4125-b25e-69ffed085275"
      },
      "source": [
        "import matplotlib.pyplot as plt\n",
        "pd.DataFrame(history.history).plot(figsize=(8, 5))\n",
        "plt.grid(True)\n",
        "plt.title('Model Accuracy and Loss for Train and Validation data')\n",
        "plt.ylabel('Accuracy/ Loss')\n",
        "plt.xlabel('Epoch')\n",
        "plt.gca().set_ylim(0, 1) \n",
        "plt.show()"
      ],
      "execution_count": null,
      "outputs": [
        {
          "output_type": "display_data",
          "data": {
            "image/png": "[encoded data removed]",
            "text/plain": [
              "<Figure size 576x360 with 1 Axes>"
            ]
          },
          "metadata": {
            "tags": [],
            "needs_background": "light"
          }
        }
      ]
    },
    {
      "cell_type": "code",
      "metadata": {
        "colab": {
          "base_uri": "https://localhost:8080/",
          "height": 295
        },
        "id": "99Et9KQ0Ys-i",
        "outputId": "526ed62d-4240-4eab-fd69-68187b0e842d"
      },
      "source": [
        "import matplotlib.pyplot as plt\n",
        "\n",
        "plt.plot(history.history['accuracy'])\n",
        "plt.plot(history.history['val_accuracy'])\n",
        "plt.title('Model Accuracy')\n",
        "plt.ylabel('Accuracy')\n",
        "plt.xlabel('Epoch')\n",
        "plt.legend(['Train', 'Test'], loc='lower right')\n",
        "plt.show()"
      ],
      "execution_count": null,
      "outputs": [
        {
          "output_type": "display_data",
          "data": {
            "image/png": "[encoded data removed]",
            "text/plain": [
              "<Figure size 432x288 with 1 Axes>"
            ]
          },
          "metadata": {
            "tags": [],
            "needs_background": "light"
          }
        }
      ]
    },
    {
      "cell_type": "code",
      "metadata": {
        "colab": {
          "base_uri": "https://localhost:8080/",
          "height": 295
        },
        "id": "Ki3HXPQ6Ys-i",
        "outputId": "2f906a19-4a7a-49b5-ad35-c848f6252afc"
      },
      "source": [
        "plt.plot(history.history['loss'])\n",
        "plt.plot(history.history['val_loss'])\n",
        "plt.title('Model Loss')\n",
        "plt.ylabel('Loss')\n",
        "plt.xlabel('Epoch')\n",
        "plt.legend(['Train', 'Test'], loc='upper right')\n",
        "plt.show()"
      ],
      "execution_count": null,
      "outputs": [
        {
          "output_type": "display_data",
          "data": {
            "image/png": "[encoded data removed]",
            "text/plain": [
              "<Figure size 432x288 with 1 Axes>"
            ]
          },
          "metadata": {
            "tags": [],
            "needs_background": "light"
          }
        }
      ]
    },
    {
      "cell_type": "markdown",
      "metadata": {
        "id": "xbDqtIivYs-i"
      },
      "source": [
        "# 5. Predict over one sample of data and check what will be the prediction for that."
      ]
    },
    {
      "cell_type": "code",
      "metadata": {
        "colab": {
          "base_uri": "https://localhost:8080/"
        },
        "id": "kHVKPl_ZYs-i",
        "outputId": "d28559aa-528f-40cb-b895-7de11f7d97d5"
      },
      "source": [
        "predicted = emb_model.predict(X_test[24].reshape(1, 2470))\n",
        "print(\"Actual value=\" + str(y_test[24]) + \"    Predicted value=\" + str(predicted.argmax()))"
      ],
      "execution_count": null,
      "outputs": [
        {
          "output_type": "stream",
          "text": [
            "Actual value=0    Predicted value=0\n"
          ],
          "name": "stdout"
        }
      ]
    },
    {
      "cell_type": "markdown",
      "metadata": {
        "id": "abNFzZw4Ys-j"
      },
      "source": [
        "# Bonus Point: Plot loss and accuracy in Tensorboard."
      ]
    },
    {
      "cell_type": "code",
      "metadata": {
        "id": "D77B_U0YYs-j",
        "colab": {
          "base_uri": "https://localhost:8080/"
        },
        "outputId": "29928c0e-c0dd-4b7f-eb05-6c111f3403fe"
      },
      "source": [
        "from keras.callbacks import TensorBoard\n",
        "from time import time\n",
        "\n",
        "df = pd.read_csv(\"/content/imdb_master.csv\", encoding=\"latin-1\")\n",
        "#df = pd.read_csv('imdb_master.csv', encoding='latin-1')\n",
        "\n",
        "# Remove the unsup classifier data from the dataset\n",
        "data = df.loc[(df['label'] != 'unsup')]\n",
        "\n",
        "sentences = data['review'].values\n",
        "y = data['label'].values\n",
        "print(np.unique(y))\n",
        "\n",
        "#tokenizing data\n",
        "tokenizer = Tokenizer(num_words=2000)\n",
        "tokenizer.fit_on_texts(sentences)\n",
        "\n",
        "#getting the vocabulary of data\n",
        "sentences = tokenizer.texts_to_matrix(sentences)\n",
        "\n",
        "le = preprocessing.LabelEncoder()\n",
        "y = le.fit_transform(y)\n",
        "X_train, X_test, y_train, y_test = train_test_split(sentences, y, test_size=0.25, random_state=1000)"
      ],
      "execution_count": null,
      "outputs": [
        {
          "output_type": "stream",
          "text": [
            "['neg' 'pos']\n"
          ],
          "name": "stdout"
        }
      ]
    },
    {
      "cell_type": "code",
      "metadata": {
        "colab": {
          "base_uri": "https://localhost:8080/"
        },
        "id": "tZ8eql0y4DiX",
        "outputId": "060f063d-0e28-467f-b976-febc64bad05e"
      },
      "source": [
        "tb_model = Sequential()\n",
        "tb_model.add(Embedding(2000, 50, input_length=2000))\n",
        "tb_model.add(Flatten())\n",
        "tb_model.add(layers.Dense(300,input_dim=2000, activation='relu'))\n",
        "tb_model.add(layers.Dense(3,activation='softmax'))\n",
        "\n",
        "tensorborad = TensorBoard(log_dir=\"logs/{}\".format(time()))\n",
        "\n",
        "tb_model.compile(loss='sparse_categorical_crossentropy', optimizer='adam', metrics=['acc'])\n",
        "\n",
        "tb_model.fit(X_train, y_train, batch_size=256, epochs=2, verbose=1, validation_data=(X_test, y_test), callbacks=[tensorborad])\n",
        "\n",
        "history=tb_model.fit(X_train,y_train, epochs=3, verbose=True, validation_data=(X_test,y_test), batch_size=256)"
      ],
      "execution_count": null,
      "outputs": [
        {
          "output_type": "stream",
          "text": [
            "Epoch 1/2\n",
            "147/147 [==============================] - 11s 74ms/step - loss: 0.9332 - acc: 0.6913 - val_loss: 0.3064 - val_acc: 0.8727\n",
            "Epoch 2/2\n",
            "147/147 [==============================] - 10s 69ms/step - loss: 0.2813 - acc: 0.8848 - val_loss: 0.2952 - val_acc: 0.8769\n",
            "Epoch 1/3\n",
            "147/147 [==============================] - 10s 68ms/step - loss: 0.2705 - acc: 0.8879 - val_loss: 0.2864 - val_acc: 0.8775\n",
            "Epoch 2/3\n",
            "147/147 [==============================] - 10s 68ms/step - loss: 0.2551 - acc: 0.8946 - val_loss: 0.2903 - val_acc: 0.8766\n",
            "Epoch 3/3\n",
            "147/147 [==============================] - 10s 68ms/step - loss: 0.2410 - acc: 0.8996 - val_loss: 0.2893 - val_acc: 0.8772\n"
          ],
          "name": "stdout"
        }
      ]
    },
    {
      "cell_type": "code",
      "metadata": {
        "colab": {
          "base_uri": "https://localhost:8080/"
        },
        "id": "ajTTPOxC4UPp",
        "outputId": "4281eba2-e3d3-402a-e1e4-c087780e578e"
      },
      "source": [
        "[test_loss, test_acc] = tb_model.evaluate(X_test, y_test)\n",
        "print(\"Embedded Model Evaluation result on Test Data : Loss = {}, accuracy = {}\".format(test_loss, test_acc))"
      ],
      "execution_count": null,
      "outputs": [
        {
          "output_type": "stream",
          "text": [
            "391/391 [==============================] - 2s 5ms/step - loss: 0.2893 - acc: 0.8772\n",
            "Embedded Model Evaluation result on Test Data : Loss = 0.28925731778144836, accuracy = 0.8772000074386597\n"
          ],
          "name": "stdout"
        }
      ]
    },
    {
      "cell_type": "code",
      "metadata": {
        "colab": {
          "base_uri": "https://localhost:8080/",
          "height": 350
        },
        "id": "HneTigu14Gms",
        "outputId": "b6a02c10-bc9e-44a1-877f-836f175604e3"
      },
      "source": [
        "import matplotlib.pyplot as plt\n",
        "\n",
        "pd.DataFrame(history.history).plot(figsize=(8, 5))\n",
        "plt.grid(True)\n",
        "plt.title('Model Accuracy and Loss for Train and Validation data')\n",
        "plt.ylabel('Accuracy/ Loss')\n",
        "plt.xlabel('Epoch')\n",
        "plt.gca().set_ylim(0, 1) \n",
        "plt.show()"
      ],
      "execution_count": null,
      "outputs": [
        {
          "output_type": "display_data",
          "data": {
            "image/png": "[encoded data removed]",
            "text/plain": [
              "<Figure size 576x360 with 1 Axes>"
            ]
          },
          "metadata": {
            "tags": [],
            "needs_background": "light"
          }
        }
      ]
    }
  ]
}
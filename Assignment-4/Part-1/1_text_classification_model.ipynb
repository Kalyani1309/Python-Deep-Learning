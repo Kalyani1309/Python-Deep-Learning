{
 "cells": [
  {
   "cell_type": "code",
   "execution_count": 50,
   "metadata": {
    "id": "YZ6pNkwj5bPf"
   },
   "outputs": [],
   "source": [
    "from sklearn.datasets import fetch_20newsgroups\n",
    "from sklearn.feature_extraction.text import CountVectorizer, TfidfVectorizer\n",
    "from sklearn.feature_extraction.text import TfidfTransformer\n",
    "from sklearn import metrics\n",
    "from sklearn.pipeline import Pipeline\n",
    "from sklearn.naive_bayes import MultinomialNB"
   ]
  },
  {
   "cell_type": "code",
   "execution_count": 51,
   "metadata": {
    "id": "rDJ_LuMK56-F"
   },
   "outputs": [],
   "source": [
    "twenty_train = fetch_20newsgroups(subset='train', shuffle=True)"
   ]
  },
  {
   "cell_type": "code",
   "execution_count": 52,
   "metadata": {
    "id": "QF61mPSh59hT"
   },
   "outputs": [
    {
     "data": {
      "text/plain": [
       "MultinomialNB()"
      ]
     },
     "execution_count": 52,
     "metadata": {},
     "output_type": "execute_result"
    }
   ],
   "source": [
    "tfidf_Vect = TfidfVectorizer()\n",
    "X_train_tfidf = tfidf_Vect.fit_transform(twenty_train.data)\n",
    "clf = MultinomialNB()\n",
    "clf.fit(X_train_tfidf, twenty_train.target)"
   ]
  },
  {
   "cell_type": "code",
   "execution_count": 53,
   "metadata": {
    "id": "8ssbDU7p6AWH"
   },
   "outputs": [],
   "source": [
    "twenty_test = fetch_20newsgroups(subset='test', shuffle=True)\n",
    "X_test_tfidf = tfidf_Vect.transform(twenty_test.data)"
   ]
  },
  {
   "cell_type": "code",
   "execution_count": 54,
   "metadata": {
    "id": "sjVlq5up6F3R"
   },
   "outputs": [],
   "source": [
    "predicted = clf.predict(X_test_tfidf)"
   ]
  },
  {
   "cell_type": "code",
   "execution_count": 55,
   "metadata": {
    "id": "otpRw9oQ6H7Z"
   },
   "outputs": [
    {
     "name": "stdout",
     "output_type": "stream",
     "text": [
      "0.7738980350504514\n"
     ]
    }
   ],
   "source": [
    "score = metrics.accuracy_score(twenty_test.target, predicted)\n",
    "print(score)"
   ]
  },
  {
   "cell_type": "markdown",
   "metadata": {},
   "source": [
    "# Apply SVM and check Accuracy"
   ]
  },
  {
   "cell_type": "code",
   "execution_count": 62,
   "metadata": {},
   "outputs": [
    {
     "name": "stdout",
     "output_type": "stream",
     "text": [
      "SVM Accuracy:  0.8531598513011153\n"
     ]
    }
   ],
   "source": [
    "# Import svm model\n",
    "from sklearn.svm import LinearSVC\n",
    "\n",
    "twenty_train = fetch_20newsgroups(subset='train', shuffle=True)\n",
    "\n",
    "tfidf_Vect = TfidfVectorizer()\n",
    "X_train_tfidf = tfidf_Vect.fit_transform(twenty_train.data)\n",
    "\n",
    "# Create a svm Classifier\n",
    "clf_svm = LinearSVC()\n",
    "\n",
    "# Train the model using the training sets\n",
    "clf_svm.fit(X_train_tfidf, twenty_train.target)\n",
    "\n",
    "twenty_test = fetch_20newsgroups(subset='test', shuffle=True)\n",
    "X_test_tfidf = tfidf_Vect.transform(twenty_test.data)\n",
    "\n",
    "# Predict the response for test dataset\n",
    "y_pred_svm = clf_svm.predict(X_test_tfidf)\n",
    "\n",
    "# Model Accuracy\n",
    "score_svm = metrics.accuracy_score(twenty_test.target, y_pred_svm)\n",
    "print(\"SVM Accuracy: \", score_svm)"
   ]
  },
  {
   "cell_type": "markdown",
   "metadata": {},
   "source": [
    "## classification_report for SVM"
   ]
  },
  {
   "cell_type": "code",
   "execution_count": 56,
   "metadata": {},
   "outputs": [
    {
     "name": "stdout",
     "output_type": "stream",
     "text": [
      "              precision    recall  f1-score   support\n",
      "\n",
      "           0       0.82      0.80      0.81       319\n",
      "           1       0.76      0.80      0.78       389\n",
      "           2       0.77      0.73      0.75       394\n",
      "           3       0.71      0.76      0.74       392\n",
      "           4       0.84      0.86      0.85       385\n",
      "           5       0.87      0.76      0.81       395\n",
      "           6       0.83      0.91      0.87       390\n",
      "           7       0.92      0.91      0.91       396\n",
      "           8       0.95      0.95      0.95       398\n",
      "           9       0.92      0.95      0.93       397\n",
      "          10       0.96      0.98      0.97       399\n",
      "          11       0.93      0.94      0.93       396\n",
      "          12       0.81      0.79      0.80       393\n",
      "          13       0.90      0.87      0.88       396\n",
      "          14       0.90      0.93      0.92       394\n",
      "          15       0.84      0.93      0.88       398\n",
      "          16       0.75      0.92      0.82       364\n",
      "          17       0.97      0.89      0.93       376\n",
      "          18       0.82      0.62      0.71       310\n",
      "          19       0.75      0.61      0.68       251\n",
      "\n",
      "    accuracy                           0.85      7532\n",
      "   macro avg       0.85      0.85      0.85      7532\n",
      "weighted avg       0.85      0.85      0.85      7532\n",
      "\n"
     ]
    }
   ],
   "source": [
    "from sklearn.metrics import classification_report\n",
    "\n",
    "print(classification_report(twenty_test.target, y_pred_svm))"
   ]
  },
  {
   "cell_type": "markdown",
   "metadata": {
    "id": "CSH8G8-w66jo"
   },
   "source": [
    "# Apply KNeighborsClassifier and check accuracy."
   ]
  },
  {
   "cell_type": "code",
   "execution_count": 57,
   "metadata": {},
   "outputs": [
    {
     "name": "stdout",
     "output_type": "stream",
     "text": [
      "KNeighborsClassifier Accuracy 0.6578597981943707\n"
     ]
    }
   ],
   "source": [
    "# Import KNeighborsClassifier model\n",
    "from sklearn.neighbors import KNeighborsClassifier\n",
    "\n",
    "# Create a KNeighborsClassifier\n",
    "clf_kn = KNeighborsClassifier(n_neighbors=3)\n",
    "\n",
    "# Train the model using the training sets\n",
    "clf_kn.fit(X_train_tfidf, twenty_train.target)\n",
    "\n",
    "# Predict the response for test dataset\n",
    "y_pred_kn = clf_kn.predict(X_test_tfidf)\n",
    "\n",
    "# Model Accuracy\n",
    "score_kn = metrics.accuracy_score(twenty_test.target, y_pred_kn)\n",
    "print(\"KNeighborsClassifier Accuracy: \", score_kn)"
   ]
  },
  {
   "cell_type": "markdown",
   "metadata": {},
   "source": [
    "## classification_report for KNeighborsClassifier "
   ]
  },
  {
   "cell_type": "code",
   "execution_count": 58,
   "metadata": {},
   "outputs": [
    {
     "name": "stdout",
     "output_type": "stream",
     "text": [
      "              precision    recall  f1-score   support\n",
      "\n",
      "           0       0.43      0.75      0.54       319\n",
      "           1       0.45      0.65      0.53       389\n",
      "           2       0.52      0.56      0.54       394\n",
      "           3       0.52      0.62      0.57       392\n",
      "           4       0.55      0.58      0.56       385\n",
      "           5       0.69      0.59      0.64       395\n",
      "           6       0.59      0.48      0.53       390\n",
      "           7       0.75      0.68      0.71       396\n",
      "           8       0.83      0.80      0.82       398\n",
      "           9       0.77      0.75      0.76       397\n",
      "          10       0.88      0.82      0.85       399\n",
      "          11       0.74      0.83      0.78       396\n",
      "          12       0.72      0.47      0.57       393\n",
      "          13       0.78      0.51      0.62       396\n",
      "          14       0.81      0.77      0.79       394\n",
      "          15       0.80      0.72      0.76       398\n",
      "          16       0.72      0.72      0.72       364\n",
      "          17       0.70      0.72      0.71       376\n",
      "          18       0.60      0.56      0.58       310\n",
      "          19       0.62      0.51      0.56       251\n",
      "\n",
      "    accuracy                           0.66      7532\n",
      "   macro avg       0.67      0.65      0.66      7532\n",
      "weighted avg       0.68      0.66      0.66      7532\n",
      "\n"
     ]
    }
   ],
   "source": [
    "print(classification_report(twenty_test.target, y_pred_kn))"
   ]
  },
  {
   "cell_type": "markdown",
   "metadata": {},
   "source": [
    "# Set the tfidf vectorizer parameter to use bigram and check Accuracy"
   ]
  },
  {
   "cell_type": "code",
   "execution_count": 59,
   "metadata": {},
   "outputs": [
    {
     "name": "stdout",
     "output_type": "stream",
     "text": [
      "SVM Accuracy with tfidf vectorizer parameter of bigram:  0.8574083908656399\n"
     ]
    }
   ],
   "source": [
    "# Setting the vectorizer parameter to use bigram \n",
    "tfidf_Vect = TfidfVectorizer(ngram_range=(1, 2))\n",
    "\n",
    "X_train_tfidf = tfidf_Vect.fit_transform(twenty_train.data)\n",
    "\n",
    "# Create a svm Classifier\n",
    "clf_svm = LinearSVC()\n",
    "\n",
    "# Train the model using the training sets\n",
    "clf_svm.fit(X_train_tfidf, twenty_train.target)\n",
    "\n",
    "twenty_test = fetch_20newsgroups(subset='test', shuffle=True)\n",
    "X_test_tfidf = tfidf_Vect.transform(twenty_test.data)\n",
    "\n",
    "# Predict the response for test dataset\n",
    "y_pred_svm_bigram = clf_svm.predict(X_test_tfidf)\n",
    "\n",
    "# Model Accuracy\n",
    "score_svm_bigram = metrics.accuracy_score(twenty_test.target, y_pred_svm_bigram)\n",
    "print(\"SVM Accuracy with tfidf vectorizer parameter of bigram: \", score_svm_bigram)"
   ]
  },
  {
   "cell_type": "markdown",
   "metadata": {},
   "source": [
    "\n",
    "# Set tfidf vectorizer argument to use stop_words='english' and check Accuracy"
   ]
  },
  {
   "cell_type": "code",
   "execution_count": 60,
   "metadata": {},
   "outputs": [
    {
     "name": "stdout",
     "output_type": "stream",
     "text": [
      "SVM Accuracy with tfidf vectorizer argument as stopwards:  0.851035581518853\n"
     ]
    }
   ],
   "source": [
    "tfidf_Vect = TfidfVectorizer(stop_words='english')\n",
    "\n",
    "X_train_tfidf = tfidf_Vect.fit_transform(twenty_train.data)\n",
    "\n",
    "# Create a svm Classifier\n",
    "clf_svm = LinearSVC()\n",
    "\n",
    "# Train the model using the training sets\n",
    "clf_svm.fit(X_train_tfidf, twenty_train.target)\n",
    "\n",
    "twenty_test = fetch_20newsgroups(subset='test', shuffle=True)\n",
    "X_test_tfidf = tfidf_Vect.transform(twenty_test.data)\n",
    "\n",
    "# Predict the response for test dataset\n",
    "y_pred_svm_stopwords = clf_svm.predict(X_test_tfidf)\n",
    "\n",
    "# Model Accuracy\n",
    "score_svm_stopwords = metrics.accuracy_score(twenty_test.target, y_pred_svm_stopwords)\n",
    "print(\"SVM Accuracy with tfidf vectorizer argument as stopwards: \", score_svm_stopwords)"
   ]
  },
  {
   "cell_type": "code",
   "execution_count": 63,
   "metadata": {},
   "outputs": [
    {
     "name": "stdout",
     "output_type": "stream",
     "text": [
      "SVM Accuracy:  0.8531598513011153\n",
      "SVM Accuracy with tfidf vectorizer parameter of bigram:  0.8574083908656399\n",
      "SVM Accuracy with tfidf vectorizer argument as stopwards:  0.851035581518853\n"
     ]
    }
   ],
   "source": [
    "print(\"SVM Accuracy: \", score_svm)\n",
    "print(\"SVM Accuracy with tfidf vectorizer parameter of bigram: \", score_svm_bigram)\n",
    "print(\"SVM Accuracy with tfidf vectorizer argument as stopwards: \", score_svm_stopwords)"
   ]
  }
 ],
 "metadata": {
  "colab": {
   "collapsed_sections": [],
   "name": "text_classification.ipynb",
   "provenance": []
  },
  "kernelspec": {
   "display_name": "Python 3",
   "language": "python",
   "name": "python3"
  },
  "language_info": {
   "codemirror_mode": {
    "name": "ipython",
    "version": 3
   },
   "file_extension": ".py",
   "mimetype": "text/x-python",
   "name": "python",
   "nbconvert_exporter": "python",
   "pygments_lexer": "ipython3",
   "version": "3.8.5"
  }
 },
 "nbformat": 4,
 "nbformat_minor": 1
}

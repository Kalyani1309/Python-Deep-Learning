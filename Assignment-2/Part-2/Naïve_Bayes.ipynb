{
  "nbformat": 4,
  "nbformat_minor": 0,
  "metadata": {
    "colab": {
      "name": "Naïve Bayes.ipynb",
      "provenance": [],
      "collapsed_sections": []
    },
    "kernelspec": {
      "name": "python3",
      "display_name": "Python 3"
    }
  },
  "cells": [
    {
      "cell_type": "markdown",
      "metadata": {
        "id": "8dsfmvDlWu5l"
      },
      "source": [
        "## Implement Naïve Bayes method using scikit-learn library."
      ]
    },
    {
      "cell_type": "code",
      "metadata": {
        "id": "1Ly5qI5uaNW1"
      },
      "source": [
        "# importing all the required libraries\n",
        "import pandas as pd\n",
        "from sklearn.model_selection import train_test_split\n",
        "from sklearn.naive_bayes import GaussianNB\n",
        "from sklearn import metrics\n",
        "from sklearn.metrics import classification_report"
      ],
      "execution_count": 14,
      "outputs": []
    },
    {
      "cell_type": "markdown",
      "metadata": {
        "id": "aNaDlgWzWpvx"
      },
      "source": [
        "## Read the glass dataset"
      ]
    },
    {
      "cell_type": "code",
      "metadata": {
        "id": "0fKZeOPkaREi"
      },
      "source": [
        "# Read the dataset\n",
        "data = pd.read_csv('/content/glass.csv')\n",
        "X = data.drop('Type', axis=1)\n",
        "y = data['Type'].values"
      ],
      "execution_count": 15,
      "outputs": []
    },
    {
      "cell_type": "markdown",
      "metadata": {
        "id": "a2urqsgRV_az"
      },
      "source": [
        "## Split the data into Training and Test set"
      ]
    },
    {
      "cell_type": "code",
      "metadata": {
        "id": "QC0IItezaRQa"
      },
      "source": [
        "# Split the dataset into the Training set and Test set\n",
        "X_train, X_test, y_train, y_test = train_test_split(X, y, test_size=0.25, random_state=0)"
      ],
      "execution_count": 16,
      "outputs": []
    },
    {
      "cell_type": "markdown",
      "metadata": {
        "id": "Kr--Bh4eZ41y"
      },
      "source": [
        "## Fit the Naïve Bayes model"
      ]
    },
    {
      "cell_type": "code",
      "metadata": {
        "id": "SIfVgdLtahud",
        "colab": {
          "base_uri": "https://localhost:8080/"
        },
        "outputId": "66cbb44c-a632-47ed-e80d-366a00a9b43b"
      },
      "source": [
        "# Fit Naive Bayes to the Training set\n",
        "fitNB = GaussianNB()\n",
        "fitNB.fit(X_train, y_train)"
      ],
      "execution_count": 17,
      "outputs": [
        {
          "output_type": "execute_result",
          "data": {
            "text/plain": [
              "GaussianNB(priors=None, var_smoothing=1e-09)"
            ]
          },
          "metadata": {
            "tags": []
          },
          "execution_count": 17
        }
      ]
    },
    {
      "cell_type": "markdown",
      "metadata": {
        "id": "cj8uUVwzaFlV"
      },
      "source": [
        "## Evaluate the model on testing part using score"
      ]
    },
    {
      "cell_type": "code",
      "metadata": {
        "colab": {
          "base_uri": "https://localhost:8080/"
        },
        "id": "kpe25gW6aLhd",
        "outputId": "5957443a-f8ba-4093-a26b-4a29859471cb"
      },
      "source": [
        "# Predicting the Test set results\n",
        "y_pred = fitNB.predict(X_test)\n",
        "\n",
        "# Calculating Accuracy\n",
        "print('Accuracy of Naive Bayes model is: ', metrics.accuracy_score(y_test, y_pred))"
      ],
      "execution_count": 18,
      "outputs": [
        {
          "output_type": "stream",
          "text": [
            "Accuracy of Naive Bayes model is:  0.46296296296296297\n"
          ],
          "name": "stdout"
        }
      ]
    },
    {
      "cell_type": "markdown",
      "metadata": {
        "id": "cpt3j2VAaT6s"
      },
      "source": [
        "## Use the model to predict the classes of the validation set & mean accuracy."
      ]
    },
    {
      "cell_type": "code",
      "metadata": {
        "colab": {
          "base_uri": "https://localhost:8080/"
        },
        "id": "p2-LXI6qaYdv",
        "outputId": "399fe3a7-71fd-4016-a31a-86d73bd00cd6"
      },
      "source": [
        "print(classification_report(y_test, y_pred))"
      ],
      "execution_count": 19,
      "outputs": [
        {
          "output_type": "stream",
          "text": [
            "              precision    recall  f1-score   support\n",
            "\n",
            "           1       0.32      0.64      0.43        14\n",
            "           2       0.45      0.21      0.29        24\n",
            "           3       0.50      0.40      0.44         5\n",
            "           5       0.00      0.00      0.00         2\n",
            "           6       0.67      1.00      0.80         2\n",
            "           7       1.00      1.00      1.00         7\n",
            "\n",
            "    accuracy                           0.46        54\n",
            "   macro avg       0.49      0.54      0.49        54\n",
            "weighted avg       0.49      0.46      0.44        54\n",
            "\n"
          ],
          "name": "stdout"
        }
      ]
    },
    {
      "cell_type": "markdown",
      "metadata": {
        "id": "5gPPWrMebDiG"
      },
      "source": [
        "## From the Classification Report, Accuracy is around ~46% for Naïve Bayes Model."
      ]
    }
  ]
}
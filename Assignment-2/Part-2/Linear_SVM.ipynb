{
  "nbformat": 4,
  "nbformat_minor": 0,
  "metadata": {
    "colab": {
      "name": "Linear SVM.ipynb",
      "provenance": [],
      "collapsed_sections": []
    },
    "kernelspec": {
      "name": "python3",
      "display_name": "Python 3"
    }
  },
  "cells": [
    {
      "cell_type": "markdown",
      "metadata": {
        "id": "y3iqZyUOa9sU"
      },
      "source": [
        "## Implement linear SVM method using scikit library"
      ]
    },
    {
      "cell_type": "code",
      "metadata": {
        "id": "r5rowo9pamxX"
      },
      "source": [
        "# importing all the required libraries\n",
        "import pandas as pd\n",
        "from sklearn.model_selection import train_test_split\n",
        "from sklearn import metrics\n",
        "from sklearn.metrics import classification_report\n",
        "from sklearn.svm import SVC"
      ],
      "execution_count": 7,
      "outputs": []
    },
    {
      "cell_type": "markdown",
      "metadata": {
        "id": "byQJ9ltmXwwO"
      },
      "source": [
        "## Read the glass dataset"
      ]
    },
    {
      "cell_type": "code",
      "metadata": {
        "id": "c0J_CtDyaqyB"
      },
      "source": [
        "# Read dataset\n",
        "data = pd.read_csv('/content/glass.csv')\n",
        "X = data.drop('Type', axis=1)\n",
        "y = data['Type'].values"
      ],
      "execution_count": 8,
      "outputs": []
    },
    {
      "cell_type": "markdown",
      "metadata": {
        "id": "j47zzz5YYdWg"
      },
      "source": [
        ""
      ]
    },
    {
      "cell_type": "markdown",
      "metadata": {
        "id": "PHggCq4AYEwJ"
      },
      "source": [
        "## Split the data into Training and Test set"
      ]
    },
    {
      "cell_type": "code",
      "metadata": {
        "id": "kfxhpUZcas9l"
      },
      "source": [
        "# Use train_test_split to split data into the Training set and Test set\n",
        "X_train, X_test, y_train, y_test = train_test_split(X, y, test_size=0.25, random_state=0)"
      ],
      "execution_count": 9,
      "outputs": []
    },
    {
      "cell_type": "markdown",
      "metadata": {
        "id": "dT97Q6wqa4iG"
      },
      "source": [
        "## Fit the Linear SVM model"
      ]
    },
    {
      "cell_type": "code",
      "metadata": {
        "id": "6ZY7Spjya2EW",
        "colab": {
          "base_uri": "https://localhost:8080/"
        },
        "outputId": "ce7a3675-79fd-40dc-f33d-6b4a4af2e2ba"
      },
      "source": [
        "# Model Training set into linear SVM\n",
        "fitSVC = SVC(kernel='linear')\n",
        "fitSVC.fit(X_train, y_train)"
      ],
      "execution_count": 10,
      "outputs": [
        {
          "output_type": "execute_result",
          "data": {
            "text/plain": [
              "SVC(C=1.0, break_ties=False, cache_size=200, class_weight=None, coef0=0.0,\n",
              "    decision_function_shape='ovr', degree=3, gamma='scale', kernel='linear',\n",
              "    max_iter=-1, probability=False, random_state=None, shrinking=True,\n",
              "    tol=0.001, verbose=False)"
            ]
          },
          "metadata": {
            "tags": []
          },
          "execution_count": 10
        }
      ]
    },
    {
      "cell_type": "markdown",
      "metadata": {
        "id": "cH2f5YatYqp_"
      },
      "source": [
        "## Evaluate the model on testing part using score"
      ]
    },
    {
      "cell_type": "code",
      "metadata": {
        "colab": {
          "base_uri": "https://localhost:8080/"
        },
        "id": "s4D0J5n6YrmY",
        "outputId": "3a68dc6d-2ee6-4a13-ed66-02f799cc92b4"
      },
      "source": [
        "# Predict the Test set results\n",
        "y_pred = fitSVC.predict(X_test)\n",
        "\n",
        "# Calculate Accuracy of SVM Model\n",
        "print('Accuracy of linear SVM model is: ', metrics.accuracy_score(y_test, y_pred))"
      ],
      "execution_count": 11,
      "outputs": [
        {
          "output_type": "stream",
          "text": [
            "Accuracy of linear SVM model is:  0.5555555555555556\n"
          ],
          "name": "stdout"
        }
      ]
    },
    {
      "cell_type": "markdown",
      "metadata": {
        "id": "ReVYTb4tZE73"
      },
      "source": [
        "## Use the model to predict the classes of the validation set & mean accuracy."
      ]
    },
    {
      "cell_type": "code",
      "metadata": {
        "colab": {
          "base_uri": "https://localhost:8080/"
        },
        "id": "MLuREvfNZFEY",
        "outputId": "18af3830-accd-49a3-af13-da4e80c19af0"
      },
      "source": [
        "# Print the classification report\n",
        "print(classification_report(y_test, y_pred, zero_division=1))"
      ],
      "execution_count": 12,
      "outputs": [
        {
          "output_type": "stream",
          "text": [
            "              precision    recall  f1-score   support\n",
            "\n",
            "           1       0.43      0.86      0.57        14\n",
            "           2       0.60      0.38      0.46        24\n",
            "           3       1.00      0.00      0.00         5\n",
            "           5       0.67      1.00      0.80         2\n",
            "           6       0.00      0.00      0.00         2\n",
            "           7       1.00      1.00      1.00         7\n",
            "\n",
            "    accuracy                           0.56        54\n",
            "   macro avg       0.62      0.54      0.47        54\n",
            "weighted avg       0.62      0.56      0.51        54\n",
            "\n"
          ],
          "name": "stdout"
        }
      ]
    },
    {
      "cell_type": "markdown",
      "metadata": {
        "id": "vdtvcquKbRBW"
      },
      "source": [
        "## From the Classification Report, Accuracy is around ~56% for linear SVM Model.\n",
        "## Comparing both the results, it is clear that linear SVM is getting us the better accuracy.\n",
        "### **Justification**: The possible reason could be Naive Bayes treats 'features' as independent, whereas SVM looks at the interactions between the features to a certain degree like linear, guasian etc., which helps in achieving better accuracy."
      ]
    }
  ]
}
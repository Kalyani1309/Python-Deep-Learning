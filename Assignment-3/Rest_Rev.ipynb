{
  "nbformat": 4,
  "nbformat_minor": 0,
  "metadata": {
    "colab": {
      "name": "Rest Rev.ipynb",
      "provenance": [],
      "collapsed_sections": []
    },
    "kernelspec": {
      "name": "python3",
      "display_name": "Python 3"
    },
    "language_info": {
      "name": "python"
    }
  },
  "cells": [
    {
      "cell_type": "markdown",
      "metadata": {
        "id": "c5D8Uxqs9TIQ"
      },
      "source": [
        "## Importing required libraries"
      ]
    },
    {
      "cell_type": "code",
      "metadata": {
        "id": "Z7hVcYV39TIQ"
      },
      "source": [
        "import pandas as pd\n",
        "import numpy   as np\n",
        "import matplotlib.pyplot as plt\n",
        "from sklearn.model_selection import train_test_split\n",
        "from sklearn import linear_model\n",
        "import sklearn.metrics as metrics\n",
        "\n",
        "plt.style.use(style='ggplot')\n",
        "plt.rcParams['figure.figsize'] = (10, 6)"
      ],
      "execution_count": 25,
      "outputs": []
    },
    {
      "cell_type": "markdown",
      "metadata": {
        "id": "-CzKzRSc9TIR"
      },
      "source": [
        "## Mount the google drive"
      ]
    },
    {
      "cell_type": "code",
      "metadata": {
        "colab": {
          "base_uri": "https://localhost:8080/"
        },
        "id": "ajIVkcz69TIR",
        "outputId": "fc9558f6-2c95-41f3-eb6d-74ae86df581b"
      },
      "source": [
        "from google.colab import drive\n",
        "drive.mount('/content/drive')"
      ],
      "execution_count": 26,
      "outputs": [
        {
          "output_type": "stream",
          "text": [
            "Drive already mounted at /content/drive; to attempt to forcibly remount, call drive.mount(\"/content/drive\", force_remount=True).\n"
          ],
          "name": "stdout"
        }
      ]
    },
    {
      "cell_type": "markdown",
      "metadata": {
        "id": "99CgdVli9TIR"
      },
      "source": [
        "## Read the Restaurant Revenue dataset"
      ]
    },
    {
      "cell_type": "code",
      "metadata": {
        "colab": {
          "base_uri": "https://localhost:8080/"
        },
        "id": "TLQV2MCR9TIS",
        "outputId": "9220c323-c10e-4c44-99e2-0a9428ec819f"
      },
      "source": [
        "restaurant_data = pd.read_csv('/content/drive/MyDrive/Python Deep Learning/Assignment 3/Part 1/rest_data.csv')\n",
        "print(restaurant_data)"
      ],
      "execution_count": 27,
      "outputs": [
        {
          "output_type": "stream",
          "text": [
            "      Id  City Group Type  P1   P2   P3  ...  P33  P34  P35  P36  P37  revenue\n",
            "0      0  Big Cities   IL   4  5.0  4.0  ...    5    5    4    3    4  5653753\n",
            "1      1  Big Cities   FC   4  5.0  4.0  ...    0    0    0    0    0  6923131\n",
            "2      2       Other   IL   2  4.0  2.0  ...    0    0    0    0    0  2055379\n",
            "3      3       Other   IL   6  4.5  6.0  ...    6   18   12   12    6  2675511\n",
            "4      4       Other   IL   3  4.0  3.0  ...    2    3    4    3    3  4316715\n",
            "..   ...         ...  ...  ..  ...  ...  ...  ...  ...  ...  ...  ...      ...\n",
            "132  132       Other   FC   2  3.0  3.0  ...    0    0    0    0    0  5787594\n",
            "133  133  Big Cities   FC   4  5.0  4.0  ...    0    0    0    0    0  9262754\n",
            "134  134       Other   FC   3  4.0  4.0  ...    0    0    0    0    0  2544857\n",
            "135  135  Big Cities   FC   4  5.0  4.0  ...    0    0    0    0    0  7217634\n",
            "136  136  Big Cities   FC   4  5.0  3.0  ...    0    0    0    0    0  6363241\n",
            "\n",
            "[137 rows x 41 columns]\n"
          ],
          "name": "stdout"
        }
      ]
    },
    {
      "cell_type": "markdown",
      "metadata": {
        "id": "BtCLq7cY9TIS"
      },
      "source": [
        "## Build the multiple linear regression model"
      ]
    },
    {
      "cell_type": "code",
      "metadata": {
        "id": "GMcaO7UI9TIS"
      },
      "source": [
        "# Handling missing values\n",
        "rest_data = restaurant_data.select_dtypes(include=[np.number]).interpolate().dropna()\n",
        "\n",
        "# Build the model\n",
        "X = rest_data.drop(['revenue', 'Id'], axis=1)\n",
        "y = np.log(rest_data.revenue)\n",
        "\n",
        "# Split the data into test and train\n",
        "X_train, X_test, y_train, y_test = train_test_split(X, y, random_state=42, test_size=0.2)"
      ],
      "execution_count": 28,
      "outputs": []
    },
    {
      "cell_type": "markdown",
      "metadata": {
        "id": "X0ja9Wz59TIS"
      },
      "source": [
        "## Fit the model"
      ]
    },
    {
      "cell_type": "code",
      "metadata": {
        "id": "DFLNDRxd9TIT"
      },
      "source": [
        "# Fit the model\n",
        "lr = linear_model.LinearRegression()\n",
        "model1 = lr.fit(X_train, y_train)\n",
        "\n",
        "# Predict the test data using model\n",
        "predictions = model1.predict(X_test)"
      ],
      "execution_count": 29,
      "outputs": []
    },
    {
      "cell_type": "markdown",
      "metadata": {
        "id": "eNYg1aCv9TIT"
      },
      "source": [
        "## Evaluate model performance with multiple regression model(All features considered)"
      ]
    },
    {
      "cell_type": "code",
      "metadata": {
        "colab": {
          "base_uri": "https://localhost:8080/"
        },
        "id": "afo6Vldv9TIT",
        "outputId": "3d863cab-389c-4c53-9704-8c1f402b35f8"
      },
      "source": [
        "# Evaluate the model performance\n",
        "mse = metrics.mean_squared_error(y_test, predictions)\n",
        "rmse = np.sqrt(mse) \n",
        "r2 = metrics.r2_score(y_test, predictions)\n",
        "\n",
        "# Print model performance values\n",
        "print(\"RMSE:\", rmse)\n",
        "print(\"R-Squared:\", r2)"
      ],
      "execution_count": 30,
      "outputs": [
        {
          "output_type": "stream",
          "text": [
            "RMSE: 0.796525104155611\n",
            "R-Squared: -1.1280520942721401\n"
          ],
          "name": "stdout"
        }
      ]
    },
    {
      "cell_type": "markdown",
      "metadata": {
        "id": "fNuuYnNyc4qS"
      },
      "source": [
        "## 3. Find top 5 most correlated features to the target label(revenue) and then build a model on top of those 5 features. Evaluate the model using MAE, MSE, RMSE and R2 score and then compare the result with the RMSE and R2 you achieved in question 2."
      ]
    },
    {
      "cell_type": "code",
      "metadata": {
        "colab": {
          "base_uri": "https://localhost:8080/"
        },
        "id": "anFri4ecc-bN",
        "outputId": "6b6643d0-2dd9-44b3-a8ac-8c1e21f33832"
      },
      "source": [
        "# Find the correlation between parameters\n",
        "corr = rest_data.corr()\n",
        "# Get the list of top 5 most correlated features\n",
        "print(corr['revenue'].sort_values(ascending=False)[:6], '\\n')"
      ],
      "execution_count": 31,
      "outputs": [
        {
          "output_type": "stream",
          "text": [
            "revenue    1.000000\n",
            "P2         0.191518\n",
            "P28        0.155534\n",
            "P6         0.139094\n",
            "P21        0.097411\n",
            "P11        0.084247\n",
            "Name: revenue, dtype: float64 \n",
            "\n"
          ],
          "name": "stdout"
        }
      ]
    },
    {
      "cell_type": "code",
      "metadata": {
        "id": "d5A9vs8hfMIJ"
      },
      "source": [
        "# Build the model\n",
        "X = rest_data[['P2', 'P28', 'P6', 'P21', 'P11']]\n",
        "y = np.log(rest_data.revenue)\n",
        "\n",
        "# Split the data into test and train\n",
        "X_train, X_test, y_train, y_test = train_test_split(X, y, random_state=42, test_size=0.2)"
      ],
      "execution_count": 32,
      "outputs": []
    },
    {
      "cell_type": "markdown",
      "metadata": {
        "id": "oYb-4ihQffD1"
      },
      "source": [
        "## Fit the model"
      ]
    },
    {
      "cell_type": "code",
      "metadata": {
        "id": "hig2Zt0MffD2"
      },
      "source": [
        "# Fit the model\n",
        "lr = linear_model.LinearRegression()\n",
        "model2 = lr.fit(X_train, y_train)\n",
        "\n",
        "# Predict the test data using model\n",
        "predictions = model2.predict(X_test)"
      ],
      "execution_count": 33,
      "outputs": []
    },
    {
      "cell_type": "markdown",
      "metadata": {
        "id": "Q845R8h7fuZk"
      },
      "source": [
        "## Evaluate model performance with top 5 most correlated features"
      ]
    },
    {
      "cell_type": "code",
      "metadata": {
        "colab": {
          "base_uri": "https://localhost:8080/"
        },
        "id": "hNv-LuLOfuZk",
        "outputId": "382e90a1-7dfd-4cdc-9380-077d279872c1"
      },
      "source": [
        "# Evaluate the model performance\n",
        "mse = metrics.mean_squared_error(y_test, predictions)\n",
        "rmse = np.sqrt(mse) \n",
        "r2 = metrics.r2_score(y_test, predictions)\n",
        "\n",
        "# Print model performance values\n",
        "print(\"RMSE:\", rmse)\n",
        "print(\"R-Squared:\", r2)"
      ],
      "execution_count": 34,
      "outputs": [
        {
          "output_type": "stream",
          "text": [
            "RMSE: 0.5472952738534502\n",
            "R-Squared: -0.004677589069639554\n"
          ],
          "name": "stdout"
        }
      ]
    },
    {
      "cell_type": "markdown",
      "metadata": {
        "id": "E4kuIhkbftty"
      },
      "source": [
        "## Comparision: We got better results than received with earlier model. As we only considered most correlated variables than to consider ALL the features."
      ]
    }
  ]
}
{
  "nbformat": 4,
  "nbformat_minor": 0,
  "metadata": {
    "colab": {
      "name": "K-Means & PCA.ipynb",
      "provenance": [],
      "collapsed_sections": []
    },
    "kernelspec": {
      "name": "python3",
      "display_name": "Python 3"
    },
    "language_info": {
      "name": "python"
    }
  },
  "cells": [
    {
      "cell_type": "markdown",
      "metadata": {
        "id": "02DRQpBmtVdF"
      },
      "source": [
        "# 1. Apply K means clustering to credit card dataset: CC.csv"
      ]
    },
    {
      "cell_type": "markdown",
      "metadata": {
        "id": "dK5ktWYgiCjN"
      },
      "source": [
        "### Importing libraries"
      ]
    },
    {
      "cell_type": "code",
      "metadata": {
        "id": "rt5gcYyWnlDG"
      },
      "source": [
        "import pandas as pd\n",
        "import numpy as np\n",
        "from sklearn.decomposition import PCA\n",
        "from sklearn.cluster import KMeans\n",
        "from sklearn.preprocessing import LabelEncoder, StandardScaler\n",
        "from sklearn import preprocessing\n",
        "from sklearn import metrics\n",
        "from sklearn.metrics import silhouette_score\n",
        "import matplotlib.pyplot as plt\n",
        "from kneed import KneeLocator\n",
        "\n",
        "import seaborn as sns\n",
        "sns.set(style=\"white\", color_codes=True)\n",
        "\n",
        "import warnings\n",
        "warnings.filterwarnings(\"ignore\")"
      ],
      "execution_count": 46,
      "outputs": []
    },
    {
      "cell_type": "markdown",
      "metadata": {
        "id": "58MsB0ySiF-b"
      },
      "source": [
        "### Mounting the drive"
      ]
    },
    {
      "cell_type": "code",
      "metadata": {
        "colab": {
          "base_uri": "https://localhost:8080/"
        },
        "id": "b5Dvx-JwoBfb",
        "outputId": "998bf164-75d5-447b-e98a-002b360cd40d"
      },
      "source": [
        "from google.colab import drive\n",
        "drive.mount('/content/drive')"
      ],
      "execution_count": 47,
      "outputs": [
        {
          "output_type": "stream",
          "text": [
            "Drive already mounted at /content/drive; to attempt to forcibly remount, call drive.mount(\"/content/drive\", force_remount=True).\n"
          ],
          "name": "stdout"
        }
      ]
    },
    {
      "cell_type": "markdown",
      "metadata": {
        "id": "jqv2PIoCiI43"
      },
      "source": [
        "### Read the dataset"
      ]
    },
    {
      "cell_type": "code",
      "metadata": {
        "colab": {
          "base_uri": "https://localhost:8080/"
        },
        "id": "f_woL_TwoKhU",
        "outputId": "f8b4afa4-4008-48b8-b5d5-d95cf43ad05f"
      },
      "source": [
        "credit_card_data = pd.read_csv('/content/drive/MyDrive/Python Deep Learning/Assignment 3/Part 2/CC.csv')\n",
        "credit_card_data[\"TENURE\"].value_counts()"
      ],
      "execution_count": 48,
      "outputs": [
        {
          "output_type": "execute_result",
          "data": {
            "text/plain": [
              "12    7584\n",
              "11     365\n",
              "10     236\n",
              "6      204\n",
              "8      196\n",
              "7      190\n",
              "9      175\n",
              "Name: TENURE, dtype: int64"
            ]
          },
          "metadata": {
            "tags": []
          },
          "execution_count": 48
        }
      ]
    },
    {
      "cell_type": "markdown",
      "metadata": {
        "id": "KrVjgAKfteHg"
      },
      "source": [
        "## Remove any null values by the mean"
      ]
    },
    {
      "cell_type": "code",
      "metadata": {
        "colab": {
          "base_uri": "https://localhost:8080/"
        },
        "id": "zrCIDzBFpzMz",
        "outputId": "109013c4-e7c6-4abb-d3a1-43d2a731fcdb"
      },
      "source": [
        "# Remove any null values by the mean\n",
        "cc_data = credit_card_data.fillna(credit_card_data.mean())\n",
        "\n",
        "# Check if there are any null values\n",
        "print(sum(cc_data.isnull().sum() != 0))"
      ],
      "execution_count": 49,
      "outputs": [
        {
          "output_type": "stream",
          "text": [
            "0\n"
          ],
          "name": "stdout"
        }
      ]
    },
    {
      "cell_type": "code",
      "metadata": {
        "colab": {
          "base_uri": "https://localhost:8080/"
        },
        "id": "2sUgh82Y7HFr",
        "outputId": "9647c3b1-fcc9-4a14-cbd7-0677b9da1bd8"
      },
      "source": [
        "y = np.log(cc_data.TENURE)\n",
        "X = cc_data.drop(['TENURE', 'CUST_ID'], axis=1)\n",
        "print(cc_data[\"TENURE\"].value_counts())"
      ],
      "execution_count": 50,
      "outputs": [
        {
          "output_type": "stream",
          "text": [
            "12    7584\n",
            "11     365\n",
            "10     236\n",
            "6      204\n",
            "8      196\n",
            "7      190\n",
            "9      175\n",
            "Name: TENURE, dtype: int64\n"
          ],
          "name": "stdout"
        }
      ]
    },
    {
      "cell_type": "markdown",
      "metadata": {
        "id": "ikqO9evZtMiR"
      },
      "source": [
        "## Use the elbow method to find a good number of clusters with the k-Means algorithm"
      ]
    },
    {
      "cell_type": "code",
      "metadata": {
        "colab": {
          "base_uri": "https://localhost:8080/",
          "height": 318
        },
        "id": "avGif-6ZtF--",
        "outputId": "19f09998-205c-4cc1-9b99-0e8138378020"
      },
      "source": [
        "# Get wcss values\n",
        "wcss = []\n",
        "for i in range(1,11):\n",
        "  kmeans = KMeans(n_clusters=i, max_iter=300, random_state=0)\n",
        "  kmeans.fit(X)\n",
        "  wcss.append(kmeans.inertia_)\n",
        "\n",
        "# The elbow method plot\n",
        "plt.plot(range(1, 11), wcss)\n",
        "plt.title('The elbow method')\n",
        "plt.xlabel('Number of Clusters')\n",
        "plt.ylabel('Wcss')\n",
        "plt.show()\n",
        "\n",
        "#  Identify the elbow point programmatically using kneed function\n",
        "kl = KneeLocator(range(1, 11), wcss, curve=\"convex\", direction=\"decreasing\")\n",
        "print(\"Elbow point: \", kl.elbow)"
      ],
      "execution_count": 64,
      "outputs": [
        {
          "output_type": "display_data",
          "data": {
            "image/png": "[encoded data removed]",
            "text/plain": [
              "<Figure size 432x288 with 1 Axes>"
            ]
          },
          "metadata": {
            "tags": []
          }
        },
        {
          "output_type": "stream",
          "text": [
            "Elbow point:  3\n"
          ],
          "name": "stdout"
        }
      ]
    },
    {
      "cell_type": "markdown",
      "metadata": {
        "id": "U9GU9nb2thzX"
      },
      "source": [
        "## Calculate the silhouette score for the above clustering"
      ]
    },
    {
      "cell_type": "code",
      "metadata": {
        "colab": {
          "base_uri": "https://localhost:8080/"
        },
        "id": "LyquH-5JtkbM",
        "outputId": "133c2693-23a8-4a4e-8853-ba67dc06ecb8"
      },
      "source": [
        "nclusters = 3 # this is the k in kmeans\n",
        "seed = 0\n",
        "\n",
        "km = KMeans(n_clusters=nclusters, random_state=seed)\n",
        "km.fit(X)\n",
        "\n",
        "# predict the cluster for each data point\n",
        "y_cluster_kmeans = km.predict(X)\n",
        "print(y_cluster_kmeans)"
      ],
      "execution_count": 52,
      "outputs": [
        {
          "output_type": "stream",
          "text": [
            "[0 1 1 ... 0 0 0]\n"
          ],
          "name": "stdout"
        }
      ]
    },
    {
      "cell_type": "markdown",
      "metadata": {
        "id": "W7_lfT_3j8bl"
      },
      "source": [
        "## Silhouette Score for K-means clustering"
      ]
    },
    {
      "cell_type": "code",
      "metadata": {
        "colab": {
          "base_uri": "https://localhost:8080/"
        },
        "id": "g9eNnfn2PjAr",
        "outputId": "e5e82606-4ec5-4af9-811f-28b7ffb0bb22"
      },
      "source": [
        "score = metrics.silhouette_score(X, y_cluster_kmeans)\n",
        "print(\"Silhouette Score for K-means clustering: \", score)"
      ],
      "execution_count": 53,
      "outputs": [
        {
          "output_type": "stream",
          "text": [
            "Silhouette Score for K-means clustering:  0.4660414858969988\n"
          ],
          "name": "stdout"
        }
      ]
    },
    {
      "cell_type": "markdown",
      "metadata": {
        "id": "JVM7DwZLtk4b"
      },
      "source": [
        "# 2. Try feature scaling and then apply K-Means on the scaled features. Did that improve the Silhouette score? If yes, can you justify why."
      ]
    },
    {
      "cell_type": "markdown",
      "metadata": {
        "id": "_1K8r0faixq7"
      },
      "source": [
        "## Perform feature scaling"
      ]
    },
    {
      "cell_type": "code",
      "metadata": {
        "id": "jAhVrqk2ivQn"
      },
      "source": [
        "scaler = preprocessing.StandardScaler()\n",
        "\n",
        "scaler.fit(X)\n",
        "X_scaled_array = scaler.transform(X)\n",
        "X_scaled = pd.DataFrame(X_scaled_array, columns = X.columns)"
      ],
      "execution_count": 54,
      "outputs": []
    },
    {
      "cell_type": "markdown",
      "metadata": {
        "id": "t-zqxZSti49L"
      },
      "source": [
        "## Find the good cluster value by elbow method on scaled data"
      ]
    },
    {
      "cell_type": "code",
      "metadata": {
        "colab": {
          "base_uri": "https://localhost:8080/",
          "height": 318
        },
        "id": "QNydBrIFtohR",
        "outputId": "baa5532f-d060-4d54-d6ac-7bc2f8314067"
      },
      "source": [
        "wcss = []\n",
        "for i in range(1,11):\n",
        "  kmeans = KMeans(n_clusters=i, max_iter=300, random_state=0)\n",
        "  kmeans.fit(X_scaled)\n",
        "  wcss.append(kmeans.inertia_)\n",
        "\n",
        "plt.plot(range(1, 11), wcss)\n",
        "plt.title('The elbow method')\n",
        "plt.xlabel('Number of Clusters')\n",
        "plt.ylabel('Wcss')\n",
        "plt.show()\n",
        "\n",
        "#  Identify the elbow point programmatically using kneed function\n",
        "kl = KneeLocator(range(1, 11), wcss, curve=\"convex\", direction=\"decreasing\")\n",
        "print(\"Elbow point: \", kl.elbow)"
      ],
      "execution_count": 55,
      "outputs": [
        {
          "output_type": "display_data",
          "data": {
            "image/png": "[encoded data removed]",
            "text/plain": [
              "<Figure size 432x288 with 1 Axes>"
            ]
          },
          "metadata": {
            "tags": []
          }
        },
        {
          "output_type": "stream",
          "text": [
            "Elbow point:  4\n"
          ],
          "name": "stdout"
        }
      ]
    },
    {
      "cell_type": "markdown",
      "metadata": {
        "id": "vaY8eAS-jMgV"
      },
      "source": [
        "## Apply K-means to the scaled data"
      ]
    },
    {
      "cell_type": "code",
      "metadata": {
        "id": "OVB97HKLjDTm"
      },
      "source": [
        "nclusters = 4 # The value taken from above plot\n",
        "seed = 0\n",
        "\n",
        "km = KMeans(n_clusters=nclusters, random_state=seed)\n",
        "km.fit(X_scaled)\n",
        "\n",
        "# predict the cluster for each data point\n",
        "y_cluster_kmeans = km.predict(X_scaled)"
      ],
      "execution_count": 56,
      "outputs": []
    },
    {
      "cell_type": "markdown",
      "metadata": {
        "id": "NuJ7dir0kJc_"
      },
      "source": [
        "## Silhouette Score for K-means clustering on the scaled features"
      ]
    },
    {
      "cell_type": "code",
      "metadata": {
        "colab": {
          "base_uri": "https://localhost:8080/"
        },
        "id": "0wlWtw22jV6A",
        "outputId": "75129e00-62c1-4643-b313-bcd6e6e33c94"
      },
      "source": [
        "score = metrics.silhouette_score(X_scaled, y_cluster_kmeans)\n",
        "print(\"Silhouette Score after K-means clustering on the scaled features: \", score)"
      ],
      "execution_count": 57,
      "outputs": [
        {
          "output_type": "stream",
          "text": [
            "Silhouette Score after K-means clustering on the scaled features:  0.21672750730006188\n"
          ],
          "name": "stdout"
        }
      ]
    },
    {
      "cell_type": "markdown",
      "metadata": {
        "id": "ku5FVTqe8gV6"
      },
      "source": [
        "## We see that the Silhouette Score is not improved aftre feature scaling because the features scaling were not required for this dataset. We should do feature scaling when the scale of a feature is irrelevant or misleading, and not do it when the scale is meaningful."
      ]
    },
    {
      "cell_type": "markdown",
      "metadata": {
        "id": "VNxb394Qto6p"
      },
      "source": [
        "# 3. Apply PCA on the same dataset. Apply K-Means algorithm on the PCA result and report your observation if the silhouette score improved or not?"
      ]
    },
    {
      "cell_type": "markdown",
      "metadata": {
        "id": "TMq21EfnrEfU"
      },
      "source": [
        "## Apply PCA on the scaled dataset"
      ]
    },
    {
      "cell_type": "code",
      "metadata": {
        "id": "u8idGDru2Gv4"
      },
      "source": [
        "# Standardizing the features\n",
        "ndimensions = 2\n",
        "\n",
        "pca = PCA(n_components=ndimensions, random_state=seed)\n",
        "X_pca = pca.fit_transform(X_scaled)\n",
        "X_pca_array = pca.transform(X_scaled)"
      ],
      "execution_count": 58,
      "outputs": []
    },
    {
      "cell_type": "markdown",
      "metadata": {
        "id": "niQPtG7T8Sgf"
      },
      "source": [
        "## Apply k-Means "
      ]
    },
    {
      "cell_type": "code",
      "metadata": {
        "id": "6M_T7rZtqXEr"
      },
      "source": [
        "nclusters = 3 # this is the k in kmeans\n",
        "seed = 0\n",
        "\n",
        "km = KMeans(n_clusters=nclusters, random_state=seed)\n",
        "km.fit(X_pca)\n",
        "\n",
        "# predict the cluster for each data point\n",
        "y_cluster_kmeans = km.predict(X_pca)"
      ],
      "execution_count": 59,
      "outputs": []
    },
    {
      "cell_type": "markdown",
      "metadata": {
        "id": "29uXspGJrBPf"
      },
      "source": [
        "## Silhouette Score after K-Means algorithm on the PCA result"
      ]
    },
    {
      "cell_type": "code",
      "metadata": {
        "colab": {
          "base_uri": "https://localhost:8080/"
        },
        "id": "Exxd71pPqnyg",
        "outputId": "36831443-acea-4090-dc07-8025059edba8"
      },
      "source": [
        "score = metrics.silhouette_score(X_pca, y_cluster_kmeans)\n",
        "print(\"Silhouette Score after K-Means algorithm on the PCA result: \", score)"
      ],
      "execution_count": 60,
      "outputs": [
        {
          "output_type": "stream",
          "text": [
            "Silhouette Score after K-Means algorithm on the PCA result:  0.4533204531045519\n"
          ],
          "name": "stdout"
        }
      ]
    },
    {
      "cell_type": "markdown",
      "metadata": {
        "id": "D6YyTqwt9_za"
      },
      "source": [
        "## We can see that the Silhouette score has improved from 0.2167 to 0.4533 after performing k-Means algorithm on the PCA result."
      ]
    },
    {
      "cell_type": "markdown",
      "metadata": {
        "id": "U6yfPBhcouxY"
      },
      "source": [
        "## Visualization: Scatterplot showing K-means clustering"
      ]
    },
    {
      "cell_type": "code",
      "metadata": {
        "colab": {
          "base_uri": "https://localhost:8080/",
          "height": 267
        },
        "id": "e4KRZoZknlwf",
        "outputId": "a40b4205-5ef8-4809-adba-2a27704ecafa"
      },
      "source": [
        "# Predict the labels of clusters.\n",
        "label = km.fit_predict(X_pca)\n",
        " \n",
        "# Getting unique labels\n",
        "u_labels = np.unique(label)\n",
        "\n",
        "# Getting the Centroids\n",
        "centroids = km.cluster_centers_\n",
        "\n",
        "# Plotting the results:\n",
        " \n",
        "for i in u_labels:\n",
        "    plt.scatter(X_pca[label == i , 0] , X_pca[label == i , 1] , label = i)\n",
        "\n",
        "plt.scatter(centroids[:,0] , centroids[:,1] , s = 80, color = 'k')\n",
        "plt.legend()\n",
        "plt.show()"
      ],
      "execution_count": 61,
      "outputs": [
        {
          "output_type": "display_data",
          "data": {
            "image/png": "[encoded data removed]",
            "text/plain": [
              "<Figure size 432x288 with 1 Axes>"
            ]
          },
          "metadata": {
            "tags": []
          }
        }
      ]
    },
    {
      "cell_type": "markdown",
      "metadata": {
        "id": "0GNnImLnogfY"
      },
      "source": [
        "## Visualization: 2 Component PCA Graph"
      ]
    },
    {
      "cell_type": "code",
      "metadata": {
        "colab": {
          "base_uri": "https://localhost:8080/",
          "height": 524
        },
        "id": "-mtnQnDZByeM",
        "outputId": "469592cd-5b8c-4388-8149-7523e93bf507"
      },
      "source": [
        "principalDf = pd.DataFrame(data = X_pca, columns = ['Principal Component 1', 'Principal Component 2'])\n",
        "finalDf = pd.concat([principalDf, cc_data[['TENURE']]], axis = 1)\n",
        "\n",
        "fig = plt.figure(figsize = (8,8))\n",
        "ax = fig.add_subplot(1,1,1) \n",
        "ax.set_xlabel('Principal Component 1', fontsize = 15)\n",
        "ax.set_ylabel('Principal Component 2', fontsize = 15)\n",
        "ax.set_title('2 component PCA Graph', fontsize = 20)\n",
        "targets = [12, 11, 10, 9, 8, 7, 6]\n",
        "colors = ['r', 'g', 'k', 'm', 'c', 'y', 'b']\n",
        "for target, color in zip(targets,colors):\n",
        "    indicesToKeep = finalDf['TENURE'] == target\n",
        "    ax.scatter(finalDf.loc[indicesToKeep, 'Principal Component 1']\n",
        "               , finalDf.loc[indicesToKeep, 'Principal Component 2']\n",
        "               , c = color\n",
        "               , s = 50)\n",
        "ax.legend(targets)\n",
        "ax.grid()"
      ],
      "execution_count": 62,
      "outputs": [
        {
          "output_type": "display_data",
          "data": {
            "image/png": "[encoded data removed]",
            "text/plain": [
              "<Figure size 576x576 with 1 Axes>"
            ]
          },
          "metadata": {
            "tags": []
          }
        }
      ]
    }
  ]
}
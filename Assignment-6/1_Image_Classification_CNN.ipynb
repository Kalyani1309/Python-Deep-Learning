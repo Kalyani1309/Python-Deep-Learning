{
  "nbformat": 4,
  "nbformat_minor": 0,
  "metadata": {
    "colab": {
      "name": "1_Image_Classification_CNN.ipynb",
      "provenance": [],
      "collapsed_sections": []
    },
    "kernelspec": {
      "name": "python3",
      "display_name": "Python 3"
    },
    "accelerator": "GPU"
  },
  "cells": [
    {
      "cell_type": "markdown",
      "metadata": {
        "id": "pWnbnDd1AqwK"
      },
      "source": [
        "# Simple CNN model for CIFAR-10\n"
      ]
    },
    {
      "cell_type": "code",
      "metadata": {
        "id": "iYpSkpfkAJ9c"
      },
      "source": [
        "import numpy as np\n",
        "import matplotlib.pyplot as plt\n",
        "from keras.datasets import cifar10\n",
        "from keras.models import Sequential\n",
        "from keras.layers import Dense, Flatten, Dropout, Input, BatchNormalization\n",
        "from keras.constraints import maxnorm\n",
        "from keras.models import Model\n",
        "from keras.models import load_model\n",
        "from keras.optimizers import SGD, Adam\n",
        "from keras.layers.convolutional import Conv2D, MaxPooling2D\n",
        "from keras.utils import np_utils\n",
        "from keras import backend as K"
      ],
      "execution_count": 37,
      "outputs": []
    },
    {
      "cell_type": "markdown",
      "metadata": {
        "id": "GJpsavCTA0Dj"
      },
      "source": [
        "# load data"
      ]
    },
    {
      "cell_type": "code",
      "metadata": {
        "id": "QCOqhYJqAxmj"
      },
      "source": [
        "(X_train, y_train), (X_test, y_test) = cifar10.load_data()"
      ],
      "execution_count": 38,
      "outputs": []
    },
    {
      "cell_type": "markdown",
      "metadata": {
        "id": "knMRFaZUBL8r"
      },
      "source": [
        "# Normalize inputs from 0-255 to 0.0-1.0"
      ]
    },
    {
      "cell_type": "code",
      "metadata": {
        "id": "7YH35TxjBJIH"
      },
      "source": [
        "X_train = X_train.astype('float32')\n",
        "X_test = X_test.astype('float32')\n",
        "X_train = X_train / 255.0\n",
        "X_test = X_test / 255.0"
      ],
      "execution_count": 39,
      "outputs": []
    },
    {
      "cell_type": "code",
      "metadata": {
        "id": "W8GXS6V3vFiN",
        "colab": {
          "base_uri": "https://localhost:8080/"
        },
        "outputId": "9a4a22cd-1358-4371-8c7f-b7341966d018"
      },
      "source": [
        "print(X_train.shape)"
      ],
      "execution_count": 40,
      "outputs": [
        {
          "output_type": "stream",
          "text": [
            "(50000, 32, 32, 3)\n"
          ],
          "name": "stdout"
        }
      ]
    },
    {
      "cell_type": "markdown",
      "metadata": {
        "id": "XIVTFI4SBTTU"
      },
      "source": [
        "# one hot encode labels"
      ]
    },
    {
      "cell_type": "code",
      "metadata": {
        "id": "1ZqCaDjUBTwl"
      },
      "source": [
        "y_train = np_utils.to_categorical(y_train)\n",
        "y_test = np_utils.to_categorical(y_test)\n",
        "num_classes = y_test.shape[1]"
      ],
      "execution_count": 41,
      "outputs": []
    },
    {
      "cell_type": "code",
      "metadata": {
        "id": "x5B2yZL4vXom",
        "colab": {
          "base_uri": "https://localhost:8080/"
        },
        "outputId": "3df0c091-086c-41e8-9676-7c2edbcff6d3"
      },
      "source": [
        "print(num_classes)"
      ],
      "execution_count": 42,
      "outputs": [
        {
          "output_type": "stream",
          "text": [
            "10\n"
          ],
          "name": "stdout"
        }
      ]
    },
    {
      "cell_type": "markdown",
      "metadata": {
        "id": "9PXbifxcBXdv"
      },
      "source": [
        "# Create the model"
      ]
    },
    {
      "cell_type": "code",
      "metadata": {
        "id": "42jnKJGpBV-I"
      },
      "source": [
        "model = Sequential()\n",
        "model.add(Conv2D(32, (3, 3), input_shape=(X_train.shape[1:]), padding='same', activation='relu'))\n",
        "model.add(Dropout(0.5))\n",
        "model.add(Conv2D(64, (3, 3), activation='relu', padding='same'))\n",
        "model.add(MaxPooling2D(pool_size=(2, 2)))\n",
        "model.add(Dropout(0.5))\n",
        "model.add(Flatten())\n",
        "model.add(Dense(128, activation='relu', kernel_constraint=maxnorm(3)))\n",
        "model.add(Dropout(0.3))\n",
        "model.add(Dense(num_classes, activation='softmax'))"
      ],
      "execution_count": 43,
      "outputs": []
    },
    {
      "cell_type": "markdown",
      "metadata": {
        "id": "Agtcn0FvBc50"
      },
      "source": [
        "# Compile model"
      ]
    },
    {
      "cell_type": "code",
      "metadata": {
        "id": "mU0e5-U7Ba2q"
      },
      "source": [
        "epochs = 70\n",
        "lrate = 0.001\n",
        "sgd = Adam(learning_rate=lrate)\n",
        "model.compile(loss='categorical_crossentropy', optimizer=sgd, metrics=['accuracy'])"
      ],
      "execution_count": 44,
      "outputs": []
    },
    {
      "cell_type": "code",
      "metadata": {
        "id": "jPAxsGBWBgPL",
        "colab": {
          "base_uri": "https://localhost:8080/"
        },
        "outputId": "814d5fea-70b2-4fd4-bdf4-db786d156684"
      },
      "source": [
        "print(model.summary())"
      ],
      "execution_count": 45,
      "outputs": [
        {
          "output_type": "stream",
          "text": [
            "Model: \"sequential_3\"\n",
            "_________________________________________________________________\n",
            "Layer (type)                 Output Shape              Param #   \n",
            "=================================================================\n",
            "conv2d_14 (Conv2D)           (None, 32, 32, 32)        896       \n",
            "_________________________________________________________________\n",
            "dropout_16 (Dropout)         (None, 32, 32, 32)        0         \n",
            "_________________________________________________________________\n",
            "conv2d_15 (Conv2D)           (None, 32, 32, 64)        18496     \n",
            "_________________________________________________________________\n",
            "max_pooling2d_7 (MaxPooling2 (None, 16, 16, 64)        0         \n",
            "_________________________________________________________________\n",
            "dropout_17 (Dropout)         (None, 16, 16, 64)        0         \n",
            "_________________________________________________________________\n",
            "flatten_4 (Flatten)          (None, 16384)             0         \n",
            "_________________________________________________________________\n",
            "dense_9 (Dense)              (None, 128)               2097280   \n",
            "_________________________________________________________________\n",
            "dropout_18 (Dropout)         (None, 128)               0         \n",
            "_________________________________________________________________\n",
            "dense_10 (Dense)             (None, 10)                1290      \n",
            "=================================================================\n",
            "Total params: 2,117,962\n",
            "Trainable params: 2,117,962\n",
            "Non-trainable params: 0\n",
            "_________________________________________________________________\n",
            "None\n"
          ],
          "name": "stdout"
        }
      ]
    },
    {
      "cell_type": "markdown",
      "metadata": {
        "id": "vI3s6IHMBogK"
      },
      "source": [
        "# Fit the model"
      ]
    },
    {
      "cell_type": "code",
      "metadata": {
        "id": "hFS521-iBh-n",
        "colab": {
          "base_uri": "https://localhost:8080/"
        },
        "outputId": "5e5db8d9-fb0d-44db-858d-264d41af7651"
      },
      "source": [
        "model.fit(X_train, y_train, validation_data=(X_test, y_test), epochs=epochs, batch_size=128, verbose=1)"
      ],
      "execution_count": 46,
      "outputs": [
        {
          "output_type": "stream",
          "text": [
            "Epoch 1/70\n",
            "391/391 [==============================] - 7s 15ms/step - loss: 2.3004 - accuracy: 0.1502 - val_loss: 1.7548 - val_accuracy: 0.4070\n",
            "Epoch 2/70\n",
            "391/391 [==============================] - 5s 13ms/step - loss: 1.7791 - accuracy: 0.3209 - val_loss: 1.5264 - val_accuracy: 0.4823\n",
            "Epoch 3/70\n",
            "391/391 [==============================] - 5s 13ms/step - loss: 1.6468 - accuracy: 0.3727 - val_loss: 1.4228 - val_accuracy: 0.5150\n",
            "Epoch 4/70\n",
            "391/391 [==============================] - 5s 13ms/step - loss: 1.5774 - accuracy: 0.4074 - val_loss: 1.4046 - val_accuracy: 0.5112\n",
            "Epoch 5/70\n",
            "391/391 [==============================] - 5s 13ms/step - loss: 1.5344 - accuracy: 0.4302 - val_loss: 1.3537 - val_accuracy: 0.5536\n",
            "Epoch 6/70\n",
            "391/391 [==============================] - 5s 14ms/step - loss: 1.4965 - accuracy: 0.4450 - val_loss: 1.2908 - val_accuracy: 0.5579\n",
            "Epoch 7/70\n",
            "391/391 [==============================] - 6s 14ms/step - loss: 1.4579 - accuracy: 0.4577 - val_loss: 1.2531 - val_accuracy: 0.5745\n",
            "Epoch 8/70\n",
            "391/391 [==============================] - 5s 14ms/step - loss: 1.4385 - accuracy: 0.4650 - val_loss: 1.2517 - val_accuracy: 0.5754\n",
            "Epoch 9/70\n",
            "391/391 [==============================] - 6s 14ms/step - loss: 1.4066 - accuracy: 0.4812 - val_loss: 1.1961 - val_accuracy: 0.5891\n",
            "Epoch 10/70\n",
            "391/391 [==============================] - 5s 13ms/step - loss: 1.3718 - accuracy: 0.4967 - val_loss: 1.2010 - val_accuracy: 0.5924\n",
            "Epoch 11/70\n",
            "391/391 [==============================] - 5s 13ms/step - loss: 1.3533 - accuracy: 0.4989 - val_loss: 1.1852 - val_accuracy: 0.6139\n",
            "Epoch 12/70\n",
            "391/391 [==============================] - 5s 13ms/step - loss: 1.3307 - accuracy: 0.5155 - val_loss: 1.1637 - val_accuracy: 0.6123\n",
            "Epoch 13/70\n",
            "391/391 [==============================] - 5s 13ms/step - loss: 1.3107 - accuracy: 0.5152 - val_loss: 1.1134 - val_accuracy: 0.6206\n",
            "Epoch 14/70\n",
            "391/391 [==============================] - 5s 13ms/step - loss: 1.2936 - accuracy: 0.5249 - val_loss: 1.1067 - val_accuracy: 0.6315\n",
            "Epoch 15/70\n",
            "391/391 [==============================] - 5s 13ms/step - loss: 1.2710 - accuracy: 0.5309 - val_loss: 1.1203 - val_accuracy: 0.6154\n",
            "Epoch 16/70\n",
            "391/391 [==============================] - 5s 14ms/step - loss: 1.2598 - accuracy: 0.5374 - val_loss: 1.1187 - val_accuracy: 0.6304\n",
            "Epoch 17/70\n",
            "391/391 [==============================] - 5s 14ms/step - loss: 1.2594 - accuracy: 0.5373 - val_loss: 1.0935 - val_accuracy: 0.6432\n",
            "Epoch 18/70\n",
            "391/391 [==============================] - 5s 13ms/step - loss: 1.2459 - accuracy: 0.5424 - val_loss: 1.1218 - val_accuracy: 0.6349\n",
            "Epoch 19/70\n",
            "391/391 [==============================] - 5s 13ms/step - loss: 1.2440 - accuracy: 0.5430 - val_loss: 1.0876 - val_accuracy: 0.6429\n",
            "Epoch 20/70\n",
            "391/391 [==============================] - 5s 13ms/step - loss: 1.2248 - accuracy: 0.5515 - val_loss: 1.0526 - val_accuracy: 0.6470\n",
            "Epoch 21/70\n",
            "391/391 [==============================] - 5s 13ms/step - loss: 1.2235 - accuracy: 0.5504 - val_loss: 1.0534 - val_accuracy: 0.6478\n",
            "Epoch 22/70\n",
            "391/391 [==============================] - 5s 13ms/step - loss: 1.2065 - accuracy: 0.5551 - val_loss: 1.0668 - val_accuracy: 0.6453\n",
            "Epoch 23/70\n",
            "391/391 [==============================] - 5s 14ms/step - loss: 1.1953 - accuracy: 0.5652 - val_loss: 1.0566 - val_accuracy: 0.6499\n",
            "Epoch 24/70\n",
            "391/391 [==============================] - 5s 13ms/step - loss: 1.1892 - accuracy: 0.5703 - val_loss: 1.0464 - val_accuracy: 0.6528\n",
            "Epoch 25/70\n",
            "391/391 [==============================] - 6s 14ms/step - loss: 1.1721 - accuracy: 0.5762 - val_loss: 1.0219 - val_accuracy: 0.6632\n",
            "Epoch 26/70\n",
            "391/391 [==============================] - 5s 13ms/step - loss: 1.1585 - accuracy: 0.5807 - val_loss: 1.0072 - val_accuracy: 0.6702\n",
            "Epoch 27/70\n",
            "391/391 [==============================] - 6s 14ms/step - loss: 1.1425 - accuracy: 0.5865 - val_loss: 1.0295 - val_accuracy: 0.6631\n",
            "Epoch 28/70\n",
            "391/391 [==============================] - 6s 14ms/step - loss: 1.1446 - accuracy: 0.5806 - val_loss: 1.0207 - val_accuracy: 0.6626\n",
            "Epoch 29/70\n",
            "391/391 [==============================] - 5s 14ms/step - loss: 1.1319 - accuracy: 0.5896 - val_loss: 1.0203 - val_accuracy: 0.6551\n",
            "Epoch 30/70\n",
            "391/391 [==============================] - 5s 13ms/step - loss: 1.1290 - accuracy: 0.5864 - val_loss: 1.0037 - val_accuracy: 0.6707\n",
            "Epoch 31/70\n",
            "391/391 [==============================] - 5s 14ms/step - loss: 1.1210 - accuracy: 0.5966 - val_loss: 1.0234 - val_accuracy: 0.6568\n",
            "Epoch 32/70\n",
            "391/391 [==============================] - 5s 13ms/step - loss: 1.1091 - accuracy: 0.5977 - val_loss: 0.9829 - val_accuracy: 0.6698\n",
            "Epoch 33/70\n",
            "391/391 [==============================] - 5s 14ms/step - loss: 1.0960 - accuracy: 0.6007 - val_loss: 0.9801 - val_accuracy: 0.6669\n",
            "Epoch 34/70\n",
            "391/391 [==============================] - 5s 14ms/step - loss: 1.0924 - accuracy: 0.6042 - val_loss: 0.9704 - val_accuracy: 0.6717\n",
            "Epoch 35/70\n",
            "391/391 [==============================] - 5s 13ms/step - loss: 1.0841 - accuracy: 0.6116 - val_loss: 0.9484 - val_accuracy: 0.6839\n",
            "Epoch 36/70\n",
            "391/391 [==============================] - 5s 14ms/step - loss: 1.0858 - accuracy: 0.6040 - val_loss: 0.9689 - val_accuracy: 0.6822\n",
            "Epoch 37/70\n",
            "391/391 [==============================] - 6s 14ms/step - loss: 1.0812 - accuracy: 0.6093 - val_loss: 0.9642 - val_accuracy: 0.6735\n",
            "Epoch 38/70\n",
            "391/391 [==============================] - 5s 13ms/step - loss: 1.0869 - accuracy: 0.6089 - val_loss: 0.9769 - val_accuracy: 0.6767\n",
            "Epoch 39/70\n",
            "391/391 [==============================] - 5s 14ms/step - loss: 1.0732 - accuracy: 0.6132 - val_loss: 0.9568 - val_accuracy: 0.6823\n",
            "Epoch 40/70\n",
            "391/391 [==============================] - 5s 13ms/step - loss: 1.0670 - accuracy: 0.6172 - val_loss: 0.9450 - val_accuracy: 0.6824\n",
            "Epoch 41/70\n",
            "391/391 [==============================] - 5s 13ms/step - loss: 1.0636 - accuracy: 0.6130 - val_loss: 0.9491 - val_accuracy: 0.6795\n",
            "Epoch 42/70\n",
            "391/391 [==============================] - 5s 13ms/step - loss: 1.0677 - accuracy: 0.6143 - val_loss: 0.9581 - val_accuracy: 0.6838\n",
            "Epoch 43/70\n",
            "391/391 [==============================] - 5s 14ms/step - loss: 1.0684 - accuracy: 0.6134 - val_loss: 0.9583 - val_accuracy: 0.6780\n",
            "Epoch 44/70\n",
            "391/391 [==============================] - 5s 13ms/step - loss: 1.0542 - accuracy: 0.6183 - val_loss: 0.9534 - val_accuracy: 0.6832\n",
            "Epoch 45/70\n",
            "391/391 [==============================] - 5s 14ms/step - loss: 1.0478 - accuracy: 0.6258 - val_loss: 0.9465 - val_accuracy: 0.6811\n",
            "Epoch 46/70\n",
            "391/391 [==============================] - 6s 14ms/step - loss: 1.0433 - accuracy: 0.6280 - val_loss: 0.9388 - val_accuracy: 0.6887\n",
            "Epoch 47/70\n",
            "391/391 [==============================] - 5s 14ms/step - loss: 1.0538 - accuracy: 0.6194 - val_loss: 0.9349 - val_accuracy: 0.6870\n",
            "Epoch 48/70\n",
            "391/391 [==============================] - 5s 13ms/step - loss: 1.0494 - accuracy: 0.6247 - val_loss: 0.9091 - val_accuracy: 0.6946\n",
            "Epoch 49/70\n",
            "391/391 [==============================] - 5s 14ms/step - loss: 1.0301 - accuracy: 0.6312 - val_loss: 0.9178 - val_accuracy: 0.6929\n",
            "Epoch 50/70\n",
            "391/391 [==============================] - 6s 14ms/step - loss: 1.0318 - accuracy: 0.6285 - val_loss: 0.9339 - val_accuracy: 0.6871\n",
            "Epoch 51/70\n",
            "391/391 [==============================] - 6s 14ms/step - loss: 1.0277 - accuracy: 0.6303 - val_loss: 0.9040 - val_accuracy: 0.6957\n",
            "Epoch 52/70\n",
            "391/391 [==============================] - 6s 14ms/step - loss: 1.0219 - accuracy: 0.6331 - val_loss: 0.9529 - val_accuracy: 0.6798\n",
            "Epoch 53/70\n",
            "391/391 [==============================] - 6s 14ms/step - loss: 1.0222 - accuracy: 0.6351 - val_loss: 0.9087 - val_accuracy: 0.6899\n",
            "Epoch 54/70\n",
            "391/391 [==============================] - 5s 14ms/step - loss: 1.0066 - accuracy: 0.6399 - val_loss: 0.9087 - val_accuracy: 0.6954\n",
            "Epoch 55/70\n",
            "391/391 [==============================] - 6s 14ms/step - loss: 1.0182 - accuracy: 0.6351 - val_loss: 0.9291 - val_accuracy: 0.6856\n",
            "Epoch 56/70\n",
            "391/391 [==============================] - 6s 14ms/step - loss: 1.0170 - accuracy: 0.6353 - val_loss: 0.9536 - val_accuracy: 0.6822\n",
            "Epoch 57/70\n",
            "391/391 [==============================] - 5s 14ms/step - loss: 1.0108 - accuracy: 0.6334 - val_loss: 0.9349 - val_accuracy: 0.6853\n",
            "Epoch 58/70\n",
            "391/391 [==============================] - 5s 13ms/step - loss: 1.0147 - accuracy: 0.6332 - val_loss: 0.9188 - val_accuracy: 0.6863\n",
            "Epoch 59/70\n",
            "391/391 [==============================] - 5s 14ms/step - loss: 1.0101 - accuracy: 0.6353 - val_loss: 0.9207 - val_accuracy: 0.6903\n",
            "Epoch 60/70\n",
            "391/391 [==============================] - 5s 13ms/step - loss: 1.0005 - accuracy: 0.6404 - val_loss: 0.9044 - val_accuracy: 0.6918\n",
            "Epoch 61/70\n",
            "391/391 [==============================] - 6s 14ms/step - loss: 1.0024 - accuracy: 0.6372 - val_loss: 0.9347 - val_accuracy: 0.6891\n",
            "Epoch 62/70\n",
            "391/391 [==============================] - 6s 14ms/step - loss: 1.0003 - accuracy: 0.6408 - val_loss: 0.9225 - val_accuracy: 0.6920\n",
            "Epoch 63/70\n",
            "391/391 [==============================] - 5s 14ms/step - loss: 0.9957 - accuracy: 0.6450 - val_loss: 0.9159 - val_accuracy: 0.6970\n",
            "Epoch 64/70\n",
            "391/391 [==============================] - 6s 14ms/step - loss: 0.9961 - accuracy: 0.6418 - val_loss: 0.9037 - val_accuracy: 0.7006\n",
            "Epoch 65/70\n",
            "391/391 [==============================] - 6s 14ms/step - loss: 0.9854 - accuracy: 0.6471 - val_loss: 0.9132 - val_accuracy: 0.6895\n",
            "Epoch 66/70\n",
            "391/391 [==============================] - 5s 14ms/step - loss: 0.9827 - accuracy: 0.6475 - val_loss: 0.9032 - val_accuracy: 0.6933\n",
            "Epoch 67/70\n",
            "391/391 [==============================] - 5s 13ms/step - loss: 0.9853 - accuracy: 0.6461 - val_loss: 0.8845 - val_accuracy: 0.6957\n",
            "Epoch 68/70\n",
            "391/391 [==============================] - 5s 13ms/step - loss: 0.9837 - accuracy: 0.6473 - val_loss: 0.9103 - val_accuracy: 0.6895\n",
            "Epoch 69/70\n",
            "391/391 [==============================] - 5s 14ms/step - loss: 0.9692 - accuracy: 0.6537 - val_loss: 0.8950 - val_accuracy: 0.6951\n",
            "Epoch 70/70\n",
            "391/391 [==============================] - 5s 13ms/step - loss: 0.9687 - accuracy: 0.6508 - val_loss: 0.8790 - val_accuracy: 0.6985\n"
          ],
          "name": "stdout"
        },
        {
          "output_type": "execute_result",
          "data": {
            "text/plain": [
              "<keras.callbacks.History at 0x7f35e8179850>"
            ]
          },
          "metadata": {
            "tags": []
          },
          "execution_count": 46
        }
      ]
    },
    {
      "cell_type": "markdown",
      "metadata": {
        "id": "b5c_zYozCLFF"
      },
      "source": [
        "# Final evaluation of the model"
      ]
    },
    {
      "cell_type": "code",
      "metadata": {
        "id": "j7l-gnT2Bt1O",
        "colab": {
          "base_uri": "https://localhost:8080/"
        },
        "outputId": "130280cb-188b-4e32-96a3-6b9b2b58bcac"
      },
      "source": [
        "scores = model.evaluate(X_test, y_test, verbose=0)\n",
        "print(\"Test Loss: %.2f%%\" %(scores[0]*100))\n",
        "print(\"Test Accuracy of existing model: %.2f%%\" % (scores[1]*100))"
      ],
      "execution_count": 47,
      "outputs": [
        {
          "output_type": "stream",
          "text": [
            "Test Loss: 87.90%\n",
            "Test Accuracy of existing model: 69.85%\n"
          ],
          "name": "stdout"
        }
      ]
    },
    {
      "cell_type": "markdown",
      "metadata": {
        "id": "JWx7EoouDGrw"
      },
      "source": [
        "# 1. Follow the instruction below and then report how the performance changed"
      ]
    },
    {
      "cell_type": "markdown",
      "metadata": {
        "id": "IA1jghYEDToz"
      },
      "source": [
        "*   Convolutional input layer, 32 feature maps with a size of 3×3 and a rectifier activation function.\n",
        "*   Dropout layer at 20%.\n",
        "*   Convolutional layer, 32 feature maps with a size of 3×3 and a rectifier  activation function.\n",
        "*   Max Pool layer with size 2×2.\n",
        "*   Convolutional layer, 64 feature maps with a size of 3×3 and a rectifier activation function.\n",
        "*   Dropout layer at 20%.\n",
        "*   Convolutional layer, 64 feature maps with a size of 3×3 and a rectifier activation function.\n",
        "*   Max Pool layer with size 2×2.\n",
        "*   Convolutional layer, 128 feature maps with a size of 3×3 and a rectifier activation function.\n",
        "*   Dropout layer at 20%.\n",
        "*   Convolutional layer,128 feature maps with a size of 3×3 and a rectifier activation function.\n",
        "*   Max Pool layer with size 2×2.\n",
        "*   Flatten layer.\n",
        "*   Dropout layer at 20%.\n",
        "*   Fully connected layer with 1024 units and a rectifier activation function.\n",
        "*   Dropout layer at 20%.\n",
        "*   Fully connected layer with 512 units and a rectifier activation function.\n",
        "*   Dropout layer at 20%.\n",
        "*   Fully connected output layer with 10 units and a softmax activation function"
      ]
    },
    {
      "cell_type": "code",
      "metadata": {
        "id": "TQERa-cw-_xm"
      },
      "source": [
        "# Create model 2\n",
        "model2 = Sequential()\n",
        "model2.add(Conv2D(32, (3, 3), input_shape=(X_train.shape[1:]), padding='same', activation='relu'))\n",
        "model2.add(Dropout(0.2))\n",
        "model2.add(Conv2D(32, (3, 3), activation='relu', padding='same'))\n",
        "model2.add(MaxPooling2D(pool_size=(2, 2)))\n",
        "\n",
        "model2.add(Conv2D(64, (3, 3), activation='relu', padding='same'))\n",
        "model2.add(Dropout(0.2))\n",
        "model2.add(Conv2D(64, (3, 3), activation='relu', padding='same'))\n",
        "model2.add(MaxPooling2D(pool_size=(2, 2)))\n",
        "\n",
        "model2.add(Conv2D(128, (3, 3), activation='relu', padding='same'))\n",
        "model2.add(Dropout(0.2))\n",
        "model2.add(Conv2D(128, (3, 3), activation='relu', padding='same'))\n",
        "model2.add(Dropout(0.2))\n",
        "model2.add(MaxPooling2D(pool_size=(2, 2)))\n",
        "\n",
        "model2.add(Flatten())\n",
        "model2.add(Dropout(0.2))\n",
        "model2.add(Dense(1024, activation='relu', kernel_constraint=maxnorm(3)))\n",
        "model2.add(Dropout(0.2))\n",
        "model2.add(Dense(512, activation='relu'))\n",
        "model2.add(Dropout(0.2))\n",
        "model2.add(Dense(num_classes, activation='softmax'))"
      ],
      "execution_count": 48,
      "outputs": []
    },
    {
      "cell_type": "code",
      "metadata": {
        "id": "MSdFKRDD-meL"
      },
      "source": [
        "epochs = 70\n",
        "lrate = 0.001\n",
        "sgd = Adam(learning_rate=lrate)\n",
        "model2.compile(loss='categorical_crossentropy', optimizer=sgd, metrics=['accuracy'])"
      ],
      "execution_count": 49,
      "outputs": []
    },
    {
      "cell_type": "code",
      "metadata": {
        "colab": {
          "base_uri": "https://localhost:8080/"
        },
        "id": "ozCCKGyQ-mq4",
        "outputId": "ed231b04-40df-4ac1-bf5b-678a7dbb4c0c"
      },
      "source": [
        "model2.summary()"
      ],
      "execution_count": 50,
      "outputs": [
        {
          "output_type": "stream",
          "text": [
            "Model: \"sequential_4\"\n",
            "_________________________________________________________________\n",
            "Layer (type)                 Output Shape              Param #   \n",
            "=================================================================\n",
            "conv2d_16 (Conv2D)           (None, 32, 32, 32)        896       \n",
            "_________________________________________________________________\n",
            "dropout_19 (Dropout)         (None, 32, 32, 32)        0         \n",
            "_________________________________________________________________\n",
            "conv2d_17 (Conv2D)           (None, 32, 32, 32)        9248      \n",
            "_________________________________________________________________\n",
            "max_pooling2d_8 (MaxPooling2 (None, 16, 16, 32)        0         \n",
            "_________________________________________________________________\n",
            "conv2d_18 (Conv2D)           (None, 16, 16, 64)        18496     \n",
            "_________________________________________________________________\n",
            "dropout_20 (Dropout)         (None, 16, 16, 64)        0         \n",
            "_________________________________________________________________\n",
            "conv2d_19 (Conv2D)           (None, 16, 16, 64)        36928     \n",
            "_________________________________________________________________\n",
            "max_pooling2d_9 (MaxPooling2 (None, 8, 8, 64)          0         \n",
            "_________________________________________________________________\n",
            "conv2d_20 (Conv2D)           (None, 8, 8, 128)         73856     \n",
            "_________________________________________________________________\n",
            "dropout_21 (Dropout)         (None, 8, 8, 128)         0         \n",
            "_________________________________________________________________\n",
            "conv2d_21 (Conv2D)           (None, 8, 8, 128)         147584    \n",
            "_________________________________________________________________\n",
            "dropout_22 (Dropout)         (None, 8, 8, 128)         0         \n",
            "_________________________________________________________________\n",
            "max_pooling2d_10 (MaxPooling (None, 4, 4, 128)         0         \n",
            "_________________________________________________________________\n",
            "flatten_5 (Flatten)          (None, 2048)              0         \n",
            "_________________________________________________________________\n",
            "dropout_23 (Dropout)         (None, 2048)              0         \n",
            "_________________________________________________________________\n",
            "dense_11 (Dense)             (None, 1024)              2098176   \n",
            "_________________________________________________________________\n",
            "dropout_24 (Dropout)         (None, 1024)              0         \n",
            "_________________________________________________________________\n",
            "dense_12 (Dense)             (None, 512)               524800    \n",
            "_________________________________________________________________\n",
            "dropout_25 (Dropout)         (None, 512)               0         \n",
            "_________________________________________________________________\n",
            "dense_13 (Dense)             (None, 10)                5130      \n",
            "=================================================================\n",
            "Total params: 2,915,114\n",
            "Trainable params: 2,915,114\n",
            "Non-trainable params: 0\n",
            "_________________________________________________________________\n"
          ],
          "name": "stdout"
        }
      ]
    },
    {
      "cell_type": "code",
      "metadata": {
        "colab": {
          "base_uri": "https://localhost:8080/"
        },
        "id": "lbj9C5dQBaLm",
        "outputId": "4e8c56c0-c8f4-49d8-90e2-e6989b02ba04"
      },
      "source": [
        "model2.fit(X_train, y_train, validation_data=(X_test, y_test), epochs=epochs, batch_size=128, verbose=1)"
      ],
      "execution_count": 51,
      "outputs": [
        {
          "output_type": "stream",
          "text": [
            "Epoch 1/70\n",
            "391/391 [==============================] - 9s 19ms/step - loss: 1.9274 - accuracy: 0.2744 - val_loss: 1.3734 - val_accuracy: 0.5117\n",
            "Epoch 2/70\n",
            "391/391 [==============================] - 7s 17ms/step - loss: 1.2771 - accuracy: 0.5355 - val_loss: 1.0522 - val_accuracy: 0.6316\n",
            "Epoch 3/70\n",
            "391/391 [==============================] - 7s 17ms/step - loss: 1.0245 - accuracy: 0.6383 - val_loss: 0.9108 - val_accuracy: 0.6805\n",
            "Epoch 4/70\n",
            "391/391 [==============================] - 7s 17ms/step - loss: 0.8712 - accuracy: 0.6903 - val_loss: 0.8167 - val_accuracy: 0.7142\n",
            "Epoch 5/70\n",
            "391/391 [==============================] - 7s 17ms/step - loss: 0.7717 - accuracy: 0.7289 - val_loss: 0.8005 - val_accuracy: 0.7217\n",
            "Epoch 6/70\n",
            "391/391 [==============================] - 7s 17ms/step - loss: 0.6907 - accuracy: 0.7568 - val_loss: 0.6918 - val_accuracy: 0.7604\n",
            "Epoch 7/70\n",
            "391/391 [==============================] - 7s 17ms/step - loss: 0.6293 - accuracy: 0.7797 - val_loss: 0.6872 - val_accuracy: 0.7622\n",
            "Epoch 8/70\n",
            "391/391 [==============================] - 7s 17ms/step - loss: 0.5907 - accuracy: 0.7926 - val_loss: 0.6412 - val_accuracy: 0.7794\n",
            "Epoch 9/70\n",
            "391/391 [==============================] - 7s 18ms/step - loss: 0.5416 - accuracy: 0.8078 - val_loss: 0.6157 - val_accuracy: 0.7872\n",
            "Epoch 10/70\n",
            "391/391 [==============================] - 7s 17ms/step - loss: 0.5002 - accuracy: 0.8240 - val_loss: 0.6136 - val_accuracy: 0.7922\n",
            "Epoch 11/70\n",
            "391/391 [==============================] - 7s 17ms/step - loss: 0.4696 - accuracy: 0.8310 - val_loss: 0.6176 - val_accuracy: 0.7908\n",
            "Epoch 12/70\n",
            "391/391 [==============================] - 6s 16ms/step - loss: 0.4437 - accuracy: 0.8408 - val_loss: 0.5845 - val_accuracy: 0.8014\n",
            "Epoch 13/70\n",
            "391/391 [==============================] - 6s 16ms/step - loss: 0.4135 - accuracy: 0.8533 - val_loss: 0.6023 - val_accuracy: 0.7961\n",
            "Epoch 14/70\n",
            "391/391 [==============================] - 6s 16ms/step - loss: 0.3926 - accuracy: 0.8611 - val_loss: 0.6201 - val_accuracy: 0.7917\n",
            "Epoch 15/70\n",
            "391/391 [==============================] - 7s 17ms/step - loss: 0.3799 - accuracy: 0.8624 - val_loss: 0.5914 - val_accuracy: 0.8063\n",
            "Epoch 16/70\n",
            "391/391 [==============================] - 6s 17ms/step - loss: 0.3646 - accuracy: 0.8718 - val_loss: 0.5605 - val_accuracy: 0.8165\n",
            "Epoch 17/70\n",
            "391/391 [==============================] - 7s 17ms/step - loss: 0.3406 - accuracy: 0.8785 - val_loss: 0.5854 - val_accuracy: 0.8048\n",
            "Epoch 18/70\n",
            "391/391 [==============================] - 6s 17ms/step - loss: 0.3316 - accuracy: 0.8809 - val_loss: 0.5703 - val_accuracy: 0.8124\n",
            "Epoch 19/70\n",
            "391/391 [==============================] - 7s 17ms/step - loss: 0.3174 - accuracy: 0.8870 - val_loss: 0.5690 - val_accuracy: 0.8189\n",
            "Epoch 20/70\n",
            "391/391 [==============================] - 7s 17ms/step - loss: 0.3104 - accuracy: 0.8895 - val_loss: 0.5762 - val_accuracy: 0.8156\n",
            "Epoch 21/70\n",
            "391/391 [==============================] - 6s 16ms/step - loss: 0.3056 - accuracy: 0.8921 - val_loss: 0.5913 - val_accuracy: 0.8107\n",
            "Epoch 22/70\n",
            "391/391 [==============================] - 6s 17ms/step - loss: 0.2975 - accuracy: 0.8951 - val_loss: 0.5919 - val_accuracy: 0.8138\n",
            "Epoch 23/70\n",
            "391/391 [==============================] - 6s 17ms/step - loss: 0.2796 - accuracy: 0.9020 - val_loss: 0.5785 - val_accuracy: 0.8139\n",
            "Epoch 24/70\n",
            "391/391 [==============================] - 7s 17ms/step - loss: 0.2733 - accuracy: 0.9027 - val_loss: 0.5995 - val_accuracy: 0.8125\n",
            "Epoch 25/70\n",
            "391/391 [==============================] - 6s 17ms/step - loss: 0.2602 - accuracy: 0.9094 - val_loss: 0.5866 - val_accuracy: 0.8128\n",
            "Epoch 26/70\n",
            "391/391 [==============================] - 7s 17ms/step - loss: 0.2654 - accuracy: 0.9069 - val_loss: 0.5835 - val_accuracy: 0.8179\n",
            "Epoch 27/70\n",
            "391/391 [==============================] - 7s 18ms/step - loss: 0.2515 - accuracy: 0.9089 - val_loss: 0.6036 - val_accuracy: 0.8123\n",
            "Epoch 28/70\n",
            "391/391 [==============================] - 7s 17ms/step - loss: 0.2495 - accuracy: 0.9127 - val_loss: 0.5986 - val_accuracy: 0.8202\n",
            "Epoch 29/70\n",
            "391/391 [==============================] - 7s 17ms/step - loss: 0.2434 - accuracy: 0.9143 - val_loss: 0.6225 - val_accuracy: 0.8086\n",
            "Epoch 30/70\n",
            "391/391 [==============================] - 7s 17ms/step - loss: 0.2387 - accuracy: 0.9150 - val_loss: 0.6071 - val_accuracy: 0.8115\n",
            "Epoch 31/70\n",
            "391/391 [==============================] - 7s 17ms/step - loss: 0.2407 - accuracy: 0.9149 - val_loss: 0.6043 - val_accuracy: 0.8145\n",
            "Epoch 32/70\n",
            "391/391 [==============================] - 6s 17ms/step - loss: 0.2328 - accuracy: 0.9189 - val_loss: 0.6407 - val_accuracy: 0.8064\n",
            "Epoch 33/70\n",
            "391/391 [==============================] - 7s 17ms/step - loss: 0.2385 - accuracy: 0.9183 - val_loss: 0.5973 - val_accuracy: 0.8137\n",
            "Epoch 34/70\n",
            "391/391 [==============================] - 7s 17ms/step - loss: 0.2316 - accuracy: 0.9197 - val_loss: 0.5687 - val_accuracy: 0.8243\n",
            "Epoch 35/70\n",
            "391/391 [==============================] - 7s 17ms/step - loss: 0.2259 - accuracy: 0.9194 - val_loss: 0.6009 - val_accuracy: 0.8147\n",
            "Epoch 36/70\n",
            "391/391 [==============================] - 7s 17ms/step - loss: 0.2225 - accuracy: 0.9210 - val_loss: 0.5904 - val_accuracy: 0.8166\n",
            "Epoch 37/70\n",
            "391/391 [==============================] - 7s 17ms/step - loss: 0.2209 - accuracy: 0.9229 - val_loss: 0.6137 - val_accuracy: 0.8180\n",
            "Epoch 38/70\n",
            "391/391 [==============================] - 7s 18ms/step - loss: 0.2249 - accuracy: 0.9216 - val_loss: 0.6026 - val_accuracy: 0.8179\n",
            "Epoch 39/70\n",
            "391/391 [==============================] - 7s 17ms/step - loss: 0.2251 - accuracy: 0.9221 - val_loss: 0.5955 - val_accuracy: 0.8209\n",
            "Epoch 40/70\n",
            "391/391 [==============================] - 7s 17ms/step - loss: 0.2190 - accuracy: 0.9245 - val_loss: 0.6135 - val_accuracy: 0.8110\n",
            "Epoch 41/70\n",
            "391/391 [==============================] - 7s 17ms/step - loss: 0.2079 - accuracy: 0.9287 - val_loss: 0.5957 - val_accuracy: 0.8190\n",
            "Epoch 42/70\n",
            "391/391 [==============================] - 7s 17ms/step - loss: 0.2209 - accuracy: 0.9239 - val_loss: 0.6003 - val_accuracy: 0.8164\n",
            "Epoch 43/70\n",
            "391/391 [==============================] - 7s 17ms/step - loss: 0.2014 - accuracy: 0.9314 - val_loss: 0.6032 - val_accuracy: 0.8099\n",
            "Epoch 44/70\n",
            "391/391 [==============================] - 6s 17ms/step - loss: 0.2041 - accuracy: 0.9287 - val_loss: 0.6201 - val_accuracy: 0.8171\n",
            "Epoch 45/70\n",
            "391/391 [==============================] - 7s 17ms/step - loss: 0.2056 - accuracy: 0.9280 - val_loss: 0.5933 - val_accuracy: 0.8240\n",
            "Epoch 46/70\n",
            "391/391 [==============================] - 7s 17ms/step - loss: 0.1944 - accuracy: 0.9329 - val_loss: 0.5909 - val_accuracy: 0.8172\n",
            "Epoch 47/70\n",
            "391/391 [==============================] - 7s 17ms/step - loss: 0.1989 - accuracy: 0.9322 - val_loss: 0.5826 - val_accuracy: 0.8250\n",
            "Epoch 48/70\n",
            "391/391 [==============================] - 7s 17ms/step - loss: 0.2003 - accuracy: 0.9319 - val_loss: 0.6060 - val_accuracy: 0.8181\n",
            "Epoch 49/70\n",
            "391/391 [==============================] - 7s 17ms/step - loss: 0.2077 - accuracy: 0.9297 - val_loss: 0.5963 - val_accuracy: 0.8173\n",
            "Epoch 50/70\n",
            "391/391 [==============================] - 7s 17ms/step - loss: 0.2035 - accuracy: 0.9305 - val_loss: 0.6122 - val_accuracy: 0.8232\n",
            "Epoch 51/70\n",
            "391/391 [==============================] - 7s 17ms/step - loss: 0.1916 - accuracy: 0.9344 - val_loss: 0.5930 - val_accuracy: 0.8232\n",
            "Epoch 52/70\n",
            "391/391 [==============================] - 7s 17ms/step - loss: 0.1925 - accuracy: 0.9319 - val_loss: 0.6168 - val_accuracy: 0.8161\n",
            "Epoch 53/70\n",
            "391/391 [==============================] - 6s 17ms/step - loss: 0.1937 - accuracy: 0.9324 - val_loss: 0.5751 - val_accuracy: 0.8288\n",
            "Epoch 54/70\n",
            "391/391 [==============================] - 7s 17ms/step - loss: 0.1865 - accuracy: 0.9367 - val_loss: 0.6053 - val_accuracy: 0.8253\n",
            "Epoch 55/70\n",
            "391/391 [==============================] - 7s 17ms/step - loss: 0.1942 - accuracy: 0.9332 - val_loss: 0.6403 - val_accuracy: 0.8146\n",
            "Epoch 56/70\n",
            "391/391 [==============================] - 7s 18ms/step - loss: 0.1910 - accuracy: 0.9344 - val_loss: 0.6082 - val_accuracy: 0.8209\n",
            "Epoch 57/70\n",
            "391/391 [==============================] - 7s 18ms/step - loss: 0.1856 - accuracy: 0.9357 - val_loss: 0.6057 - val_accuracy: 0.8225\n",
            "Epoch 58/70\n",
            "391/391 [==============================] - 7s 17ms/step - loss: 0.1822 - accuracy: 0.9366 - val_loss: 0.6354 - val_accuracy: 0.8172\n",
            "Epoch 59/70\n",
            "391/391 [==============================] - 7s 17ms/step - loss: 0.1947 - accuracy: 0.9326 - val_loss: 0.6305 - val_accuracy: 0.8222\n",
            "Epoch 60/70\n",
            "391/391 [==============================] - 7s 17ms/step - loss: 0.1849 - accuracy: 0.9376 - val_loss: 0.5952 - val_accuracy: 0.8256\n",
            "Epoch 61/70\n",
            "391/391 [==============================] - 7s 17ms/step - loss: 0.1906 - accuracy: 0.9336 - val_loss: 0.6008 - val_accuracy: 0.8215\n",
            "Epoch 62/70\n",
            "391/391 [==============================] - 7s 17ms/step - loss: 0.2013 - accuracy: 0.9315 - val_loss: 0.6050 - val_accuracy: 0.8248\n",
            "Epoch 63/70\n",
            "391/391 [==============================] - 7s 17ms/step - loss: 0.1873 - accuracy: 0.9369 - val_loss: 0.5996 - val_accuracy: 0.8257\n",
            "Epoch 64/70\n",
            "391/391 [==============================] - 7s 18ms/step - loss: 0.1872 - accuracy: 0.9355 - val_loss: 0.5931 - val_accuracy: 0.8224\n",
            "Epoch 65/70\n",
            "391/391 [==============================] - 7s 17ms/step - loss: 0.1773 - accuracy: 0.9407 - val_loss: 0.6261 - val_accuracy: 0.8239\n",
            "Epoch 66/70\n",
            "391/391 [==============================] - 7s 17ms/step - loss: 0.1811 - accuracy: 0.9371 - val_loss: 0.6441 - val_accuracy: 0.8156\n",
            "Epoch 67/70\n",
            "391/391 [==============================] - 7s 17ms/step - loss: 0.1803 - accuracy: 0.9396 - val_loss: 0.5879 - val_accuracy: 0.8206\n",
            "Epoch 68/70\n",
            "391/391 [==============================] - 6s 17ms/step - loss: 0.1934 - accuracy: 0.9355 - val_loss: 0.6177 - val_accuracy: 0.8248\n",
            "Epoch 69/70\n",
            "391/391 [==============================] - 6s 17ms/step - loss: 0.1888 - accuracy: 0.9346 - val_loss: 0.6161 - val_accuracy: 0.8247\n",
            "Epoch 70/70\n",
            "391/391 [==============================] - 6s 16ms/step - loss: 0.1768 - accuracy: 0.9396 - val_loss: 0.5911 - val_accuracy: 0.8238\n"
          ],
          "name": "stdout"
        },
        {
          "output_type": "execute_result",
          "data": {
            "text/plain": [
              "<keras.callbacks.History at 0x7f3600de2e50>"
            ]
          },
          "metadata": {
            "tags": []
          },
          "execution_count": 51
        }
      ]
    },
    {
      "cell_type": "markdown",
      "metadata": {
        "id": "ZupXRqEEECz3"
      },
      "source": [
        "# 2. Did the performance change?"
      ]
    },
    {
      "cell_type": "code",
      "metadata": {
        "colab": {
          "base_uri": "https://localhost:8080/"
        },
        "id": "fSAOvEHJRIfp",
        "outputId": "9c3391af-a53f-432e-8e97-9894d0575f60"
      },
      "source": [
        "# Save the model\n",
        "model2.save('cifar10_model.h5')\n",
        "# Loading the model\n",
        "saved_model = load_model('cifar10_model.h5')\n",
        "\n",
        "# Model evaluation\n",
        "scores = saved_model.evaluate(X_test, y_test, verbose=0)\n",
        "print(\"Test Accuracy after adding Convolutional layers: %.2f%%\" % (scores[1]*100))"
      ],
      "execution_count": 52,
      "outputs": [
        {
          "output_type": "stream",
          "text": [
            "Test Accuracy after adding Convolutional layers: 82.38%\n"
          ],
          "name": "stdout"
        }
      ]
    },
    {
      "cell_type": "markdown",
      "metadata": {
        "id": "k26y8QpPMBf8"
      },
      "source": [
        "**Obeservation:** We see that there is an improvement in the accuracy after we added convolutional layers to the existing model."
      ]
    },
    {
      "cell_type": "markdown",
      "metadata": {
        "id": "MRuMNA1BEF23"
      },
      "source": [
        "# 3. Change the previous model into Keras Functional API model."
      ]
    },
    {
      "cell_type": "code",
      "metadata": {
        "id": "1PVxUf3B-m0z",
        "colab": {
          "base_uri": "https://localhost:8080/"
        },
        "outputId": "11da4aad-3a0d-4640-a464-79aa150959df"
      },
      "source": [
        "(X_train, y_train), (X_val, y_val) = cifar10.load_data()\n",
        "X_train, X_val = X_train / 255.0, X_val / 255.0\n",
        "y_train, y_val = y_train.flatten(), y_val.flatten()\n",
        "\n",
        "i = Input(shape = X_train[0].shape)\n",
        "x = Conv2D(32, (3,3), padding=\"same\", activation=\"relu\")(i)\n",
        "x = Conv2D(32, (3,3), activation=\"relu\")(x)\n",
        "x = MaxPooling2D(pool_size=(2,2))(x)\n",
        "x = Dropout(0.30)(x)\n",
        "x = Conv2D(64, (3,3), padding=\"same\", activation=\"relu\")(x)\n",
        "x = Conv2D(64, (3,3), activation=\"relu\")(x)\n",
        "x = MaxPooling2D(pool_size=(2,2))(x)\n",
        "x = Dropout(0.30)(x)\n",
        "x = BatchNormalization()(x)\n",
        "x = Flatten()(x)\n",
        "x = Dense(512, activation=\"relu\")(x)\n",
        "x = Dropout(0.5)(x)\n",
        "x = Dense(10, activation=\"softmax\")(x)\n",
        "\n",
        "api_model = Model(i, x)\n",
        "api_model.summary()"
      ],
      "execution_count": 53,
      "outputs": [
        {
          "output_type": "stream",
          "text": [
            "Model: \"model_1\"\n",
            "_________________________________________________________________\n",
            "Layer (type)                 Output Shape              Param #   \n",
            "=================================================================\n",
            "input_2 (InputLayer)         [(None, 32, 32, 3)]       0         \n",
            "_________________________________________________________________\n",
            "conv2d_22 (Conv2D)           (None, 32, 32, 32)        896       \n",
            "_________________________________________________________________\n",
            "conv2d_23 (Conv2D)           (None, 30, 30, 32)        9248      \n",
            "_________________________________________________________________\n",
            "max_pooling2d_11 (MaxPooling (None, 15, 15, 32)        0         \n",
            "_________________________________________________________________\n",
            "dropout_26 (Dropout)         (None, 15, 15, 32)        0         \n",
            "_________________________________________________________________\n",
            "conv2d_24 (Conv2D)           (None, 15, 15, 64)        18496     \n",
            "_________________________________________________________________\n",
            "conv2d_25 (Conv2D)           (None, 13, 13, 64)        36928     \n",
            "_________________________________________________________________\n",
            "max_pooling2d_12 (MaxPooling (None, 6, 6, 64)          0         \n",
            "_________________________________________________________________\n",
            "dropout_27 (Dropout)         (None, 6, 6, 64)          0         \n",
            "_________________________________________________________________\n",
            "batch_normalization_1 (Batch (None, 6, 6, 64)          256       \n",
            "_________________________________________________________________\n",
            "flatten_6 (Flatten)          (None, 2304)              0         \n",
            "_________________________________________________________________\n",
            "dense_14 (Dense)             (None, 512)               1180160   \n",
            "_________________________________________________________________\n",
            "dropout_28 (Dropout)         (None, 512)               0         \n",
            "_________________________________________________________________\n",
            "dense_15 (Dense)             (None, 10)                5130      \n",
            "=================================================================\n",
            "Total params: 1,251,114\n",
            "Trainable params: 1,250,986\n",
            "Non-trainable params: 128\n",
            "_________________________________________________________________\n"
          ],
          "name": "stdout"
        }
      ]
    },
    {
      "cell_type": "code",
      "metadata": {
        "id": "dFG_p2fs-m-R"
      },
      "source": [
        "api_model.compile(optimizer='adam',\n",
        "              loss='sparse_categorical_crossentropy',\n",
        "              metrics=['accuracy'])"
      ],
      "execution_count": 54,
      "outputs": []
    },
    {
      "cell_type": "code",
      "metadata": {
        "colab": {
          "base_uri": "https://localhost:8080/"
        },
        "id": "pjGHyAu2DHqI",
        "outputId": "69047880-22fd-4e72-fbac-d1b56b053a7b"
      },
      "source": [
        "api_model.fit(X_train, y_train, validation_data=(X_val, y_val), epochs=100)"
      ],
      "execution_count": 55,
      "outputs": [
        {
          "output_type": "stream",
          "text": [
            "Epoch 1/100\n",
            "1563/1563 [==============================] - 10s 6ms/step - loss: 1.7719 - accuracy: 0.3639 - val_loss: 1.3274 - val_accuracy: 0.5361\n",
            "Epoch 2/100\n",
            "1563/1563 [==============================] - 9s 6ms/step - loss: 1.2219 - accuracy: 0.5643 - val_loss: 0.9987 - val_accuracy: 0.6477\n",
            "Epoch 3/100\n",
            "1563/1563 [==============================] - 8s 5ms/step - loss: 1.0538 - accuracy: 0.6323 - val_loss: 0.8544 - val_accuracy: 0.7005\n",
            "Epoch 4/100\n",
            "1563/1563 [==============================] - 8s 5ms/step - loss: 0.9619 - accuracy: 0.6594 - val_loss: 1.0066 - val_accuracy: 0.6530\n",
            "Epoch 5/100\n",
            "1563/1563 [==============================] - 8s 5ms/step - loss: 0.8974 - accuracy: 0.6859 - val_loss: 0.8414 - val_accuracy: 0.7104\n",
            "Epoch 6/100\n",
            "1563/1563 [==============================] - 8s 5ms/step - loss: 0.8464 - accuracy: 0.7020 - val_loss: 0.7693 - val_accuracy: 0.7349\n",
            "Epoch 7/100\n",
            "1563/1563 [==============================] - 8s 5ms/step - loss: 0.8134 - accuracy: 0.7158 - val_loss: 0.7788 - val_accuracy: 0.7364\n",
            "Epoch 8/100\n",
            "1563/1563 [==============================] - 9s 5ms/step - loss: 0.7797 - accuracy: 0.7235 - val_loss: 0.7337 - val_accuracy: 0.7461\n",
            "Epoch 9/100\n",
            "1563/1563 [==============================] - 9s 6ms/step - loss: 0.7494 - accuracy: 0.7365 - val_loss: 0.7525 - val_accuracy: 0.7380\n",
            "Epoch 10/100\n",
            "1563/1563 [==============================] - 9s 6ms/step - loss: 0.7331 - accuracy: 0.7415 - val_loss: 0.6632 - val_accuracy: 0.7707\n",
            "Epoch 11/100\n",
            "1563/1563 [==============================] - 9s 6ms/step - loss: 0.7115 - accuracy: 0.7530 - val_loss: 0.6529 - val_accuracy: 0.7770\n",
            "Epoch 12/100\n",
            "1563/1563 [==============================] - 8s 5ms/step - loss: 0.6878 - accuracy: 0.7572 - val_loss: 0.6438 - val_accuracy: 0.7756\n",
            "Epoch 13/100\n",
            "1563/1563 [==============================] - 8s 5ms/step - loss: 0.6792 - accuracy: 0.7633 - val_loss: 0.6500 - val_accuracy: 0.7776\n",
            "Epoch 14/100\n",
            "1563/1563 [==============================] - 8s 5ms/step - loss: 0.6681 - accuracy: 0.7685 - val_loss: 0.6794 - val_accuracy: 0.7652\n",
            "Epoch 15/100\n",
            "1563/1563 [==============================] - 8s 5ms/step - loss: 0.6530 - accuracy: 0.7714 - val_loss: 0.6261 - val_accuracy: 0.7882\n",
            "Epoch 16/100\n",
            "1563/1563 [==============================] - 8s 5ms/step - loss: 0.6446 - accuracy: 0.7742 - val_loss: 0.6676 - val_accuracy: 0.7692\n",
            "Epoch 17/100\n",
            "1563/1563 [==============================] - 9s 6ms/step - loss: 0.6346 - accuracy: 0.7769 - val_loss: 0.6676 - val_accuracy: 0.7760\n",
            "Epoch 18/100\n",
            "1563/1563 [==============================] - 9s 6ms/step - loss: 0.6187 - accuracy: 0.7825 - val_loss: 0.6143 - val_accuracy: 0.7913\n",
            "Epoch 19/100\n",
            "1563/1563 [==============================] - 8s 5ms/step - loss: 0.6165 - accuracy: 0.7860 - val_loss: 0.7138 - val_accuracy: 0.7619\n",
            "Epoch 20/100\n",
            "1563/1563 [==============================] - 8s 5ms/step - loss: 0.5970 - accuracy: 0.7904 - val_loss: 0.6164 - val_accuracy: 0.7901\n",
            "Epoch 21/100\n",
            "1563/1563 [==============================] - 8s 5ms/step - loss: 0.6016 - accuracy: 0.7892 - val_loss: 0.5880 - val_accuracy: 0.8012\n",
            "Epoch 22/100\n",
            "1563/1563 [==============================] - 9s 5ms/step - loss: 0.5876 - accuracy: 0.7931 - val_loss: 0.6160 - val_accuracy: 0.7960\n",
            "Epoch 23/100\n",
            "1563/1563 [==============================] - 8s 5ms/step - loss: 0.5805 - accuracy: 0.7962 - val_loss: 0.6475 - val_accuracy: 0.7770\n",
            "Epoch 24/100\n",
            "1563/1563 [==============================] - 8s 5ms/step - loss: 0.5765 - accuracy: 0.8000 - val_loss: 0.6118 - val_accuracy: 0.7940\n",
            "Epoch 25/100\n",
            "1563/1563 [==============================] - 9s 6ms/step - loss: 0.5695 - accuracy: 0.8003 - val_loss: 0.5844 - val_accuracy: 0.8040\n",
            "Epoch 26/100\n",
            "1563/1563 [==============================] - 8s 5ms/step - loss: 0.5688 - accuracy: 0.8000 - val_loss: 0.5975 - val_accuracy: 0.8025\n",
            "Epoch 27/100\n",
            "1563/1563 [==============================] - 8s 5ms/step - loss: 0.5605 - accuracy: 0.8034 - val_loss: 0.5756 - val_accuracy: 0.8053\n",
            "Epoch 28/100\n",
            "1563/1563 [==============================] - 9s 6ms/step - loss: 0.5489 - accuracy: 0.8072 - val_loss: 0.5871 - val_accuracy: 0.8016\n",
            "Epoch 29/100\n",
            "1563/1563 [==============================] - 9s 6ms/step - loss: 0.5409 - accuracy: 0.8129 - val_loss: 0.6188 - val_accuracy: 0.7883\n",
            "Epoch 30/100\n",
            "1563/1563 [==============================] - 9s 6ms/step - loss: 0.5535 - accuracy: 0.8074 - val_loss: 0.5775 - val_accuracy: 0.8066\n",
            "Epoch 31/100\n",
            "1563/1563 [==============================] - 9s 5ms/step - loss: 0.5389 - accuracy: 0.8119 - val_loss: 0.5831 - val_accuracy: 0.8067\n",
            "Epoch 32/100\n",
            "1563/1563 [==============================] - 9s 6ms/step - loss: 0.5363 - accuracy: 0.8097 - val_loss: 0.6127 - val_accuracy: 0.7932\n",
            "Epoch 33/100\n",
            "1563/1563 [==============================] - 8s 5ms/step - loss: 0.5271 - accuracy: 0.8143 - val_loss: 0.5663 - val_accuracy: 0.8109\n",
            "Epoch 34/100\n",
            "1563/1563 [==============================] - 8s 5ms/step - loss: 0.5212 - accuracy: 0.8183 - val_loss: 0.5730 - val_accuracy: 0.8053\n",
            "Epoch 35/100\n",
            "1563/1563 [==============================] - 8s 5ms/step - loss: 0.5237 - accuracy: 0.8182 - val_loss: 0.5882 - val_accuracy: 0.8068\n",
            "Epoch 36/100\n",
            "1563/1563 [==============================] - 9s 6ms/step - loss: 0.5286 - accuracy: 0.8146 - val_loss: 0.6171 - val_accuracy: 0.8008\n",
            "Epoch 37/100\n",
            "1563/1563 [==============================] - 9s 6ms/step - loss: 0.5132 - accuracy: 0.8195 - val_loss: 0.6469 - val_accuracy: 0.7883\n",
            "Epoch 38/100\n",
            "1563/1563 [==============================] - 8s 5ms/step - loss: 0.5233 - accuracy: 0.8160 - val_loss: 0.5773 - val_accuracy: 0.8086\n",
            "Epoch 39/100\n",
            "1563/1563 [==============================] - 8s 5ms/step - loss: 0.5072 - accuracy: 0.8208 - val_loss: 0.5768 - val_accuracy: 0.8098\n",
            "Epoch 40/100\n",
            "1563/1563 [==============================] - 8s 5ms/step - loss: 0.5056 - accuracy: 0.8227 - val_loss: 0.5744 - val_accuracy: 0.8123\n",
            "Epoch 41/100\n",
            "1563/1563 [==============================] - 8s 5ms/step - loss: 0.4998 - accuracy: 0.8267 - val_loss: 0.5716 - val_accuracy: 0.8109\n",
            "Epoch 42/100\n",
            "1563/1563 [==============================] - 8s 5ms/step - loss: 0.5105 - accuracy: 0.8196 - val_loss: 0.5899 - val_accuracy: 0.8046\n",
            "Epoch 43/100\n",
            "1563/1563 [==============================] - 8s 5ms/step - loss: 0.4903 - accuracy: 0.8289 - val_loss: 0.5626 - val_accuracy: 0.8154\n",
            "Epoch 44/100\n",
            "1563/1563 [==============================] - 8s 5ms/step - loss: 0.4965 - accuracy: 0.8249 - val_loss: 0.5732 - val_accuracy: 0.8095\n",
            "Epoch 45/100\n",
            "1563/1563 [==============================] - 8s 5ms/step - loss: 0.4956 - accuracy: 0.8249 - val_loss: 0.5751 - val_accuracy: 0.8120\n",
            "Epoch 46/100\n",
            "1563/1563 [==============================] - 8s 5ms/step - loss: 0.4852 - accuracy: 0.8301 - val_loss: 0.5982 - val_accuracy: 0.7993\n",
            "Epoch 47/100\n",
            "1563/1563 [==============================] - 8s 5ms/step - loss: 0.4937 - accuracy: 0.8278 - val_loss: 0.5579 - val_accuracy: 0.8117\n",
            "Epoch 48/100\n",
            "1563/1563 [==============================] - 8s 5ms/step - loss: 0.4694 - accuracy: 0.8321 - val_loss: 0.5598 - val_accuracy: 0.8139\n",
            "Epoch 49/100\n",
            "1563/1563 [==============================] - 8s 5ms/step - loss: 0.4810 - accuracy: 0.8319 - val_loss: 0.5610 - val_accuracy: 0.8123\n",
            "Epoch 50/100\n",
            "1563/1563 [==============================] - 8s 5ms/step - loss: 0.4815 - accuracy: 0.8325 - val_loss: 0.5528 - val_accuracy: 0.8204\n",
            "Epoch 51/100\n",
            "1563/1563 [==============================] - 8s 5ms/step - loss: 0.4714 - accuracy: 0.8341 - val_loss: 0.5706 - val_accuracy: 0.8102\n",
            "Epoch 52/100\n",
            "1563/1563 [==============================] - 9s 6ms/step - loss: 0.4624 - accuracy: 0.8358 - val_loss: 0.5517 - val_accuracy: 0.8173\n",
            "Epoch 53/100\n",
            "1563/1563 [==============================] - 9s 6ms/step - loss: 0.4653 - accuracy: 0.8359 - val_loss: 0.5838 - val_accuracy: 0.8068\n",
            "Epoch 54/100\n",
            "1563/1563 [==============================] - 9s 6ms/step - loss: 0.4627 - accuracy: 0.8374 - val_loss: 0.5475 - val_accuracy: 0.8144\n",
            "Epoch 55/100\n",
            "1563/1563 [==============================] - 8s 5ms/step - loss: 0.4690 - accuracy: 0.8357 - val_loss: 0.5741 - val_accuracy: 0.8103\n",
            "Epoch 56/100\n",
            "1563/1563 [==============================] - 8s 5ms/step - loss: 0.4648 - accuracy: 0.8396 - val_loss: 0.5596 - val_accuracy: 0.8181\n",
            "Epoch 57/100\n",
            "1563/1563 [==============================] - 8s 5ms/step - loss: 0.4638 - accuracy: 0.8371 - val_loss: 0.5672 - val_accuracy: 0.8112\n",
            "Epoch 58/100\n",
            "1563/1563 [==============================] - 8s 5ms/step - loss: 0.4649 - accuracy: 0.8342 - val_loss: 0.5472 - val_accuracy: 0.8211\n",
            "Epoch 59/100\n",
            "1563/1563 [==============================] - 8s 5ms/step - loss: 0.4485 - accuracy: 0.8392 - val_loss: 0.5404 - val_accuracy: 0.8203\n",
            "Epoch 60/100\n",
            "1563/1563 [==============================] - 9s 6ms/step - loss: 0.4611 - accuracy: 0.8373 - val_loss: 0.5347 - val_accuracy: 0.8234\n",
            "Epoch 61/100\n",
            "1563/1563 [==============================] - 8s 5ms/step - loss: 0.4455 - accuracy: 0.8413 - val_loss: 0.5924 - val_accuracy: 0.8010\n",
            "Epoch 62/100\n",
            "1563/1563 [==============================] - 8s 5ms/step - loss: 0.4572 - accuracy: 0.8403 - val_loss: 0.5585 - val_accuracy: 0.8125\n",
            "Epoch 63/100\n",
            "1563/1563 [==============================] - 8s 5ms/step - loss: 0.4448 - accuracy: 0.8447 - val_loss: 0.5522 - val_accuracy: 0.8228\n",
            "Epoch 64/100\n",
            "1563/1563 [==============================] - 8s 5ms/step - loss: 0.4395 - accuracy: 0.8461 - val_loss: 0.5462 - val_accuracy: 0.8205\n",
            "Epoch 65/100\n",
            "1563/1563 [==============================] - 8s 5ms/step - loss: 0.4473 - accuracy: 0.8448 - val_loss: 0.5550 - val_accuracy: 0.8182\n",
            "Epoch 66/100\n",
            "1563/1563 [==============================] - 8s 5ms/step - loss: 0.4461 - accuracy: 0.8418 - val_loss: 0.5377 - val_accuracy: 0.8205\n",
            "Epoch 67/100\n",
            "1563/1563 [==============================] - 8s 5ms/step - loss: 0.4369 - accuracy: 0.8480 - val_loss: 0.5431 - val_accuracy: 0.8207\n",
            "Epoch 68/100\n",
            "1563/1563 [==============================] - 9s 6ms/step - loss: 0.4441 - accuracy: 0.8442 - val_loss: 0.5435 - val_accuracy: 0.8190\n",
            "Epoch 69/100\n",
            "1563/1563 [==============================] - 8s 5ms/step - loss: 0.4437 - accuracy: 0.8446 - val_loss: 0.5448 - val_accuracy: 0.8165\n",
            "Epoch 70/100\n",
            "1563/1563 [==============================] - 9s 6ms/step - loss: 0.4395 - accuracy: 0.8480 - val_loss: 0.5386 - val_accuracy: 0.8213\n",
            "Epoch 71/100\n",
            "1563/1563 [==============================] - 8s 5ms/step - loss: 0.4393 - accuracy: 0.8447 - val_loss: 0.5380 - val_accuracy: 0.8219\n",
            "Epoch 72/100\n",
            "1563/1563 [==============================] - 9s 6ms/step - loss: 0.4341 - accuracy: 0.8476 - val_loss: 0.5570 - val_accuracy: 0.8154\n",
            "Epoch 73/100\n",
            "1563/1563 [==============================] - 9s 6ms/step - loss: 0.4252 - accuracy: 0.8505 - val_loss: 0.5440 - val_accuracy: 0.8174\n",
            "Epoch 74/100\n",
            "1563/1563 [==============================] - 9s 6ms/step - loss: 0.4230 - accuracy: 0.8527 - val_loss: 0.5559 - val_accuracy: 0.8145\n",
            "Epoch 75/100\n",
            "1563/1563 [==============================] - 8s 5ms/step - loss: 0.4296 - accuracy: 0.8491 - val_loss: 0.5615 - val_accuracy: 0.8167\n",
            "Epoch 76/100\n",
            "1563/1563 [==============================] - 8s 5ms/step - loss: 0.4252 - accuracy: 0.8515 - val_loss: 0.5554 - val_accuracy: 0.8206\n",
            "Epoch 77/100\n",
            "1563/1563 [==============================] - 8s 5ms/step - loss: 0.4226 - accuracy: 0.8517 - val_loss: 0.5356 - val_accuracy: 0.8243\n",
            "Epoch 78/100\n",
            "1563/1563 [==============================] - 8s 5ms/step - loss: 0.4172 - accuracy: 0.8531 - val_loss: 0.5534 - val_accuracy: 0.8192\n",
            "Epoch 79/100\n",
            "1563/1563 [==============================] - 9s 5ms/step - loss: 0.4276 - accuracy: 0.8498 - val_loss: 0.5721 - val_accuracy: 0.8153\n",
            "Epoch 80/100\n",
            "1563/1563 [==============================] - 9s 5ms/step - loss: 0.4233 - accuracy: 0.8528 - val_loss: 0.5812 - val_accuracy: 0.8103\n",
            "Epoch 81/100\n",
            "1563/1563 [==============================] - 9s 6ms/step - loss: 0.4265 - accuracy: 0.8528 - val_loss: 0.5752 - val_accuracy: 0.8128\n",
            "Epoch 82/100\n",
            "1563/1563 [==============================] - 8s 5ms/step - loss: 0.4214 - accuracy: 0.8523 - val_loss: 0.5424 - val_accuracy: 0.8212\n",
            "Epoch 83/100\n",
            "1563/1563 [==============================] - 8s 5ms/step - loss: 0.4171 - accuracy: 0.8515 - val_loss: 0.5492 - val_accuracy: 0.8215\n",
            "Epoch 84/100\n",
            "1563/1563 [==============================] - 9s 5ms/step - loss: 0.4296 - accuracy: 0.8473 - val_loss: 0.5526 - val_accuracy: 0.8207\n",
            "Epoch 85/100\n",
            "1563/1563 [==============================] - 9s 5ms/step - loss: 0.4141 - accuracy: 0.8540 - val_loss: 0.5733 - val_accuracy: 0.8099\n",
            "Epoch 86/100\n",
            "1563/1563 [==============================] - 9s 5ms/step - loss: 0.4240 - accuracy: 0.8496 - val_loss: 0.5459 - val_accuracy: 0.8202\n",
            "Epoch 87/100\n",
            "1563/1563 [==============================] - 9s 6ms/step - loss: 0.4183 - accuracy: 0.8512 - val_loss: 0.5588 - val_accuracy: 0.8126\n",
            "Epoch 88/100\n",
            "1563/1563 [==============================] - 9s 6ms/step - loss: 0.4158 - accuracy: 0.8545 - val_loss: 0.5599 - val_accuracy: 0.8123\n",
            "Epoch 89/100\n",
            "1563/1563 [==============================] - 9s 6ms/step - loss: 0.4076 - accuracy: 0.8584 - val_loss: 0.5927 - val_accuracy: 0.8104\n",
            "Epoch 90/100\n",
            "1563/1563 [==============================] - 8s 5ms/step - loss: 0.4105 - accuracy: 0.8572 - val_loss: 0.5558 - val_accuracy: 0.8189\n",
            "Epoch 91/100\n",
            "1563/1563 [==============================] - 8s 5ms/step - loss: 0.4182 - accuracy: 0.8531 - val_loss: 0.5987 - val_accuracy: 0.8083\n",
            "Epoch 92/100\n",
            "1563/1563 [==============================] - 9s 5ms/step - loss: 0.4145 - accuracy: 0.8539 - val_loss: 0.5458 - val_accuracy: 0.8180\n",
            "Epoch 93/100\n",
            "1563/1563 [==============================] - 8s 5ms/step - loss: 0.4049 - accuracy: 0.8602 - val_loss: 0.5706 - val_accuracy: 0.8128\n",
            "Epoch 94/100\n",
            "1563/1563 [==============================] - 8s 5ms/step - loss: 0.3976 - accuracy: 0.8599 - val_loss: 0.5446 - val_accuracy: 0.8207\n",
            "Epoch 95/100\n",
            "1563/1563 [==============================] - 8s 5ms/step - loss: 0.3988 - accuracy: 0.8590 - val_loss: 0.5429 - val_accuracy: 0.8182\n",
            "Epoch 96/100\n",
            "1563/1563 [==============================] - 9s 6ms/step - loss: 0.4045 - accuracy: 0.8576 - val_loss: 0.5734 - val_accuracy: 0.8163\n",
            "Epoch 97/100\n",
            "1563/1563 [==============================] - 9s 6ms/step - loss: 0.4049 - accuracy: 0.8578 - val_loss: 0.5491 - val_accuracy: 0.8188\n",
            "Epoch 98/100\n",
            "1563/1563 [==============================] - 9s 6ms/step - loss: 0.4049 - accuracy: 0.8595 - val_loss: 0.5520 - val_accuracy: 0.8198\n",
            "Epoch 99/100\n",
            "1563/1563 [==============================] - 9s 5ms/step - loss: 0.4092 - accuracy: 0.8567 - val_loss: 0.5522 - val_accuracy: 0.8190\n",
            "Epoch 100/100\n",
            "1563/1563 [==============================] - 9s 5ms/step - loss: 0.4061 - accuracy: 0.8558 - val_loss: 0.5607 - val_accuracy: 0.8139\n"
          ],
          "name": "stdout"
        },
        {
          "output_type": "execute_result",
          "data": {
            "text/plain": [
              "<keras.callbacks.History at 0x7f35e80cffd0>"
            ]
          },
          "metadata": {
            "tags": []
          },
          "execution_count": 55
        }
      ]
    },
    {
      "cell_type": "code",
      "metadata": {
        "id": "J7ziofE8WRXY"
      },
      "source": [
        "# Save the model\n",
        "api_model.save('api_model.h5')\n",
        "# Loading the model\n",
        "api_saved_model = load_model('api_model.h5')"
      ],
      "execution_count": 56,
      "outputs": []
    },
    {
      "cell_type": "code",
      "metadata": {
        "colab": {
          "base_uri": "https://localhost:8080/"
        },
        "id": "mSAhZ8qnA1Q9",
        "outputId": "5e1f958f-3e92-4383-b538-0323dd63e315"
      },
      "source": [
        "# Model evaluation\n",
        "scores = api_saved_model.evaluate(X_val, y_val, verbose=0)\n",
        "print(\"Test Accuracy for functional API model: %.2f%%\" % (scores[1]*100))"
      ],
      "execution_count": 57,
      "outputs": [
        {
          "output_type": "stream",
          "text": [
            "Test Accuracy for functional API model: 81.39%\n"
          ],
          "name": "stdout"
        }
      ]
    },
    {
      "cell_type": "markdown",
      "metadata": {
        "id": "t1Qm8QtkDCcM"
      },
      "source": [
        "# 4. Predict the first 4 image of the test data. Then, print the actual label for those 4 images (label means the probability associated with them) to check if the model predicted correctly or not."
      ]
    },
    {
      "cell_type": "code",
      "metadata": {
        "id": "TJOr6qp4EQxf"
      },
      "source": [
        "classes = ['airplaine', 'automobile', 'bird', 'cat', 'deer', 'dog', 'frog', 'horse', 'ship', 'truck']"
      ],
      "execution_count": 58,
      "outputs": []
    },
    {
      "cell_type": "code",
      "metadata": {
        "id": "v64PLUcyEQ4J",
        "colab": {
          "base_uri": "https://localhost:8080/",
          "height": 236
        },
        "outputId": "4752488f-ab2e-4795-b9b3-480713a00d79"
      },
      "source": [
        "fig = plt.figure(figsize=(25, 4))\n",
        "#fig, ax = plt.subplots()\n",
        "for idx in range(4):\n",
        "  ax = fig.add_subplot(1, 4, idx+1)\n",
        "  ax.imshow(X_test[idx])\n",
        "  y_pred = np.argmax(saved_model.predict(np.expand_dims(X_test[idx], axis=0)), axis=1)\n",
        "  y_actual= np.argmax(y_test[idx])\n",
        "  ax.set_title(\"{} ({})\".format(classes[y_pred.item()], classes[y_actual]), color=(\"green\" if y_pred.item()== y_actual else \"red\"))"
      ],
      "execution_count": 59,
      "outputs": [
        {
          "output_type": "display_data",
          "data": {
            "image/png": "[encoded data removed]",
            "text/plain": [
              "<Figure size 1800x288 with 4 Axes>"
            ]
          },
          "metadata": {
            "tags": [],
            "needs_background": "light"
          }
        }
      ]
    },
    {
      "cell_type": "markdown",
      "metadata": {
        "id": "6PpdCh2oWpES"
      },
      "source": [
        "**Observation:** We see that the new model is correctly predicting all the first 4 images in the test data."
      ]
    },
    {
      "cell_type": "markdown",
      "metadata": {
        "id": "2ijTkh5w0Kxw"
      },
      "source": [
        "# 6. Apply the following callbacks:\n",
        "*   ModelCheckPoint\n",
        "*   EarlyStopping\n"
      ]
    },
    {
      "cell_type": "code",
      "metadata": {
        "id": "poQEwJ2L0ama"
      },
      "source": [
        "from keras.callbacks import EarlyStopping\n",
        "from keras.callbacks import ModelCheckpoint\n",
        "\n",
        "# generate 2d classification dataset\n",
        "(X_train, y_train), (X_test, y_test) = cifar10.load_data()\n",
        "\n",
        "# scale the data\n",
        "X_train = X_train.astype('float32')\n",
        "X_test = X_test.astype('float32')\n",
        "X_train = X_train / 255.0\n",
        "X_test = X_test / 255.0\n",
        "\n",
        "# One hot label encoding\n",
        "y_train = np_utils.to_categorical(y_train)\n",
        "y_test = np_utils.to_categorical(y_test)\n",
        "num_classes = y_test.shape[1]"
      ],
      "execution_count": 60,
      "outputs": []
    },
    {
      "cell_type": "code",
      "metadata": {
        "id": "pRIHxW3pwlpt"
      },
      "source": [
        "# Create model new model\n",
        "new_model = Sequential()\n",
        "new_model.add(Conv2D(32, (3, 3), input_shape=(X_train.shape[1:]), padding='same', activation='relu'))\n",
        "new_model.add(Dropout(0.2))\n",
        "new_model.add(Conv2D(32, (3, 3), activation='relu', padding='same'))\n",
        "new_model.add(MaxPooling2D(pool_size=(2, 2)))\n",
        "\n",
        "new_model.add(Conv2D(64, (3, 3), activation='relu', padding='same'))\n",
        "new_model.add(Dropout(0.2))\n",
        "new_model.add(Conv2D(64, (3, 3), activation='relu', padding='same'))\n",
        "new_model.add(MaxPooling2D(pool_size=(2, 2)))\n",
        "\n",
        "new_model.add(Conv2D(128, (3, 3), activation='relu', padding='same'))\n",
        "new_model.add(Dropout(0.2))\n",
        "new_model.add(Conv2D(128, (3, 3), activation='relu', padding='same'))\n",
        "new_model.add(Dropout(0.2))\n",
        "new_model.add(MaxPooling2D(pool_size=(2, 2)))\n",
        "\n",
        "new_model.add(Flatten())\n",
        "new_model.add(Dropout(0.2))\n",
        "new_model.add(Dense(1024, activation='relu', kernel_constraint=maxnorm(3)))\n",
        "new_model.add(Dropout(0.2))\n",
        "new_model.add(Dense(512, activation='relu'))\n",
        "new_model.add(Dropout(0.2))\n",
        "new_model.add(Dense(num_classes, activation='softmax'))"
      ],
      "execution_count": 61,
      "outputs": []
    },
    {
      "cell_type": "code",
      "metadata": {
        "id": "iSgZArtBwfAm"
      },
      "source": [
        "l_rate = 0.001\n",
        "sgd = Adam(learning_rate=l_rate)\n",
        "new_model.compile(loss='categorical_crossentropy', optimizer=sgd, metrics=['accuracy'])"
      ],
      "execution_count": 62,
      "outputs": []
    },
    {
      "cell_type": "markdown",
      "metadata": {
        "id": "153erMI00m1R"
      },
      "source": [
        "## Apply EarlyStopping and ModelCheckpoint callbacks and fit the new model"
      ]
    },
    {
      "cell_type": "code",
      "metadata": {
        "colab": {
          "base_uri": "https://localhost:8080/"
        },
        "id": "imx9RsVCwX5k",
        "outputId": "cd3cb355-3a31-4b75-eaf1-013bcc2b3658"
      },
      "source": [
        "# simple early stopping\n",
        "es = EarlyStopping(monitor='val_loss', mode='min', verbose=1, patience=50)\n",
        "\n",
        "# apply Model checkpointing\n",
        "mc = ModelCheckpoint('best_model.h5', monitor='val_accuracy', mode='max', verbose=1, save_best_only=True)\n",
        "\n",
        "# Fit the model\n",
        "new_model.fit(X_train, y_train, validation_data=(X_test, y_test), epochs=100, batch_size=128, verbose=1, callbacks=[es, mc])"
      ],
      "execution_count": 63,
      "outputs": [
        {
          "output_type": "stream",
          "text": [
            "Epoch 1/100\n",
            "391/391 [==============================] - 9s 19ms/step - loss: 2.0249 - accuracy: 0.2329 - val_loss: 1.4879 - val_accuracy: 0.4658\n",
            "\n",
            "Epoch 00001: val_accuracy improved from -inf to 0.46580, saving model to best_model.h5\n",
            "Epoch 2/100\n",
            "391/391 [==============================] - 7s 17ms/step - loss: 1.4556 - accuracy: 0.4636 - val_loss: 1.3033 - val_accuracy: 0.5400\n",
            "\n",
            "Epoch 00002: val_accuracy improved from 0.46580 to 0.54000, saving model to best_model.h5\n",
            "Epoch 3/100\n",
            "391/391 [==============================] - 7s 17ms/step - loss: 1.2458 - accuracy: 0.5532 - val_loss: 1.0756 - val_accuracy: 0.6248\n",
            "\n",
            "Epoch 00003: val_accuracy improved from 0.54000 to 0.62480, saving model to best_model.h5\n",
            "Epoch 4/100\n",
            "391/391 [==============================] - 7s 18ms/step - loss: 1.0492 - accuracy: 0.6225 - val_loss: 0.9896 - val_accuracy: 0.6490\n",
            "\n",
            "Epoch 00004: val_accuracy improved from 0.62480 to 0.64900, saving model to best_model.h5\n",
            "Epoch 5/100\n",
            "391/391 [==============================] - 7s 17ms/step - loss: 0.9225 - accuracy: 0.6719 - val_loss: 0.8785 - val_accuracy: 0.6939\n",
            "\n",
            "Epoch 00005: val_accuracy improved from 0.64900 to 0.69390, saving model to best_model.h5\n",
            "Epoch 6/100\n",
            "391/391 [==============================] - 7s 17ms/step - loss: 0.8209 - accuracy: 0.7093 - val_loss: 0.8070 - val_accuracy: 0.7113\n",
            "\n",
            "Epoch 00006: val_accuracy improved from 0.69390 to 0.71130, saving model to best_model.h5\n",
            "Epoch 7/100\n",
            "391/391 [==============================] - 7s 17ms/step - loss: 0.7461 - accuracy: 0.7371 - val_loss: 0.7473 - val_accuracy: 0.7430\n",
            "\n",
            "Epoch 00007: val_accuracy improved from 0.71130 to 0.74300, saving model to best_model.h5\n",
            "Epoch 8/100\n",
            "391/391 [==============================] - 7s 17ms/step - loss: 0.6964 - accuracy: 0.7534 - val_loss: 0.6972 - val_accuracy: 0.7649\n",
            "\n",
            "Epoch 00008: val_accuracy improved from 0.74300 to 0.76490, saving model to best_model.h5\n",
            "Epoch 9/100\n",
            "391/391 [==============================] - 7s 18ms/step - loss: 0.6431 - accuracy: 0.7753 - val_loss: 0.6917 - val_accuracy: 0.7651\n",
            "\n",
            "Epoch 00009: val_accuracy improved from 0.76490 to 0.76510, saving model to best_model.h5\n",
            "Epoch 10/100\n",
            "391/391 [==============================] - 7s 17ms/step - loss: 0.5974 - accuracy: 0.7903 - val_loss: 0.6648 - val_accuracy: 0.7736\n",
            "\n",
            "Epoch 00010: val_accuracy improved from 0.76510 to 0.77360, saving model to best_model.h5\n",
            "Epoch 11/100\n",
            "391/391 [==============================] - 7s 17ms/step - loss: 0.5634 - accuracy: 0.8019 - val_loss: 0.6529 - val_accuracy: 0.7780\n",
            "\n",
            "Epoch 00011: val_accuracy improved from 0.77360 to 0.77800, saving model to best_model.h5\n",
            "Epoch 12/100\n",
            "391/391 [==============================] - 7s 17ms/step - loss: 0.5330 - accuracy: 0.8139 - val_loss: 0.6274 - val_accuracy: 0.7817\n",
            "\n",
            "Epoch 00012: val_accuracy improved from 0.77800 to 0.78170, saving model to best_model.h5\n",
            "Epoch 13/100\n",
            "391/391 [==============================] - 6s 16ms/step - loss: 0.4968 - accuracy: 0.8235 - val_loss: 0.6169 - val_accuracy: 0.7900\n",
            "\n",
            "Epoch 00013: val_accuracy improved from 0.78170 to 0.79000, saving model to best_model.h5\n",
            "Epoch 14/100\n",
            "391/391 [==============================] - 6s 16ms/step - loss: 0.4704 - accuracy: 0.8302 - val_loss: 0.6617 - val_accuracy: 0.7749\n",
            "\n",
            "Epoch 00014: val_accuracy did not improve from 0.79000\n",
            "Epoch 15/100\n",
            "391/391 [==============================] - 6s 17ms/step - loss: 0.4650 - accuracy: 0.8330 - val_loss: 0.6230 - val_accuracy: 0.7853\n",
            "\n",
            "Epoch 00015: val_accuracy did not improve from 0.79000\n",
            "Epoch 16/100\n",
            "391/391 [==============================] - 7s 18ms/step - loss: 0.4330 - accuracy: 0.8426 - val_loss: 0.6099 - val_accuracy: 0.7945\n",
            "\n",
            "Epoch 00016: val_accuracy improved from 0.79000 to 0.79450, saving model to best_model.h5\n",
            "Epoch 17/100\n",
            "391/391 [==============================] - 7s 17ms/step - loss: 0.4224 - accuracy: 0.8496 - val_loss: 0.6584 - val_accuracy: 0.7833\n",
            "\n",
            "Epoch 00017: val_accuracy did not improve from 0.79450\n",
            "Epoch 18/100\n",
            "391/391 [==============================] - 7s 17ms/step - loss: 0.3958 - accuracy: 0.8595 - val_loss: 0.6160 - val_accuracy: 0.7964\n",
            "\n",
            "Epoch 00018: val_accuracy improved from 0.79450 to 0.79640, saving model to best_model.h5\n",
            "Epoch 19/100\n",
            "391/391 [==============================] - 7s 17ms/step - loss: 0.3716 - accuracy: 0.8685 - val_loss: 0.6186 - val_accuracy: 0.7907\n",
            "\n",
            "Epoch 00019: val_accuracy did not improve from 0.79640\n",
            "Epoch 20/100\n",
            "391/391 [==============================] - 6s 16ms/step - loss: 0.3747 - accuracy: 0.8673 - val_loss: 0.6038 - val_accuracy: 0.8004\n",
            "\n",
            "Epoch 00020: val_accuracy improved from 0.79640 to 0.80040, saving model to best_model.h5\n",
            "Epoch 21/100\n",
            "391/391 [==============================] - 6s 17ms/step - loss: 0.3539 - accuracy: 0.8736 - val_loss: 0.6019 - val_accuracy: 0.8000\n",
            "\n",
            "Epoch 00021: val_accuracy did not improve from 0.80040\n",
            "Epoch 22/100\n",
            "391/391 [==============================] - 7s 17ms/step - loss: 0.3369 - accuracy: 0.8775 - val_loss: 0.5929 - val_accuracy: 0.8060\n",
            "\n",
            "Epoch 00022: val_accuracy improved from 0.80040 to 0.80600, saving model to best_model.h5\n",
            "Epoch 23/100\n",
            "391/391 [==============================] - 7s 17ms/step - loss: 0.3298 - accuracy: 0.8851 - val_loss: 0.5911 - val_accuracy: 0.8110\n",
            "\n",
            "Epoch 00023: val_accuracy improved from 0.80600 to 0.81100, saving model to best_model.h5\n",
            "Epoch 24/100\n",
            "391/391 [==============================] - 7s 17ms/step - loss: 0.3239 - accuracy: 0.8837 - val_loss: 0.5890 - val_accuracy: 0.8128\n",
            "\n",
            "Epoch 00024: val_accuracy improved from 0.81100 to 0.81280, saving model to best_model.h5\n",
            "Epoch 25/100\n",
            "391/391 [==============================] - 6s 17ms/step - loss: 0.3163 - accuracy: 0.8859 - val_loss: 0.6263 - val_accuracy: 0.8032\n",
            "\n",
            "Epoch 00025: val_accuracy did not improve from 0.81280\n",
            "Epoch 26/100\n",
            "391/391 [==============================] - 7s 17ms/step - loss: 0.3158 - accuracy: 0.8892 - val_loss: 0.5938 - val_accuracy: 0.8047\n",
            "\n",
            "Epoch 00026: val_accuracy did not improve from 0.81280\n",
            "Epoch 27/100\n",
            "391/391 [==============================] - 7s 17ms/step - loss: 0.2907 - accuracy: 0.8963 - val_loss: 0.6286 - val_accuracy: 0.8019\n",
            "\n",
            "Epoch 00027: val_accuracy did not improve from 0.81280\n",
            "Epoch 28/100\n",
            "391/391 [==============================] - 7s 18ms/step - loss: 0.2969 - accuracy: 0.8934 - val_loss: 0.6020 - val_accuracy: 0.8107\n",
            "\n",
            "Epoch 00028: val_accuracy did not improve from 0.81280\n",
            "Epoch 29/100\n",
            "391/391 [==============================] - 7s 17ms/step - loss: 0.2882 - accuracy: 0.8989 - val_loss: 0.5970 - val_accuracy: 0.8118\n",
            "\n",
            "Epoch 00029: val_accuracy did not improve from 0.81280\n",
            "Epoch 30/100\n",
            "391/391 [==============================] - 6s 17ms/step - loss: 0.2777 - accuracy: 0.9015 - val_loss: 0.6462 - val_accuracy: 0.8030\n",
            "\n",
            "Epoch 00030: val_accuracy did not improve from 0.81280\n",
            "Epoch 31/100\n",
            "391/391 [==============================] - 6s 17ms/step - loss: 0.2786 - accuracy: 0.9022 - val_loss: 0.6500 - val_accuracy: 0.7972\n",
            "\n",
            "Epoch 00031: val_accuracy did not improve from 0.81280\n",
            "Epoch 32/100\n",
            "391/391 [==============================] - 7s 17ms/step - loss: 0.2756 - accuracy: 0.9014 - val_loss: 0.6208 - val_accuracy: 0.8079\n",
            "\n",
            "Epoch 00032: val_accuracy did not improve from 0.81280\n",
            "Epoch 33/100\n",
            "391/391 [==============================] - 6s 17ms/step - loss: 0.2638 - accuracy: 0.9081 - val_loss: 0.6136 - val_accuracy: 0.8051\n",
            "\n",
            "Epoch 00033: val_accuracy did not improve from 0.81280\n",
            "Epoch 34/100\n",
            "391/391 [==============================] - 6s 17ms/step - loss: 0.2516 - accuracy: 0.9129 - val_loss: 0.5978 - val_accuracy: 0.8126\n",
            "\n",
            "Epoch 00034: val_accuracy did not improve from 0.81280\n",
            "Epoch 35/100\n",
            "391/391 [==============================] - 6s 16ms/step - loss: 0.2537 - accuracy: 0.9124 - val_loss: 0.6068 - val_accuracy: 0.8122\n",
            "\n",
            "Epoch 00035: val_accuracy did not improve from 0.81280\n",
            "Epoch 36/100\n",
            "391/391 [==============================] - 7s 17ms/step - loss: 0.2512 - accuracy: 0.9108 - val_loss: 0.6145 - val_accuracy: 0.8105\n",
            "\n",
            "Epoch 00036: val_accuracy did not improve from 0.81280\n",
            "Epoch 37/100\n",
            "391/391 [==============================] - 7s 17ms/step - loss: 0.2483 - accuracy: 0.9132 - val_loss: 0.6159 - val_accuracy: 0.8119\n",
            "\n",
            "Epoch 00037: val_accuracy did not improve from 0.81280\n",
            "Epoch 38/100\n",
            "391/391 [==============================] - 7s 17ms/step - loss: 0.2435 - accuracy: 0.9134 - val_loss: 0.5896 - val_accuracy: 0.8180\n",
            "\n",
            "Epoch 00038: val_accuracy improved from 0.81280 to 0.81800, saving model to best_model.h5\n",
            "Epoch 39/100\n",
            "391/391 [==============================] - 7s 17ms/step - loss: 0.2403 - accuracy: 0.9151 - val_loss: 0.6416 - val_accuracy: 0.8044\n",
            "\n",
            "Epoch 00039: val_accuracy did not improve from 0.81800\n",
            "Epoch 40/100\n",
            "391/391 [==============================] - 7s 17ms/step - loss: 0.2424 - accuracy: 0.9131 - val_loss: 0.6178 - val_accuracy: 0.8156\n",
            "\n",
            "Epoch 00040: val_accuracy did not improve from 0.81800\n",
            "Epoch 41/100\n",
            "391/391 [==============================] - 7s 17ms/step - loss: 0.2372 - accuracy: 0.9152 - val_loss: 0.6227 - val_accuracy: 0.8095\n",
            "\n",
            "Epoch 00041: val_accuracy did not improve from 0.81800\n",
            "Epoch 42/100\n",
            "391/391 [==============================] - 7s 17ms/step - loss: 0.2309 - accuracy: 0.9196 - val_loss: 0.6140 - val_accuracy: 0.8172\n",
            "\n",
            "Epoch 00042: val_accuracy did not improve from 0.81800\n",
            "Epoch 43/100\n",
            "391/391 [==============================] - 7s 18ms/step - loss: 0.2325 - accuracy: 0.9184 - val_loss: 0.6009 - val_accuracy: 0.8151\n",
            "\n",
            "Epoch 00043: val_accuracy did not improve from 0.81800\n",
            "Epoch 44/100\n",
            "391/391 [==============================] - 7s 17ms/step - loss: 0.2215 - accuracy: 0.9227 - val_loss: 0.6242 - val_accuracy: 0.8039\n",
            "\n",
            "Epoch 00044: val_accuracy did not improve from 0.81800\n",
            "Epoch 45/100\n",
            "391/391 [==============================] - 7s 17ms/step - loss: 0.2295 - accuracy: 0.9199 - val_loss: 0.6518 - val_accuracy: 0.8039\n",
            "\n",
            "Epoch 00045: val_accuracy did not improve from 0.81800\n",
            "Epoch 46/100\n",
            "391/391 [==============================] - 6s 17ms/step - loss: 0.2279 - accuracy: 0.9212 - val_loss: 0.6182 - val_accuracy: 0.8163\n",
            "\n",
            "Epoch 00046: val_accuracy did not improve from 0.81800\n",
            "Epoch 47/100\n",
            "391/391 [==============================] - 7s 17ms/step - loss: 0.2114 - accuracy: 0.9250 - val_loss: 0.6223 - val_accuracy: 0.8157\n",
            "\n",
            "Epoch 00047: val_accuracy did not improve from 0.81800\n",
            "Epoch 48/100\n",
            "391/391 [==============================] - 7s 17ms/step - loss: 0.2184 - accuracy: 0.9236 - val_loss: 0.6354 - val_accuracy: 0.8066\n",
            "\n",
            "Epoch 00048: val_accuracy did not improve from 0.81800\n",
            "Epoch 49/100\n",
            "391/391 [==============================] - 7s 17ms/step - loss: 0.2234 - accuracy: 0.9214 - val_loss: 0.6565 - val_accuracy: 0.8030\n",
            "\n",
            "Epoch 00049: val_accuracy did not improve from 0.81800\n",
            "Epoch 50/100\n",
            "391/391 [==============================] - 7s 17ms/step - loss: 0.2344 - accuracy: 0.9212 - val_loss: 0.6368 - val_accuracy: 0.8101\n",
            "\n",
            "Epoch 00050: val_accuracy did not improve from 0.81800\n",
            "Epoch 51/100\n",
            "391/391 [==============================] - 7s 18ms/step - loss: 0.2169 - accuracy: 0.9244 - val_loss: 0.6084 - val_accuracy: 0.8124\n",
            "\n",
            "Epoch 00051: val_accuracy did not improve from 0.81800\n",
            "Epoch 52/100\n",
            "391/391 [==============================] - 7s 17ms/step - loss: 0.2196 - accuracy: 0.9234 - val_loss: 0.6174 - val_accuracy: 0.8147\n",
            "\n",
            "Epoch 00052: val_accuracy did not improve from 0.81800\n",
            "Epoch 53/100\n",
            "391/391 [==============================] - 7s 17ms/step - loss: 0.2139 - accuracy: 0.9255 - val_loss: 0.6249 - val_accuracy: 0.8165\n",
            "\n",
            "Epoch 00053: val_accuracy did not improve from 0.81800\n",
            "Epoch 54/100\n",
            "391/391 [==============================] - 7s 17ms/step - loss: 0.2120 - accuracy: 0.9244 - val_loss: 0.5801 - val_accuracy: 0.8285\n",
            "\n",
            "Epoch 00054: val_accuracy improved from 0.81800 to 0.82850, saving model to best_model.h5\n",
            "Epoch 55/100\n",
            "391/391 [==============================] - 7s 17ms/step - loss: 0.2124 - accuracy: 0.9267 - val_loss: 0.6357 - val_accuracy: 0.8105\n",
            "\n",
            "Epoch 00055: val_accuracy did not improve from 0.82850\n",
            "Epoch 56/100\n",
            "391/391 [==============================] - 7s 17ms/step - loss: 0.2188 - accuracy: 0.9244 - val_loss: 0.6162 - val_accuracy: 0.8144\n",
            "\n",
            "Epoch 00056: val_accuracy did not improve from 0.82850\n",
            "Epoch 57/100\n",
            "391/391 [==============================] - 7s 17ms/step - loss: 0.2080 - accuracy: 0.9274 - val_loss: 0.6257 - val_accuracy: 0.8177\n",
            "\n",
            "Epoch 00057: val_accuracy did not improve from 0.82850\n",
            "Epoch 58/100\n",
            "391/391 [==============================] - 7s 17ms/step - loss: 0.2002 - accuracy: 0.9327 - val_loss: 0.5775 - val_accuracy: 0.8210\n",
            "\n",
            "Epoch 00058: val_accuracy did not improve from 0.82850\n",
            "Epoch 59/100\n",
            "391/391 [==============================] - 7s 17ms/step - loss: 0.1951 - accuracy: 0.9318 - val_loss: 0.6303 - val_accuracy: 0.8125\n",
            "\n",
            "Epoch 00059: val_accuracy did not improve from 0.82850\n",
            "Epoch 60/100\n",
            "391/391 [==============================] - 7s 18ms/step - loss: 0.2121 - accuracy: 0.9275 - val_loss: 0.6049 - val_accuracy: 0.8205\n",
            "\n",
            "Epoch 00060: val_accuracy did not improve from 0.82850\n",
            "Epoch 61/100\n",
            "391/391 [==============================] - 7s 18ms/step - loss: 0.2072 - accuracy: 0.9307 - val_loss: 0.6113 - val_accuracy: 0.8209\n",
            "\n",
            "Epoch 00061: val_accuracy did not improve from 0.82850\n",
            "Epoch 62/100\n",
            "391/391 [==============================] - 7s 18ms/step - loss: 0.2040 - accuracy: 0.9293 - val_loss: 0.6171 - val_accuracy: 0.8191\n",
            "\n",
            "Epoch 00062: val_accuracy did not improve from 0.82850\n",
            "Epoch 63/100\n",
            "391/391 [==============================] - 7s 17ms/step - loss: 0.1944 - accuracy: 0.9335 - val_loss: 0.6044 - val_accuracy: 0.8202\n",
            "\n",
            "Epoch 00063: val_accuracy did not improve from 0.82850\n",
            "Epoch 64/100\n",
            "391/391 [==============================] - 7s 18ms/step - loss: 0.1957 - accuracy: 0.9334 - val_loss: 0.6287 - val_accuracy: 0.8113\n",
            "\n",
            "Epoch 00064: val_accuracy did not improve from 0.82850\n",
            "Epoch 65/100\n",
            "391/391 [==============================] - 7s 17ms/step - loss: 0.1999 - accuracy: 0.9333 - val_loss: 0.6249 - val_accuracy: 0.8167\n",
            "\n",
            "Epoch 00065: val_accuracy did not improve from 0.82850\n",
            "Epoch 66/100\n",
            "391/391 [==============================] - 7s 17ms/step - loss: 0.1976 - accuracy: 0.9320 - val_loss: 0.5981 - val_accuracy: 0.8204\n",
            "\n",
            "Epoch 00066: val_accuracy did not improve from 0.82850\n",
            "Epoch 67/100\n",
            "391/391 [==============================] - 7s 17ms/step - loss: 0.1938 - accuracy: 0.9323 - val_loss: 0.6063 - val_accuracy: 0.8246\n",
            "\n",
            "Epoch 00067: val_accuracy did not improve from 0.82850\n",
            "Epoch 68/100\n",
            "391/391 [==============================] - 7s 18ms/step - loss: 0.1966 - accuracy: 0.9320 - val_loss: 0.6092 - val_accuracy: 0.8161\n",
            "\n",
            "Epoch 00068: val_accuracy did not improve from 0.82850\n",
            "Epoch 69/100\n",
            "391/391 [==============================] - 7s 17ms/step - loss: 0.1927 - accuracy: 0.9319 - val_loss: 0.6348 - val_accuracy: 0.8175\n",
            "\n",
            "Epoch 00069: val_accuracy did not improve from 0.82850\n",
            "Epoch 70/100\n",
            "391/391 [==============================] - 7s 17ms/step - loss: 0.1912 - accuracy: 0.9350 - val_loss: 0.6253 - val_accuracy: 0.8145\n",
            "\n",
            "Epoch 00070: val_accuracy did not improve from 0.82850\n",
            "Epoch 71/100\n",
            "391/391 [==============================] - 7s 17ms/step - loss: 0.1899 - accuracy: 0.9348 - val_loss: 0.6227 - val_accuracy: 0.8156\n",
            "\n",
            "Epoch 00071: val_accuracy did not improve from 0.82850\n",
            "Epoch 72/100\n",
            "391/391 [==============================] - 7s 18ms/step - loss: 0.1892 - accuracy: 0.9338 - val_loss: 0.6214 - val_accuracy: 0.8202\n",
            "\n",
            "Epoch 00072: val_accuracy did not improve from 0.82850\n",
            "Epoch 73/100\n",
            "391/391 [==============================] - 7s 18ms/step - loss: 0.1913 - accuracy: 0.9337 - val_loss: 0.6294 - val_accuracy: 0.8193\n",
            "\n",
            "Epoch 00073: val_accuracy did not improve from 0.82850\n",
            "Epoch 74/100\n",
            "391/391 [==============================] - 7s 17ms/step - loss: 0.1996 - accuracy: 0.9324 - val_loss: 0.6602 - val_accuracy: 0.8085\n",
            "\n",
            "Epoch 00074: val_accuracy did not improve from 0.82850\n",
            "Epoch 75/100\n",
            "391/391 [==============================] - 7s 17ms/step - loss: 0.1953 - accuracy: 0.9333 - val_loss: 0.6217 - val_accuracy: 0.8228\n",
            "\n",
            "Epoch 00075: val_accuracy did not improve from 0.82850\n",
            "Epoch 76/100\n",
            "391/391 [==============================] - 7s 17ms/step - loss: 0.1960 - accuracy: 0.9345 - val_loss: 0.6170 - val_accuracy: 0.8198\n",
            "\n",
            "Epoch 00076: val_accuracy did not improve from 0.82850\n",
            "Epoch 77/100\n",
            "391/391 [==============================] - 7s 17ms/step - loss: 0.1864 - accuracy: 0.9369 - val_loss: 0.5998 - val_accuracy: 0.8193\n",
            "\n",
            "Epoch 00077: val_accuracy did not improve from 0.82850\n",
            "Epoch 78/100\n",
            "391/391 [==============================] - 7s 17ms/step - loss: 0.1911 - accuracy: 0.9344 - val_loss: 0.6402 - val_accuracy: 0.8093\n",
            "\n",
            "Epoch 00078: val_accuracy did not improve from 0.82850\n",
            "Epoch 79/100\n",
            "391/391 [==============================] - 7s 17ms/step - loss: 0.1930 - accuracy: 0.9339 - val_loss: 0.6207 - val_accuracy: 0.8174\n",
            "\n",
            "Epoch 00079: val_accuracy did not improve from 0.82850\n",
            "Epoch 80/100\n",
            "391/391 [==============================] - 7s 18ms/step - loss: 0.1827 - accuracy: 0.9370 - val_loss: 0.6445 - val_accuracy: 0.8186\n",
            "\n",
            "Epoch 00080: val_accuracy did not improve from 0.82850\n",
            "Epoch 81/100\n",
            "391/391 [==============================] - 7s 17ms/step - loss: 0.1889 - accuracy: 0.9361 - val_loss: 0.6148 - val_accuracy: 0.8188\n",
            "\n",
            "Epoch 00081: val_accuracy did not improve from 0.82850\n",
            "Epoch 82/100\n",
            "391/391 [==============================] - 7s 17ms/step - loss: 0.1901 - accuracy: 0.9363 - val_loss: 0.6306 - val_accuracy: 0.8172\n",
            "\n",
            "Epoch 00082: val_accuracy did not improve from 0.82850\n",
            "Epoch 83/100\n",
            "391/391 [==============================] - 7s 17ms/step - loss: 0.1785 - accuracy: 0.9386 - val_loss: 0.5864 - val_accuracy: 0.8267\n",
            "\n",
            "Epoch 00083: val_accuracy did not improve from 0.82850\n",
            "Epoch 84/100\n",
            "391/391 [==============================] - 7s 18ms/step - loss: 0.1871 - accuracy: 0.9378 - val_loss: 0.6359 - val_accuracy: 0.8132\n",
            "\n",
            "Epoch 00084: val_accuracy did not improve from 0.82850\n",
            "Epoch 85/100\n",
            "391/391 [==============================] - 7s 18ms/step - loss: 0.1939 - accuracy: 0.9343 - val_loss: 0.6068 - val_accuracy: 0.8221\n",
            "\n",
            "Epoch 00085: val_accuracy did not improve from 0.82850\n",
            "Epoch 86/100\n",
            "391/391 [==============================] - 7s 17ms/step - loss: 0.1755 - accuracy: 0.9388 - val_loss: 0.6641 - val_accuracy: 0.8121\n",
            "\n",
            "Epoch 00086: val_accuracy did not improve from 0.82850\n",
            "Epoch 87/100\n",
            "391/391 [==============================] - 7s 17ms/step - loss: 0.1978 - accuracy: 0.9339 - val_loss: 0.6043 - val_accuracy: 0.8226\n",
            "\n",
            "Epoch 00087: val_accuracy did not improve from 0.82850\n",
            "Epoch 88/100\n",
            "391/391 [==============================] - 7s 18ms/step - loss: 0.1848 - accuracy: 0.9383 - val_loss: 0.6243 - val_accuracy: 0.8219\n",
            "\n",
            "Epoch 00088: val_accuracy did not improve from 0.82850\n",
            "Epoch 89/100\n",
            "391/391 [==============================] - 7s 17ms/step - loss: 0.1859 - accuracy: 0.9346 - val_loss: 0.6127 - val_accuracy: 0.8208\n",
            "\n",
            "Epoch 00089: val_accuracy did not improve from 0.82850\n",
            "Epoch 90/100\n",
            "391/391 [==============================] - 7s 17ms/step - loss: 0.1876 - accuracy: 0.9375 - val_loss: 0.5982 - val_accuracy: 0.8193\n",
            "\n",
            "Epoch 00090: val_accuracy did not improve from 0.82850\n",
            "Epoch 91/100\n",
            "391/391 [==============================] - 6s 17ms/step - loss: 0.1858 - accuracy: 0.9373 - val_loss: 0.6246 - val_accuracy: 0.8199\n",
            "\n",
            "Epoch 00091: val_accuracy did not improve from 0.82850\n",
            "Epoch 92/100\n",
            "391/391 [==============================] - 7s 17ms/step - loss: 0.1754 - accuracy: 0.9413 - val_loss: 0.6096 - val_accuracy: 0.8231\n",
            "\n",
            "Epoch 00092: val_accuracy did not improve from 0.82850\n",
            "Epoch 93/100\n",
            "391/391 [==============================] - 7s 17ms/step - loss: 0.1763 - accuracy: 0.9409 - val_loss: 0.6175 - val_accuracy: 0.8152\n",
            "\n",
            "Epoch 00093: val_accuracy did not improve from 0.82850\n",
            "Epoch 94/100\n",
            "391/391 [==============================] - 7s 18ms/step - loss: 0.1841 - accuracy: 0.9389 - val_loss: 0.6458 - val_accuracy: 0.8109\n",
            "\n",
            "Epoch 00094: val_accuracy did not improve from 0.82850\n",
            "Epoch 95/100\n",
            "391/391 [==============================] - 7s 17ms/step - loss: 0.1730 - accuracy: 0.9412 - val_loss: 0.6239 - val_accuracy: 0.8193\n",
            "\n",
            "Epoch 00095: val_accuracy did not improve from 0.82850\n",
            "Epoch 96/100\n",
            "391/391 [==============================] - 7s 17ms/step - loss: 0.1828 - accuracy: 0.9368 - val_loss: 0.6117 - val_accuracy: 0.8196\n",
            "\n",
            "Epoch 00096: val_accuracy did not improve from 0.82850\n",
            "Epoch 97/100\n",
            "391/391 [==============================] - 7s 18ms/step - loss: 0.1798 - accuracy: 0.9392 - val_loss: 0.5923 - val_accuracy: 0.8243\n",
            "\n",
            "Epoch 00097: val_accuracy did not improve from 0.82850\n",
            "Epoch 98/100\n",
            "391/391 [==============================] - 7s 17ms/step - loss: 0.1822 - accuracy: 0.9393 - val_loss: 0.6161 - val_accuracy: 0.8195\n",
            "\n",
            "Epoch 00098: val_accuracy did not improve from 0.82850\n",
            "Epoch 99/100\n",
            "391/391 [==============================] - 7s 17ms/step - loss: 0.1757 - accuracy: 0.9415 - val_loss: 0.6081 - val_accuracy: 0.8197\n",
            "\n",
            "Epoch 00099: val_accuracy did not improve from 0.82850\n",
            "Epoch 100/100\n",
            "391/391 [==============================] - 7s 17ms/step - loss: 0.1932 - accuracy: 0.9353 - val_loss: 0.6175 - val_accuracy: 0.8197\n",
            "\n",
            "Epoch 00100: val_accuracy did not improve from 0.82850\n"
          ],
          "name": "stdout"
        },
        {
          "output_type": "execute_result",
          "data": {
            "text/plain": [
              "<keras.callbacks.History at 0x7f3550208d90>"
            ]
          },
          "metadata": {
            "tags": []
          },
          "execution_count": 63
        }
      ]
    },
    {
      "cell_type": "code",
      "metadata": {
        "id": "jRxEQ6g4wQni"
      },
      "source": [
        "# load the saved model\n",
        "saved_model = load_model('best_model.h5')"
      ],
      "execution_count": 64,
      "outputs": []
    },
    {
      "cell_type": "markdown",
      "metadata": {
        "id": "BesdlfuC04Qf"
      },
      "source": [
        "## Final Model evaluation with the use of callbacks"
      ]
    },
    {
      "cell_type": "code",
      "metadata": {
        "colab": {
          "base_uri": "https://localhost:8080/"
        },
        "id": "F4EX-PXpwSWn",
        "outputId": "d9f4fc9a-c035-477e-e9fd-ce266647af00"
      },
      "source": [
        "# evaluate the model\n",
        "_, train_acc = saved_model.evaluate(X_train, y_train, verbose=0)\n",
        "_, test_acc = saved_model.evaluate(X_test, y_test, verbose=0)\n",
        "\n",
        "print('Training Accuracy: %.3f, Testing Accuracy: %.3f' % (train_acc*100, test_acc*100))"
      ],
      "execution_count": 69,
      "outputs": [
        {
          "output_type": "stream",
          "text": [
            "Training Accuracy: 99.272, Testing Accuracy: 81.970\n"
          ],
          "name": "stdout"
        }
      ]
    }
  ]
}
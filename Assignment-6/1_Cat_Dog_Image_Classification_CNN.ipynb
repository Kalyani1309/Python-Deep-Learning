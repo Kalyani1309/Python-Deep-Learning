{
 "cells": [
  {
   "cell_type": "markdown",
   "metadata": {
    "id": "pWnbnDd1AqwK"
   },
   "source": [
    "# CNN model for Cat and Dog data\n"
   ]
  },
  {
   "cell_type": "code",
   "execution_count": 12,
   "metadata": {
    "id": "iYpSkpfkAJ9c"
   },
   "outputs": [],
   "source": [
    "import numpy as np\n",
    "import matplotlib.pyplot as plt\n",
    "from keras.datasets import cifar10\n",
    "from keras.models import Sequential\n",
    "from keras.layers import Dense, Flatten, Dropout, Input, BatchNormalization\n",
    "from keras.constraints import maxnorm\n",
    "from keras.models import Model\n",
    "from keras.models import load_model\n",
    "from keras.optimizers import SGD, Adam\n",
    "from keras.layers.convolutional import Conv2D, MaxPooling2D\n",
    "from keras.utils import np_utils\n",
    "from keras import backend as K\n",
    "import os\n",
    "from tqdm import tqdm\n",
    "import random\n",
    "import tensorflow as tf\n",
    "from tensorflow.keras.optimizers import RMSprop\n",
    "from tensorflow.keras.preprocessing.image import ImageDataGenerator\n",
    "from shutil import copyfile"
   ]
  },
  {
   "cell_type": "markdown",
   "metadata": {
    "id": "yOs8idzGEUYw"
   },
   "source": [
    "# 5. Build your own dataset by collecting images from the internet for example:\n",
    "- Transportation images (Airplanes, Trains, Cars, ..)\n",
    "- Animals (Cats, Dogs, ..)"
   ]
  },
  {
   "cell_type": "code",
   "execution_count": 14,
   "metadata": {},
   "outputs": [
    {
     "name": "stdout",
     "output_type": "stream",
     "text": [
      "666.jpg is zero length, so ignoring.\n",
      "11702.jpg is zero length, so ignoring.\n"
     ]
    }
   ],
   "source": [
    "def split_data(SOURCE, TRAINING, TESTING, SPLIT_SIZE):\n",
    "    files = []\n",
    "    for filename in os.listdir(SOURCE):\n",
    "        file = SOURCE + filename\n",
    "        if os.path.getsize(file) > 0:\n",
    "            files.append(filename)\n",
    "        else:\n",
    "            print(filename + \" is zero length, so ignoring.\")\n",
    "\n",
    "    training_length = int(len(files) * SPLIT_SIZE)\n",
    "    testing_length = int(len(files) - training_length)\n",
    "    shuffled_set = random.sample(files, len(files))\n",
    "    training_set = shuffled_set[0:training_length]\n",
    "    testing_set = shuffled_set[-testing_length:]\n",
    "\n",
    "    for filename in training_set:\n",
    "        this_file = SOURCE + filename\n",
    "        destination = TRAINING + filename\n",
    "        copyfile(this_file, destination)\n",
    "\n",
    "    for filename in testing_set:\n",
    "        this_file = SOURCE + filename\n",
    "        destination = TESTING + filename\n",
    "        copyfile(this_file, destination)\n",
    "\n",
    "\n",
    "CAT_SOURCE_DIR = \"C:\\\\Users\\\\nikur\\\\OneDrive\\\\Desktop\\\\01 Python and Deep Learning Programming\\\\Assignment 6\\\\Part 1\\\\PetImages\\\\Cat\\\\\"\n",
    "TRAINING_CATS_DIR = \"C:\\\\Users\\\\nikur\\\\OneDrive\\\\Desktop\\\\01 Python and Deep Learning Programming\\\\Assignment 6\\\\Part 1\\\\cats-v-dogs\\\\training\\\\cats\\\\\"\n",
    "TESTING_CATS_DIR = \"C:\\\\Users\\\\nikur\\\\OneDrive\\\\Desktop\\\\01 Python and Deep Learning Programming\\\\Assignment 6\\\\Part 1\\\\cats-v-dogs\\\\testing\\\\cats\\\\\"\n",
    "DOG_SOURCE_DIR = \"C:\\\\Users\\\\nikur\\\\OneDrive\\\\Desktop\\\\01 Python and Deep Learning Programming\\\\Assignment 6\\\\Part 1\\\\PetImages\\\\Dog\\\\\"\n",
    "TRAINING_DOGS_DIR = \"C:\\\\Users\\\\nikur\\\\OneDrive\\\\Desktop\\\\01 Python and Deep Learning Programming\\\\Assignment 6\\\\Part 1\\\\cats-v-dogs\\\\training\\\\dogs\\\\\"\n",
    "TESTING_DOGS_DIR = \"C:\\\\Users\\\\nikur\\\\OneDrive\\\\Desktop\\\\01 Python and Deep Learning Programming\\\\Assignment 6\\\\Part 1\\\\cats-v-dogs\\\\testing\\\\dogs\\\\\"\n",
    "\n",
    "split_size = .9\n",
    "split_data(CAT_SOURCE_DIR, TRAINING_CATS_DIR, TESTING_CATS_DIR, split_size)\n",
    "split_data(DOG_SOURCE_DIR, TRAINING_DOGS_DIR, TESTING_DOGS_DIR, split_size)"
   ]
  },
  {
   "cell_type": "code",
   "execution_count": 15,
   "metadata": {},
   "outputs": [
    {
     "name": "stdout",
     "output_type": "stream",
     "text": [
      "11250\n",
      "1250\n",
      "11250\n",
      "1250\n"
     ]
    }
   ],
   "source": [
    "print(len(os.listdir(TRAINING_CATS_DIR)))\n",
    "print(len(os.listdir(TESTING_CATS_DIR)))\n",
    "print(len(os.listdir(TRAINING_DOGS_DIR)))\n",
    "print(len(os.listdir(TESTING_DOGS_DIR)))"
   ]
  },
  {
   "cell_type": "code",
   "execution_count": 30,
   "metadata": {},
   "outputs": [
    {
     "name": "stdout",
     "output_type": "stream",
     "text": [
      "Found 22498 images belonging to 2 classes.\n",
      "Found 2500 images belonging to 2 classes.\n"
     ]
    }
   ],
   "source": [
    "TRAINING_DIR = \"C:\\\\Users\\\\nikur\\\\OneDrive\\\\Desktop\\\\01 Python and Deep Learning Programming\\\\Assignment 6\\\\Part 1\\\\cats-v-dogs\\\\training\\\\\"\n",
    "train_datagen = ImageDataGenerator(rescale=1.0/255.)\n",
    "train_data = train_datagen.flow_from_directory(TRAINING_DIR,\n",
    "                                                    batch_size=100,\n",
    "                                                    class_mode='binary',\n",
    "                                                    target_size=(150, 150))\n",
    "\n",
    "VALIDATION_DIR = \"C:\\\\Users\\\\nikur\\\\OneDrive\\\\Desktop\\\\01 Python and Deep Learning Programming\\\\Assignment 6\\\\Part 1\\\\cats-v-dogs\\\\testing\\\\\"\n",
    "validation_datagen = ImageDataGenerator(rescale=1.0/255.)\n",
    "test_data = validation_datagen.flow_from_directory(VALIDATION_DIR,\n",
    "                                                              batch_size=100,\n",
    "                                                              class_mode='binary',\n",
    "                                                              target_size=(150, 150))"
   ]
  },
  {
   "cell_type": "markdown",
   "metadata": {
    "id": "IyKjBujpEfPJ"
   },
   "source": [
    "## 5.1 Train the model on your dataset and report the accuracy."
   ]
  },
  {
   "cell_type": "code",
   "execution_count": 31,
   "metadata": {
    "id": "g6TXRp64EmTc"
   },
   "outputs": [],
   "source": [
    "image_model = tf.keras.models.Sequential([\n",
    "    tf.keras.layers.Conv2D(16, (3, 3), activation='relu', input_shape=(150, 150, 3)),\n",
    "    tf.keras.layers.MaxPooling2D(2, 2),\n",
    "    \n",
    "    tf.keras.layers.Conv2D(32, (3, 3), activation='relu'),\n",
    "    tf.keras.layers.MaxPooling2D(2, 2),\n",
    "    \n",
    "    tf.keras.layers.Conv2D(64, (3, 3), activation='relu'),\n",
    "    tf.keras.layers.MaxPooling2D(2, 2),\n",
    "    \n",
    "    tf.keras.layers.Flatten(),\n",
    "    tf.keras.layers.Dense(512, activation='relu'),\n",
    "    tf.keras.layers.Dense(1, activation='sigmoid')\n",
    "])\n",
    "\n",
    "image_model.compile(optimizer=RMSprop(learning_rate=0.001), loss='binary_crossentropy', metrics=['accuracy'])"
   ]
  },
  {
   "cell_type": "code",
   "execution_count": 32,
   "metadata": {},
   "outputs": [
    {
     "name": "stdout",
     "output_type": "stream",
     "text": [
      "Epoch 1/10\n",
      "225/225 [==============================] - 915s 4s/step - loss: 0.6855 - accuracy: 0.6257 - val_loss: 0.6484 - val_accuracy: 0.6460\n",
      "Epoch 2/10\n",
      "225/225 [==============================] - 603s 3s/step - loss: 0.5223 - accuracy: 0.7379 - val_loss: 0.5158 - val_accuracy: 0.7372\n",
      "Epoch 3/10\n",
      "225/225 [==============================] - 410s 2s/step - loss: 0.4503 - accuracy: 0.7875 - val_loss: 0.4567 - val_accuracy: 0.7836\n",
      "Epoch 4/10\n",
      "225/225 [==============================] - 433s 2s/step - loss: 0.3953 - accuracy: 0.8223 - val_loss: 0.4139 - val_accuracy: 0.8004\n",
      "Epoch 5/10\n",
      "225/225 [==============================] - 406s 2s/step - loss: 0.3328 - accuracy: 0.8549 - val_loss: 0.5061 - val_accuracy: 0.7572\n",
      "Epoch 6/10\n",
      "225/225 [==============================] - 413s 2s/step - loss: 0.2740 - accuracy: 0.8844 - val_loss: 0.3987 - val_accuracy: 0.8204\n",
      "Epoch 7/10\n",
      "225/225 [==============================] - 605s 3s/step - loss: 0.2104 - accuracy: 0.9160 - val_loss: 0.4227 - val_accuracy: 0.8196\n",
      "Epoch 8/10\n",
      "225/225 [==============================] - 631s 3s/step - loss: 0.1552 - accuracy: 0.9387 - val_loss: 0.4455 - val_accuracy: 0.8284\n",
      "Epoch 9/10\n",
      "225/225 [==============================] - 642s 3s/step - loss: 0.1035 - accuracy: 0.9631 - val_loss: 0.6311 - val_accuracy: 0.8108\n",
      "Epoch 10/10\n",
      "225/225 [==============================] - 300s 1s/step - loss: 0.0761 - accuracy: 0.9742 - val_loss: 0.7273 - val_accuracy: 0.7968\n"
     ]
    }
   ],
   "source": [
    "history = image_model.fit(train_data, epochs=10, verbose=1, validation_data=test_data)"
   ]
  },
  {
   "cell_type": "markdown",
   "metadata": {},
   "source": [
    "## Model accuracy"
   ]
  },
  {
   "cell_type": "code",
   "execution_count": 35,
   "metadata": {},
   "outputs": [],
   "source": [
    "# Save the model\n",
    "image_model.save('image_model.h5')\n",
    "\n",
    "# Loading the model\n",
    "image_saved_model = load_model('image_model.h5')"
   ]
  },
  {
   "cell_type": "code",
   "execution_count": 38,
   "metadata": {},
   "outputs": [
    {
     "name": "stdout",
     "output_type": "stream",
     "text": [
      "Test Accuracy for Image classification model: 79.68%\n"
     ]
    }
   ],
   "source": [
    "# Model evaluation\n",
    "scores = image_model.evaluate(test_data, verbose=0)\n",
    "print(\"Test Accuracy for Image classification model: %.2f%%\" % (scores[1]*100))"
   ]
  },
  {
   "cell_type": "markdown",
   "metadata": {
    "id": "HkOowGf3Efmb"
   },
   "source": [
    "## 5.2 Plot the training and validation accuracy."
   ]
  },
  {
   "cell_type": "code",
   "execution_count": 39,
   "metadata": {
    "id": "a2hBtQ3JEnOf"
   },
   "outputs": [
    {
     "data": {
      "image/png": "[encoded data removed]",
      "text/plain": [
       "<Figure size 432x288 with 1 Axes>"
      ]
     },
     "metadata": {
      "needs_background": "light"
     },
     "output_type": "display_data"
    }
   ],
   "source": [
    "plt.plot(history.history['accuracy'])\n",
    "plt.plot(history.history['val_accuracy'])\n",
    "plt.title('Plot of Model Accuracy on Train and Validation Datasets')\n",
    "plt.ylabel('Accuracy')\n",
    "plt.xlabel('Epoch')\n",
    "plt.legend(['train', 'test'], loc='upper left')\n",
    "plt.show()"
   ]
  }
 ],
 "metadata": {
  "accelerator": "GPU",
  "colab": {
   "collapsed_sections": [],
   "name": "Cat_Dog_Image_Classification_CNN.ipynb",
   "provenance": []
  },
  "kernelspec": {
   "display_name": "Python 3",
   "language": "python",
   "name": "python3"
  },
  "language_info": {
   "codemirror_mode": {
    "name": "ipython",
    "version": 3
   },
   "file_extension": ".py",
   "mimetype": "text/x-python",
   "name": "python",
   "nbconvert_exporter": "python",
   "pygments_lexer": "ipython3",
   "version": "3.8.5"
  }
 },
 "nbformat": 4,
 "nbformat_minor": 1
}
